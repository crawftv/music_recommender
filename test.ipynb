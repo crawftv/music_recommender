{
 "cells": [
  {
   "cell_type": "code",
   "execution_count": 1,
   "metadata": {},
   "outputs": [],
   "source": [
    "import pandas as pd"
   ]
  },
  {
   "cell_type": "code",
   "execution_count": 3,
   "metadata": {},
   "outputs": [],
   "source": [
    "df  = pd.read_csv(\"test_songs.csv\")"
   ]
  },
  {
   "cell_type": "code",
   "execution_count": 4,
   "metadata": {},
   "outputs": [
    {
     "data": {
      "text/html": [
       "<div>\n",
       "<style scoped>\n",
       "    .dataframe tbody tr th:only-of-type {\n",
       "        vertical-align: middle;\n",
       "    }\n",
       "\n",
       "    .dataframe tbody tr th {\n",
       "        vertical-align: top;\n",
       "    }\n",
       "\n",
       "    .dataframe thead th {\n",
       "        text-align: right;\n",
       "    }\n",
       "</style>\n",
       "<table border=\"1\" class=\"dataframe\">\n",
       "  <thead>\n",
       "    <tr style=\"text-align: right;\">\n",
       "      <th></th>\n",
       "      <th>track</th>\n",
       "      <th>artist</th>\n",
       "      <th>genius_track</th>\n",
       "      <th>genius_artist</th>\n",
       "      <th>lyrics</th>\n",
       "    </tr>\n",
       "  </thead>\n",
       "  <tbody>\n",
       "    <tr>\n",
       "      <th>0</th>\n",
       "      <td>\"Yuck!\"  (featuring  Lil Wayne )</td>\n",
       "      <td>2 Chainz</td>\n",
       "      <td>yuck</td>\n",
       "      <td>2-chainz</td>\n",
       "      <td>['Yuck daddy', 'Yuck daddy', 'Cut the top off,...</td>\n",
       "    </tr>\n",
       "    <tr>\n",
       "      <th>1</th>\n",
       "      <td>\"Crack\"</td>\n",
       "      <td>2 Chainz</td>\n",
       "      <td>crack</td>\n",
       "      <td>2-chainz</td>\n",
       "      <td>[\"Hey Jack, start that beat from the ti'nop\", ...</td>\n",
       "    </tr>\n",
       "    <tr>\n",
       "      <th>2</th>\n",
       "      <td>\"Dope Peddler\"</td>\n",
       "      <td>2 Chainz</td>\n",
       "      <td>dope-peddler</td>\n",
       "      <td>2-chainz</td>\n",
       "      <td>['Every evening you will find him around our n...</td>\n",
       "    </tr>\n",
       "    <tr>\n",
       "      <th>3</th>\n",
       "      <td>\" No Lie \"  (featuring  Drake )</td>\n",
       "      <td>2 Chainz</td>\n",
       "      <td>no-lie</td>\n",
       "      <td>2-chainz</td>\n",
       "      <td>['EarDrummers, Mike WiLL Made-It', 'Yah! T.R.U...</td>\n",
       "    </tr>\n",
       "    <tr>\n",
       "      <th>4</th>\n",
       "      <td>\" Birthday Song \"  (featuring  Kanye West )</td>\n",
       "      <td>2 Chainz</td>\n",
       "      <td>birthday-song</td>\n",
       "      <td>2-chainz</td>\n",
       "      <td>[\"Yeah birthday, it's your birthday\", 'If I di...</td>\n",
       "    </tr>\n",
       "  </tbody>\n",
       "</table>\n",
       "</div>"
      ],
      "text/plain": [
       "                                            track    artist   genius_track  \\\n",
       "0              \"Yuck!\"  (featuring  Lil Wayne )    2 Chainz           yuck   \n",
       "1                                        \"Crack\"   2 Chainz          crack   \n",
       "2                                 \"Dope Peddler\"   2 Chainz   dope-peddler   \n",
       "3               \" No Lie \"  (featuring  Drake )    2 Chainz         no-lie   \n",
       "4   \" Birthday Song \"  (featuring  Kanye West )    2 Chainz  birthday-song   \n",
       "\n",
       "  genius_artist                                             lyrics  \n",
       "0      2-chainz  ['Yuck daddy', 'Yuck daddy', 'Cut the top off,...  \n",
       "1      2-chainz  [\"Hey Jack, start that beat from the ti'nop\", ...  \n",
       "2      2-chainz  ['Every evening you will find him around our n...  \n",
       "3      2-chainz  ['EarDrummers, Mike WiLL Made-It', 'Yah! T.R.U...  \n",
       "4      2-chainz  [\"Yeah birthday, it's your birthday\", 'If I di...  "
      ]
     },
     "execution_count": 4,
     "metadata": {},
     "output_type": "execute_result"
    }
   ],
   "source": [
    "df.head()"
   ]
  },
  {
   "cell_type": "code",
   "execution_count": 17,
   "metadata": {},
   "outputs": [],
   "source": [
    "import pickle\n",
    "with open ('test_lyrics', 'rb') as fp:\n",
    "    itemlist = pickle.load(fp)"
   ]
  },
  {
   "cell_type": "code",
   "execution_count": 18,
   "metadata": {},
   "outputs": [],
   "source": [
    "df = itemlist"
   ]
  },
  {
   "cell_type": "code",
   "execution_count": 19,
   "metadata": {},
   "outputs": [
    {
     "data": {
      "text/plain": [
       "['Yuck daddy',\n",
       " 'Yuck daddy',\n",
       " 'Cut the top off, call it Amber Rose',\n",
       " 'Just bought a big body, time to paint the toes',\n",
       " 'Known to act a donkey on the camel-toe',\n",
       " 'Then take the camel-toe and turn it into casserole',\n",
       " '2 Chainz talking on the FLX phone',\n",
       " 'Poof, just like that the whole check gone',\n",
       " 'Former Posturepedic I was slept on',\n",
       " 'So many chains on it look like my neck gone',\n",
       " 'My girl came through and brought an extra body',\n",
       " \"Now that's an after party for the after party\",\n",
       " 'Two-gun gang, all-black Ferrari',\n",
       " 'His and her Armani, put it in her tummy',\n",
       " 'And yeah, the bread good if the head good',\n",
       " \"Before Benihana's it was canned goods\",\n",
       " 'Before canned goods it was Similac',\n",
       " \"I'm from where they send shots then we send em back\",\n",
       " 'A half a million dollars worth of crack money',\n",
       " 'Wrap your parents up, now you got a black mommy',\n",
       " 'Yeah I did it, true to my religion',\n",
       " 'Two guns on me, both with extensions',\n",
       " 'If you on the pole, play your position',\n",
       " 'I got enough dough to pay your tuition',\n",
       " 'Corduroy Trues, with the skull cap',\n",
       " 'I just woke up, tell me where the drugs at',\n",
       " 'And after the drugs, where the girls at',\n",
       " 'And after the girls, where the love at',\n",
       " \"And if it ain't no love, I'm like fuck that\",\n",
       " \"Nigga I'm so dope, you could catch a fucking contact\",\n",
       " 'Good weed, bad bitch',\n",
       " 'Got these hoes on my dick like Brad Pitt',\n",
       " 'Whoa, I seen it all before',\n",
       " 'The bitch got a man but she scheming on the low, how it go?',\n",
       " \"It go fuck them other niggas cause I'm down for my niggas\",\n",
       " 'My homies got the blickers, automatics, no clickers',\n",
       " 'Hah, codeine, no liquor',\n",
       " 'Man life is a bitch, mine is a gold digger',\n",
       " \"I'm fucked, let's fuck\",\n",
       " 'She said she on her period, I said \"Yuck\"',\n",
       " 'I called another bopper, I beat it like a copper',\n",
       " 'Two big chains, one big chopper, bitch',\n",
       " 'Yeah, I got the chopper for the correspondents',\n",
       " 'The codeine got me standing horizontal',\n",
       " 'I had enough of the broken promises',\n",
       " \"So I'm in a room full of Pocahontases\",\n",
       " 'And this shit is off the meat rack',\n",
       " 'Weed sack, big car, laying with my seat back',\n",
       " \"We next, we ain’t never left, hollerin' we back\",\n",
       " 'All this ice on me and my niggas playing freeze tag',\n",
       " 'Lord forgive me, this my fourth foreign',\n",
       " 'If you baby daddy lame, you should forewarn him',\n",
       " 'I come through with the yopper on',\n",
       " 'Turn that nigga into hot bologna',\n",
       " \"I'm the type a nigga cop a Rollie, cop a Benz, cop a tool\",\n",
       " \"Then wear it all to church, nigga, halleluj'\",\n",
       " \"Uh, I'm from the trap where the block'll pay you\",\n",
       " 'Me and my nigga pass your ho like a hot potato',\n",
       " 'I be like, \"You could get her\", he be like, \"You could get her\"',\n",
       " 'I be like, \"You could have her\", he be like, \"You could have her\"',\n",
       " 'He be like, \"It don\\'t matter\", I be like, \"Me neither\"',\n",
       " 'Uh, my old school got twenty-sixes on it',\n",
       " 'And I got you girl kissing on me, mwah!',\n",
       " 'Good weed, bad bitch',\n",
       " 'Got these hoes on my dick like Brad Pitt',\n",
       " 'Whoa, I seen it all before',\n",
       " 'The bitch got a man but she scheming on the low, how it go?',\n",
       " \"It go fuck them other niggas cause I'm down for my niggas\",\n",
       " 'My homies got the blickers, automatics, no clickers',\n",
       " 'Hah, codeine, no liquor',\n",
       " 'Man life is a bitch, mine is a gold digger',\n",
       " \"I'm fucked, let's fuck\",\n",
       " 'She said she on her period, I said \"Yuck\"',\n",
       " 'I called another bopper, I beat it like a copper',\n",
       " 'Two big chains, one big chopper, bitch',\n",
       " 'Yuck daddy, yuck',\n",
       " 'Yuck daddy, yuck',\n",
       " 'Yuck-yuck-yuck daddy',\n",
       " 'Two big chains, one big chopper',\n",
       " 'Two big chains, one-one big chopper',\n",
       " 'Two-two big chains, one-one big chopper',\n",
       " 'Two big chains, one big chopper, bitch']"
      ]
     },
     "execution_count": 19,
     "metadata": {},
     "output_type": "execute_result"
    }
   ],
   "source": [
    "df[\"lyrics\"][0]"
   ]
  },
  {
   "cell_type": "code",
   "execution_count": null,
   "metadata": {},
   "outputs": [],
   "source": []
  }
 ],
 "metadata": {
  "kernelspec": {
   "display_name": "Python 3",
   "language": "python",
   "name": "python3"
  },
  "language_info": {
   "codemirror_mode": {
    "name": "ipython",
    "version": 3
   },
   "file_extension": ".py",
   "mimetype": "text/x-python",
   "name": "python",
   "nbconvert_exporter": "python",
   "pygments_lexer": "ipython3",
   "version": "3.6.5"
  }
 },
 "nbformat": 4,
 "nbformat_minor": 2
}
