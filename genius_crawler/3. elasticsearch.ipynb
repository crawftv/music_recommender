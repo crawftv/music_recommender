{
 "cells": [
  {
   "cell_type": "code",
   "execution_count": 18,
   "metadata": {},
   "outputs": [
    {
     "name": "stdout",
     "output_type": "stream",
     "text": [
      "The blackcellmagic extension is already loaded. To reload it, use:\n",
      "  %reload_ext blackcellmagic\n"
     ]
    }
   ],
   "source": [
    "%load_ext blackcellmagic"
   ]
  },
  {
   "cell_type": "code",
   "execution_count": 1,
   "metadata": {},
   "outputs": [],
   "source": [
    "import pandas as pd\n",
    "import vaex\n",
    "from decouple import config"
   ]
  },
  {
   "cell_type": "code",
   "execution_count": 20,
   "metadata": {},
   "outputs": [],
   "source": [
    "#pipenv uninstall pytables"
   ]
  },
  {
   "cell_type": "code",
   "execution_count": 21,
   "metadata": {},
   "outputs": [],
   "source": [
    "df = vaex.open(\"million_9_song(1).hdf5\")"
   ]
  },
  {
   "cell_type": "code",
   "execution_count": 22,
   "metadata": {},
   "outputs": [],
   "source": [
    "si = df.song_identifier.evaluate()"
   ]
  },
  {
   "cell_type": "code",
   "execution_count": 23,
   "metadata": {},
   "outputs": [],
   "source": [
    "annoy_index = df.index.evaluate()"
   ]
  },
  {
   "cell_type": "code",
   "execution_count": 24,
   "metadata": {},
   "outputs": [],
   "source": [
    "song_info = list(zip(si,annoy_index))"
   ]
  },
  {
   "cell_type": "code",
   "execution_count": 25,
   "metadata": {},
   "outputs": [
    {
     "data": {
      "text/plain": [
       "('dangerkids-hostage', 0)"
      ]
     },
     "execution_count": 25,
     "metadata": {},
     "output_type": "execute_result"
    }
   ],
   "source": [
    "song_info[0]"
   ]
  },
  {
   "cell_type": "markdown",
   "metadata": {},
   "source": [
    "## Push to Elastic Search"
   ]
  },
  {
   "cell_type": "code",
   "execution_count": 2,
   "metadata": {},
   "outputs": [],
   "source": [
    "from elasticsearch import Elasticsearch "
   ]
  },
  {
   "cell_type": "code",
   "execution_count": 54,
   "metadata": {},
   "outputs": [],
   "source": [
    "es=Elasticsearch(config('ELASTIC_SEARCH_DOMAIN'))"
   ]
  },
  {
   "cell_type": "code",
   "execution_count": 55,
   "metadata": {},
   "outputs": [
    {
     "data": {
      "text/plain": [
       "<Elasticsearch([{'host': 'search-music-recommender-wwryojqvlkrgqk3a5xiqtubwzy.us-east-2.es.amazonaws.com', 'port': 443, 'use_ssl': True}])>"
      ]
     },
     "execution_count": 55,
     "metadata": {},
     "output_type": "execute_result"
    }
   ],
   "source": [
    "es"
   ]
  },
  {
   "cell_type": "code",
   "execution_count": 56,
   "metadata": {},
   "outputs": [],
   "source": [
    "#es.indices.create(index='song-index', ignore=[400,404])"
   ]
  },
  {
   "cell_type": "code",
   "execution_count": 31,
   "metadata": {},
   "outputs": [],
   "source": [
    "import logging\n",
    "logger = logging.getLogger()\n",
    "logger.setLevel(logging.CRITICAL)"
   ]
  },
  {
   "cell_type": "code",
   "execution_count": 32,
   "metadata": {},
   "outputs": [],
   "source": [
    "s1={\"song-identifier\":\"dangerkids-hostage\",\"annoy-id\":1}\n",
    "res = es.index(index='song-index', doc_type='song-doc',id=1,body=s1)"
   ]
  },
  {
   "cell_type": "code",
   "execution_count": 33,
   "metadata": {},
   "outputs": [
    {
     "data": {
      "text/plain": [
       "{'_index': 'song-index',\n",
       " '_type': 'song-doc',\n",
       " '_id': '1',\n",
       " '_version': 2,\n",
       " 'result': 'updated',\n",
       " '_shards': {'total': 2, 'successful': 1, 'failed': 0},\n",
       " '_seq_no': 1,\n",
       " '_primary_term': 1}"
      ]
     },
     "execution_count": 33,
     "metadata": {},
     "output_type": "execute_result"
    }
   ],
   "source": [
    "res"
   ]
  },
  {
   "cell_type": "code",
   "execution_count": 34,
   "metadata": {},
   "outputs": [],
   "source": [
    "def song_body(body_index_tuple):\n",
    "    body = {\n",
    "        \"_index\": \"song-index\",\n",
    "        \"_type\": \"song-doc\",\n",
    "        \"_id\": int(body_index_tuple[1]), \n",
    "        \"song-identifier\": body_index_tuple[0],\n",
    "        \"annoy-id\": int(body_index_tuple[1]),\n",
    "    }\n",
    "    return body"
   ]
  },
  {
   "cell_type": "code",
   "execution_count": 35,
   "metadata": {},
   "outputs": [],
   "source": [
    "import warnings\n",
    "warnings.filterwarnings('ignore')"
   ]
  },
  {
   "cell_type": "markdown",
   "metadata": {},
   "source": [
    "## Bulk upload\n",
    "So far unsuccessful"
   ]
  },
  {
   "cell_type": "code",
   "execution_count": 36,
   "metadata": {},
   "outputs": [],
   "source": [
    "from elasticsearch.helpers import bulk"
   ]
  },
  {
   "cell_type": "code",
   "execution_count": 37,
   "metadata": {},
   "outputs": [
    {
     "data": {
      "text/plain": [
       "(1844757, [])"
      ]
     },
     "execution_count": 37,
     "metadata": {},
     "output_type": "execute_result"
    }
   ],
   "source": [
    "def gendata():\n",
    "    mywords = ['foo', 'bar', 'baz']\n",
    "    for song in song_info:\n",
    "        yield song_body(song)\n",
    "\n",
    "bulk(es, gendata())"
   ]
  },
  {
   "cell_type": "markdown",
   "metadata": {},
   "source": [
    "# Testing ES"
   ]
  },
  {
   "cell_type": "code",
   "execution_count": 3,
   "metadata": {},
   "outputs": [],
   "source": [
    "from elasticsearch import Elasticsearch\n",
    "es=Elasticsearch(config('ELASTIC_SEARCH_DOMAIN'))"
   ]
  },
  {
   "cell_type": "code",
   "execution_count": 4,
   "metadata": {},
   "outputs": [
    {
     "name": "stderr",
     "output_type": "stream",
     "text": [
      "INFO:MainThread:elasticsearch:GET https://search-music-recommender-wwryojqvlkrgqk3a5xiqtubwzy.us-east-2.es.amazonaws.com:443/song-index/_search [status:200 request:0.167s]\n"
     ]
    },
    {
     "data": {
      "text/plain": [
       "[{'_index': 'song-index',\n",
       "  '_type': 'song-doc',\n",
       "  '_id': '1655345',\n",
       "  '_score': 28.365307,\n",
       "  '_source': {'song-identifier': 'wu-tang-clan-triumph', 'annoy-id': 1655345}},\n",
       " {'_index': 'song-index',\n",
       "  '_type': 'song-doc',\n",
       "  '_id': '1494445',\n",
       "  '_score': 22.786552,\n",
       "  '_source': {'song-identifier': 'wu-tang-clan-wu-tang-master',\n",
       "   'annoy-id': 1494445}},\n",
       " {'_index': 'song-index',\n",
       "  '_type': 'song-doc',\n",
       "  '_id': '988475',\n",
       "  '_score': 22.450748,\n",
       "  '_source': {'song-identifier': 'wu-tang-clan-wu-tang-reunion',\n",
       "   'annoy-id': 988475}},\n",
       " {'_index': 'song-index',\n",
       "  '_type': 'song-doc',\n",
       "  '_id': '1657276',\n",
       "  '_score': 21.441769,\n",
       "  '_source': {'song-identifier': 'wu-tang-clan-wu-tang-7th-chamber',\n",
       "   'annoy-id': 1657276}},\n",
       " {'_index': 'song-index',\n",
       "  '_type': 'song-doc',\n",
       "  '_id': '1494475',\n",
       "  '_score': 21.034655,\n",
       "  '_source': {'song-identifier': 'wu-tang-clan-enter-the-wu-tang',\n",
       "   'annoy-id': 1494475}},\n",
       " {'_index': 'song-index',\n",
       "  '_type': 'song-doc',\n",
       "  '_id': '1494479',\n",
       "  '_score': 21.034655,\n",
       "  '_source': {'song-identifier': 'wu-tang-clan-wu-tang-forever-intro',\n",
       "   'annoy-id': 1494479}},\n",
       " {'_index': 'song-index',\n",
       "  '_type': 'song-doc',\n",
       "  '_id': '781655',\n",
       "  '_score': 20.998926,\n",
       "  '_source': {'song-identifier': 'mista-deezy-triumph-freestyle-wu-tang-killa-deez',\n",
       "   'annoy-id': 781655}},\n",
       " {'_index': 'song-index',\n",
       "  '_type': 'song-doc',\n",
       "  '_id': '1494481',\n",
       "  '_score': 20.4404,\n",
       "  '_source': {'song-identifier': 'wu-tang-clan-wu-revolution',\n",
       "   'annoy-id': 1494481}},\n",
       " {'_index': 'song-index',\n",
       "  '_type': 'song-doc',\n",
       "  '_id': '1494480',\n",
       "  '_score': 19.949043,\n",
       "  '_source': {'song-identifier': 'wu-tang-clan-as-high-as-wu-tang-get',\n",
       "   'annoy-id': 1494480}},\n",
       " {'_index': 'song-index',\n",
       "  '_type': 'song-doc',\n",
       "  '_id': '1494470',\n",
       "  '_score': 19.327486,\n",
       "  '_source': {'song-identifier': 'wu-tang-clan-reunited',\n",
       "   'annoy-id': 1494470}}]"
      ]
     },
     "execution_count": 4,
     "metadata": {},
     "output_type": "execute_result"
    }
   ],
   "source": [
    " es.search(\n",
    "        index=\"song-index\",\n",
    "        body={\"query\": {\"match\": {\"song-identifier\": \"wu tang clang triumph\"}}},\n",
    "    )[\"hits\"][\"hits\"]"
   ]
  },
  {
   "cell_type": "code",
   "execution_count": 5,
   "metadata": {},
   "outputs": [
    {
     "name": "stderr",
     "output_type": "stream",
     "text": [
      "INFO:MainThread:elasticsearch:GET https://search-music-recommender-wwryojqvlkrgqk3a5xiqtubwzy.us-east-2.es.amazonaws.com:443/song-index/_search [status:200 request:0.042s]\n"
     ]
    }
   ],
   "source": [
    "q = [\n",
    "    {\n",
    "        \"song-identifier\": i[\"_source\"][\"song-identifier\"],\n",
    "        \"annoy-id\": i[\"_source\"][\"annoy-id\"],\n",
    "    }\n",
    "    for i in es.search(\n",
    "        index=\"song-index\",\n",
    "        body={\"query\": {\"match\": {\"song-identifier\": \"wu tang clang triumph\"}}},\n",
    "    )[\"hits\"][\"hits\"]\n",
    "]"
   ]
  },
  {
   "cell_type": "code",
   "execution_count": 6,
   "metadata": {},
   "outputs": [
    {
     "data": {
      "text/plain": [
       "1655345"
      ]
     },
     "execution_count": 6,
     "metadata": {},
     "output_type": "execute_result"
    }
   ],
   "source": [
    "q[0]['annoy-id']"
   ]
  },
  {
   "cell_type": "code",
   "execution_count": 7,
   "metadata": {},
   "outputs": [],
   "source": [
    "from annoy import AnnoyIndex"
   ]
  },
  {
   "cell_type": "code",
   "execution_count": 8,
   "metadata": {},
   "outputs": [
    {
     "data": {
      "text/plain": [
       "True"
      ]
     },
     "execution_count": 8,
     "metadata": {},
     "output_type": "execute_result"
    }
   ],
   "source": [
    "b = AnnoyIndex(200)\n",
    "b.load('../app/songs.ann')"
   ]
  },
  {
   "cell_type": "code",
   "execution_count": 9,
   "metadata": {},
   "outputs": [],
   "source": [
    "z = b.get_nns_by_item(q[0]['annoy-id'], 10)"
   ]
  },
  {
   "cell_type": "code",
   "execution_count": 10,
   "metadata": {},
   "outputs": [
    {
     "data": {
      "text/plain": [
       "[1655345,\n",
       " 1473340,\n",
       " 1147912,\n",
       " 1657793,\n",
       " 1489749,\n",
       " 1657252,\n",
       " 1659510,\n",
       " 1656813,\n",
       " 1453730,\n",
       " 192700]"
      ]
     },
     "execution_count": 10,
     "metadata": {},
     "output_type": "execute_result"
    }
   ],
   "source": [
    "z"
   ]
  },
  {
   "cell_type": "code",
   "execution_count": 11,
   "metadata": {},
   "outputs": [
    {
     "name": "stderr",
     "output_type": "stream",
     "text": [
      "INFO:MainThread:elasticsearch:GET https://search-music-recommender-wwryojqvlkrgqk3a5xiqtubwzy.us-east-2.es.amazonaws.com:443/song-index/song-doc/192700 [status:200 request:0.040s]\n"
     ]
    },
    {
     "data": {
      "text/plain": [
       "{'_index': 'song-index',\n",
       " '_type': 'song-doc',\n",
       " '_id': '192700',\n",
       " '_version': 1,\n",
       " '_seq_no': 38564,\n",
       " '_primary_term': 1,\n",
       " 'found': True,\n",
       " '_source': {'song-identifier': 'melvin-bliss-synthetic-substitution',\n",
       "  'annoy-id': 192700}}"
      ]
     },
     "execution_count": 11,
     "metadata": {},
     "output_type": "execute_result"
    }
   ],
   "source": [
    "es.get(index='song-index',doc_type='song-doc',id=192700)"
   ]
  },
  {
   "cell_type": "code",
   "execution_count": 12,
   "metadata": {},
   "outputs": [
    {
     "name": "stderr",
     "output_type": "stream",
     "text": [
      "INFO:MainThread:elasticsearch:GET https://search-music-recommender-wwryojqvlkrgqk3a5xiqtubwzy.us-east-2.es.amazonaws.com:443/song-index/song-doc/1494479 [status:200 request:0.036s]\n"
     ]
    },
    {
     "data": {
      "text/plain": [
       "{'_index': 'song-index',\n",
       " '_type': 'song-doc',\n",
       " '_id': '1494479',\n",
       " '_version': 1,\n",
       " '_seq_no': 299123,\n",
       " '_primary_term': 1,\n",
       " 'found': True,\n",
       " '_source': {'song-identifier': 'wu-tang-clan-wu-tang-forever-intro',\n",
       "  'annoy-id': 1494479}}"
      ]
     },
     "execution_count": 12,
     "metadata": {},
     "output_type": "execute_result"
    }
   ],
   "source": [
    "es.get(index='song-index',doc_type='song-doc',id=q[5]['annoy-id'])"
   ]
  },
  {
   "cell_type": "code",
   "execution_count": 24,
   "metadata": {},
   "outputs": [],
   "source": [
    "def make_playlist(search):\n",
    "    query = es.search(\n",
    "        index=\"song-index\", body={\"query\": {\"match\": {\"song-identifier\": search}}}\n",
    "    )[\"hits\"][\"hits\"][0][\"_source\"][\"annoy-id\"]\n",
    "    query = b.get_nns_by_item(q[0][\"annoy-id\"], 10)\n",
    "    playlist =  list(\n",
    "        map(\n",
    "            lambda x: es.get(index=\"song-index\", doc_type=\"song-doc\", id=x)[\"_source\"][\n",
    "                \"song-identifier\"\n",
    "            ],\n",
    "            query,\n",
    "        )\n",
    "    )\n",
    "    playlist = [{\"identifier\": i, \"url\" : \"https://genius.com/\"+i+\"-lyrics\"} for i in playlist]\n",
    "    return playlist"
   ]
  },
  {
   "cell_type": "code",
   "execution_count": 25,
   "metadata": {},
   "outputs": [
    {
     "name": "stderr",
     "output_type": "stream",
     "text": [
      "INFO:MainThread:elasticsearch:GET https://search-music-recommender-wwryojqvlkrgqk3a5xiqtubwzy.us-east-2.es.amazonaws.com:443/song-index/_search [status:200 request:0.045s]\n",
      "INFO:MainThread:elasticsearch:GET https://search-music-recommender-wwryojqvlkrgqk3a5xiqtubwzy.us-east-2.es.amazonaws.com:443/song-index/song-doc/1655345 [status:200 request:0.036s]\n",
      "INFO:MainThread:elasticsearch:GET https://search-music-recommender-wwryojqvlkrgqk3a5xiqtubwzy.us-east-2.es.amazonaws.com:443/song-index/song-doc/1473340 [status:200 request:0.040s]\n",
      "INFO:MainThread:elasticsearch:GET https://search-music-recommender-wwryojqvlkrgqk3a5xiqtubwzy.us-east-2.es.amazonaws.com:443/song-index/song-doc/1147912 [status:200 request:0.037s]\n",
      "INFO:MainThread:elasticsearch:GET https://search-music-recommender-wwryojqvlkrgqk3a5xiqtubwzy.us-east-2.es.amazonaws.com:443/song-index/song-doc/1657793 [status:200 request:0.037s]\n",
      "INFO:MainThread:elasticsearch:GET https://search-music-recommender-wwryojqvlkrgqk3a5xiqtubwzy.us-east-2.es.amazonaws.com:443/song-index/song-doc/1489749 [status:200 request:0.036s]\n",
      "INFO:MainThread:elasticsearch:GET https://search-music-recommender-wwryojqvlkrgqk3a5xiqtubwzy.us-east-2.es.amazonaws.com:443/song-index/song-doc/1657252 [status:200 request:0.037s]\n",
      "INFO:MainThread:elasticsearch:GET https://search-music-recommender-wwryojqvlkrgqk3a5xiqtubwzy.us-east-2.es.amazonaws.com:443/song-index/song-doc/1659510 [status:200 request:0.036s]\n",
      "INFO:MainThread:elasticsearch:GET https://search-music-recommender-wwryojqvlkrgqk3a5xiqtubwzy.us-east-2.es.amazonaws.com:443/song-index/song-doc/1656813 [status:200 request:0.037s]\n",
      "INFO:MainThread:elasticsearch:GET https://search-music-recommender-wwryojqvlkrgqk3a5xiqtubwzy.us-east-2.es.amazonaws.com:443/song-index/song-doc/1453730 [status:200 request:0.036s]\n",
      "INFO:MainThread:elasticsearch:GET https://search-music-recommender-wwryojqvlkrgqk3a5xiqtubwzy.us-east-2.es.amazonaws.com:443/song-index/song-doc/192700 [status:200 request:0.036s]\n"
     ]
    },
    {
     "data": {
      "text/plain": [
       "[{'identifier': 'wu-tang-clan-triumph',\n",
       "  'url': 'https://genius.com/wu-tang-clan-triumph-lyrics'},\n",
       " {'identifier': 'gang-of-four-hed-send-in-the-army',\n",
       "  'url': 'https://genius.com/gang-of-four-hed-send-in-the-army-lyrics'},\n",
       " {'identifier': 'bing-crosby-deep-in-the-heart-of-texas',\n",
       "  'url': 'https://genius.com/bing-crosby-deep-in-the-heart-of-texas-lyrics'},\n",
       " {'identifier': 'wu-tang-clan-wu-tang-clan-aint-nuthing-ta-fuck-wit',\n",
       "  'url': 'https://genius.com/wu-tang-clan-wu-tang-clan-aint-nuthing-ta-fuck-wit-lyrics'},\n",
       " {'identifier': 'snoop-dogg-g-funk-intro',\n",
       "  'url': 'https://genius.com/snoop-dogg-g-funk-intro-lyrics'},\n",
       " {'identifier': 'public-enemy-black-steel-in-the-hour-of-chaos',\n",
       "  'url': 'https://genius.com/public-enemy-black-steel-in-the-hour-of-chaos-lyrics'},\n",
       " {'identifier': 'mobb-deep-animal-instinct',\n",
       "  'url': 'https://genius.com/mobb-deep-animal-instinct-lyrics'},\n",
       " {'identifier': 'gza-4th-chamber',\n",
       "  'url': 'https://genius.com/gza-4th-chamber-lyrics'},\n",
       " {'identifier': 'original-broadway-cast-of-into-the-woods-second-midnight',\n",
       "  'url': 'https://genius.com/original-broadway-cast-of-into-the-woods-second-midnight-lyrics'},\n",
       " {'identifier': 'melvin-bliss-synthetic-substitution',\n",
       "  'url': 'https://genius.com/melvin-bliss-synthetic-substitution-lyrics'}]"
      ]
     },
     "execution_count": 25,
     "metadata": {},
     "output_type": "execute_result"
    }
   ],
   "source": [
    "make_playlist(\"wu tang clan triumph\")"
   ]
  },
  {
   "cell_type": "code",
   "execution_count": null,
   "metadata": {},
   "outputs": [],
   "source": []
  },
  {
   "cell_type": "code",
   "execution_count": null,
   "metadata": {},
   "outputs": [],
   "source": []
  }
 ],
 "metadata": {
  "@webio": {
   "lastCommId": null,
   "lastKernelId": null
  },
  "kernelspec": {
   "display_name": "Python 3",
   "language": "python",
   "name": "python3"
  },
  "language_info": {
   "codemirror_mode": {
    "name": "ipython",
    "version": 3
   },
   "file_extension": ".py",
   "mimetype": "text/x-python",
   "name": "python",
   "nbconvert_exporter": "python",
   "pygments_lexer": "ipython3",
   "version": "3.6.7"
  }
 },
 "nbformat": 4,
 "nbformat_minor": 2
}
