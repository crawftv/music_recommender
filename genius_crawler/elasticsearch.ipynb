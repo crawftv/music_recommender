{
 "cells": [
  {
   "cell_type": "code",
   "execution_count": 1,
   "metadata": {},
   "outputs": [],
   "source": [
    "%load_ext blackcellmagic"
   ]
  },
  {
   "cell_type": "code",
   "execution_count": 2,
   "metadata": {},
   "outputs": [],
   "source": [
    "import pandas as pd\n",
    "import vaex"
   ]
  },
  {
   "cell_type": "code",
   "execution_count": 3,
   "metadata": {},
   "outputs": [],
   "source": [
    "#pipenv uninstall pytables"
   ]
  },
  {
   "cell_type": "code",
   "execution_count": 4,
   "metadata": {},
   "outputs": [],
   "source": [
    "df = vaex.open(\"million_9_song(1).hdf5\")"
   ]
  },
  {
   "cell_type": "code",
   "execution_count": null,
   "metadata": {},
   "outputs": [],
   "source": []
  },
  {
   "cell_type": "code",
   "execution_count": 5,
   "metadata": {},
   "outputs": [],
   "source": [
    "si = df.song_identifier.evaluate()"
   ]
  },
  {
   "cell_type": "code",
   "execution_count": 6,
   "metadata": {},
   "outputs": [],
   "source": [
    "annoy_index = df.index.evaluate()"
   ]
  },
  {
   "cell_type": "code",
   "execution_count": 7,
   "metadata": {},
   "outputs": [],
   "source": [
    "song_info = list(zip(si,annoy_index))"
   ]
  },
  {
   "cell_type": "code",
   "execution_count": 8,
   "metadata": {},
   "outputs": [
    {
     "data": {
      "text/plain": [
       "('dangerkids-hostage', 0)"
      ]
     },
     "execution_count": 8,
     "metadata": {},
     "output_type": "execute_result"
    }
   ],
   "source": [
    "song_info[0]"
   ]
  },
  {
   "cell_type": "markdown",
   "metadata": {},
   "source": [
    "## Push to Elastic Search"
   ]
  },
  {
   "cell_type": "code",
   "execution_count": 9,
   "metadata": {},
   "outputs": [],
   "source": [
    "from elasticsearch import Elasticsearch "
   ]
  },
  {
   "cell_type": "code",
   "execution_count": 10,
   "metadata": {},
   "outputs": [],
   "source": [
    "es=Elasticsearch(['https://search-music-recommender-wwryojqvlkrgqk3a5xiqtubwzy.us-east-2.es.amazonaws.com'])"
   ]
  },
  {
   "cell_type": "code",
   "execution_count": 11,
   "metadata": {},
   "outputs": [
    {
     "data": {
      "text/plain": [
       "<Elasticsearch([{'host': 'search-music-recommender-wwryojqvlkrgqk3a5xiqtubwzy.us-east-2.es.amazonaws.com', 'port': 443, 'use_ssl': True}])>"
      ]
     },
     "execution_count": 11,
     "metadata": {},
     "output_type": "execute_result"
    }
   ],
   "source": [
    "es"
   ]
  },
  {
   "cell_type": "code",
   "execution_count": 39,
   "metadata": {},
   "outputs": [
    {
     "data": {
      "text/plain": [
       "{'acknowledged': True}"
      ]
     },
     "execution_count": 39,
     "metadata": {},
     "output_type": "execute_result"
    }
   ],
   "source": [
    "es.indices.delete(index='song-index', ignore=[400,404])"
   ]
  },
  {
   "cell_type": "code",
   "execution_count": 40,
   "metadata": {},
   "outputs": [
    {
     "data": {
      "text/plain": [
       "{'acknowledged': True, 'shards_acknowledged': True, 'index': 'song-index'}"
      ]
     },
     "execution_count": 40,
     "metadata": {},
     "output_type": "execute_result"
    }
   ],
   "source": [
    "es.indices.create(index='song-index', ignore=[400,404])"
   ]
  },
  {
   "cell_type": "code",
   "execution_count": 41,
   "metadata": {},
   "outputs": [],
   "source": [
    "import logging\n",
    "logger = logging.getLogger()\n",
    "logger.setLevel(logging.CRITICAL)"
   ]
  },
  {
   "cell_type": "code",
   "execution_count": 42,
   "metadata": {},
   "outputs": [],
   "source": [
    "s1={\"song-identifier\":\"dangerkids-hostage\",\"annoy-id\":1}\n",
    "res = es.index(index='song-index', doc_type='song-doc',id=1,body=s1)"
   ]
  },
  {
   "cell_type": "code",
   "execution_count": 43,
   "metadata": {},
   "outputs": [
    {
     "data": {
      "text/plain": [
       "{'_index': 'song-index',\n",
       " '_type': 'song-doc',\n",
       " '_id': '1',\n",
       " '_version': 1,\n",
       " 'result': 'created',\n",
       " '_shards': {'total': 2, 'successful': 1, 'failed': 0},\n",
       " '_seq_no': 0,\n",
       " '_primary_term': 1}"
      ]
     },
     "execution_count": 43,
     "metadata": {},
     "output_type": "execute_result"
    }
   ],
   "source": [
    "res"
   ]
  },
  {
   "cell_type": "code",
   "execution_count": 44,
   "metadata": {},
   "outputs": [],
   "source": [
    "def song_body(body_index_tuple):\n",
    "    body = {\n",
    "        \"_index\": \"song-index\",\n",
    "        \"_type\": \"song-doc\",\n",
    "        \"_id\": int(body_index_tuple[1]), \n",
    "        \"song-identifier\": body_index_tuple[0],\n",
    "        \"annoy-id\": int(body_index_tuple[1]),\n",
    "    }\n",
    "    return body"
   ]
  },
  {
   "cell_type": "code",
   "execution_count": 45,
   "metadata": {},
   "outputs": [],
   "source": [
    "import warnings\n",
    "warnings.filterwarnings('ignore')"
   ]
  },
  {
   "cell_type": "markdown",
   "metadata": {},
   "source": [
    "## Bulk upload\n",
    "So far unsuccessful"
   ]
  },
  {
   "cell_type": "code",
   "execution_count": 46,
   "metadata": {},
   "outputs": [],
   "source": [
    "from elasticsearch.helpers import bulk"
   ]
  },
  {
   "cell_type": "code",
   "execution_count": 47,
   "metadata": {},
   "outputs": [
    {
     "data": {
      "text/plain": [
       "(1844757, [])"
      ]
     },
     "execution_count": 47,
     "metadata": {},
     "output_type": "execute_result"
    }
   ],
   "source": [
    "def gendata():\n",
    "    mywords = ['foo', 'bar', 'baz']\n",
    "    for song in song_info:\n",
    "        yield song_body(song)\n",
    "\n",
    "bulk(es, gendata())"
   ]
  },
  {
   "cell_type": "markdown",
   "metadata": {},
   "source": [
    "# Testing ES"
   ]
  },
  {
   "cell_type": "code",
   "execution_count": 29,
   "metadata": {},
   "outputs": [],
   "source": [
    "from elasticsearch import Elasticsearch\n",
    "es=Elasticsearch(['https://search-music-recommender-wwryojqvlkrgqk3a5xiqtubwzy.us-east-2.es.amazonaws.com'])"
   ]
  },
  {
   "cell_type": "code",
   "execution_count": 30,
   "metadata": {},
   "outputs": [
    {
     "data": {
      "text/plain": [
       "[{'_index': 'song-index',\n",
       "  '_type': 'song-doc',\n",
       "  '_id': 'pPi-8WsBykaCkwsh2EEH',\n",
       "  '_score': 28.552212,\n",
       "  '_source': {'song-identifier': 'wu-tang-clan-triumph', 'annoy-id': 1655345}},\n",
       " {'_index': 'song-index',\n",
       "  '_type': 'song-doc',\n",
       "  '_id': 'IPW-8WsBykaCkwshbc0_',\n",
       "  '_score': 22.693602,\n",
       "  '_source': {'song-identifier': 'wu-tang-clan-wu-tang-master',\n",
       "   'annoy-id': 1494445}},\n",
       " {'_index': 'song-index',\n",
       "  '_type': 'song-doc',\n",
       "  '_id': 'ru688WsBykaCkwsh5BQB',\n",
       "  '_score': 22.514074,\n",
       "  '_source': {'song-identifier': 'wu-tang-clan-wu-tang-reunion',\n",
       "   'annoy-id': 988475}},\n",
       " {'_index': 'song-index',\n",
       "  '_type': 'song-doc',\n",
       "  '_id': 'L_i-8WsBykaCkwsh2Uku',\n",
       "  '_score': 21.56496,\n",
       "  '_source': {'song-identifier': 'wu-tang-clan-wu-tang-7th-chamber',\n",
       "   'annoy-id': 1657276}},\n",
       " {'_index': 'song-index',\n",
       "  '_type': 'song-doc',\n",
       "  '_id': 'QvW-8WsBykaCkwshbc0_',\n",
       "  '_score': 21.534573,\n",
       "  '_source': {'song-identifier': 'wu-tang-clan-wu-tang-forever-intro',\n",
       "   'annoy-id': 1494479}},\n",
       " {'_index': 'song-index',\n",
       "  '_type': 'song-doc',\n",
       "  '_id': 'PvW-8WsBykaCkwshbc0_',\n",
       "  '_score': 21.393394,\n",
       "  '_source': {'song-identifier': 'wu-tang-clan-enter-the-wu-tang',\n",
       "   'annoy-id': 1494475}},\n",
       " {'_index': 'song-index',\n",
       "  '_type': 'song-doc',\n",
       "  '_id': 'yuq88WsBykaCkwshUezs',\n",
       "  '_score': 21.206688,\n",
       "  '_source': {'song-identifier': 'mista-deezy-triumph-freestyle-wu-tang-killa-deez',\n",
       "   'annoy-id': 781655}},\n",
       " {'_index': 'song-index',\n",
       "  '_type': 'song-doc',\n",
       "  '_id': 'RPW-8WsBykaCkwshbc0_',\n",
       "  '_score': 20.657902,\n",
       "  '_source': {'song-identifier': 'wu-tang-clan-wu-revolution',\n",
       "   'annoy-id': 1494481}},\n",
       " {'_index': 'song-index',\n",
       "  '_type': 'song-doc',\n",
       "  '_id': 'Q_W-8WsBykaCkwshbc0_',\n",
       "  '_score': 19.57198,\n",
       "  '_source': {'song-identifier': 'wu-tang-clan-as-high-as-wu-tang-get',\n",
       "   'annoy-id': 1494480}},\n",
       " {'_index': 'song-index',\n",
       "  '_type': 'song-doc',\n",
       "  '_id': 'ud-68WsBykaCkwshLgDF',\n",
       "  '_score': 19.456432,\n",
       "  '_source': {'song-identifier': 'wu-tang-clan-wu-tang-7th-chamber-pt-ii',\n",
       "   'annoy-id': 326}}]"
      ]
     },
     "execution_count": 30,
     "metadata": {},
     "output_type": "execute_result"
    }
   ],
   "source": [
    " es.search(\n",
    "        index=\"song-index\",\n",
    "        body={\"query\": {\"match\": {\"song-identifier\": \"wu tang clang triumph\"}}},\n",
    "    )[\"hits\"][\"hits\"]"
   ]
  },
  {
   "cell_type": "code",
   "execution_count": 31,
   "metadata": {},
   "outputs": [],
   "source": [
    "q = [\n",
    "    {\n",
    "        \"song-identifier\": i[\"_source\"][\"song-identifier\"],\n",
    "        \"annoy-id\": i[\"_source\"][\"annoy-id\"],\n",
    "    }\n",
    "    for i in es.search(\n",
    "        index=\"song-index\",\n",
    "        body={\"query\": {\"match\": {\"song-identifier\": \"wu tang clang triumph\"}}},\n",
    "    )[\"hits\"][\"hits\"]\n",
    "]"
   ]
  },
  {
   "cell_type": "code",
   "execution_count": 32,
   "metadata": {},
   "outputs": [
    {
     "data": {
      "text/plain": [
       "1655345"
      ]
     },
     "execution_count": 32,
     "metadata": {},
     "output_type": "execute_result"
    }
   ],
   "source": [
    "q[0]['annoy-id']"
   ]
  },
  {
   "cell_type": "code",
   "execution_count": 51,
   "metadata": {},
   "outputs": [],
   "source": [
    "from annoy import AnnoyIndex"
   ]
  },
  {
   "cell_type": "code",
   "execution_count": 52,
   "metadata": {},
   "outputs": [
    {
     "data": {
      "text/plain": [
       "True"
      ]
     },
     "execution_count": 52,
     "metadata": {},
     "output_type": "execute_result"
    }
   ],
   "source": [
    "b = AnnoyIndex(200)\n",
    "b.load('../test.ann')"
   ]
  },
  {
   "cell_type": "code",
   "execution_count": 53,
   "metadata": {},
   "outputs": [],
   "source": [
    "z = b.get_nns_by_item(q[0]['annoy-id'], 10)"
   ]
  },
  {
   "cell_type": "code",
   "execution_count": 54,
   "metadata": {},
   "outputs": [
    {
     "data": {
      "text/plain": [
       "[1655345,\n",
       " 1473340,\n",
       " 1147912,\n",
       " 1657793,\n",
       " 1489749,\n",
       " 1657252,\n",
       " 1659510,\n",
       " 1656813,\n",
       " 1453730,\n",
       " 192700]"
      ]
     },
     "execution_count": 54,
     "metadata": {},
     "output_type": "execute_result"
    }
   ],
   "source": [
    "z"
   ]
  },
  {
   "cell_type": "code",
   "execution_count": 63,
   "metadata": {},
   "outputs": [
    {
     "data": {
      "text/plain": [
       "{'_index': 'song-index',\n",
       " '_type': 'song-doc',\n",
       " '_id': '192700',\n",
       " '_version': 1,\n",
       " '_seq_no': 38563,\n",
       " '_primary_term': 1,\n",
       " 'found': True,\n",
       " '_source': {'song-identifier': 'melvin-bliss-synthetic-substitution',\n",
       "  'annoy-id': 192700}}"
      ]
     },
     "execution_count": 63,
     "metadata": {},
     "output_type": "execute_result"
    }
   ],
   "source": [
    "es.get(index='song-index',doc_type='song-doc',id=192700)"
   ]
  },
  {
   "cell_type": "code",
   "execution_count": 50,
   "metadata": {},
   "outputs": [
    {
     "data": {
      "text/plain": [
       "{'_index': 'song-index',\n",
       " '_type': 'song-doc',\n",
       " '_id': '1494475',\n",
       " '_version': 1,\n",
       " '_seq_no': 299121,\n",
       " '_primary_term': 1,\n",
       " 'found': True,\n",
       " '_source': {'song-identifier': 'wu-tang-clan-enter-the-wu-tang',\n",
       "  'annoy-id': 1494475}}"
      ]
     },
     "execution_count": 50,
     "metadata": {},
     "output_type": "execute_result"
    }
   ],
   "source": [
    "es.get(index='song-index',doc_type='song-doc',id=q[5]['annoy-id'])"
   ]
  },
  {
   "cell_type": "code",
   "execution_count": 88,
   "metadata": {},
   "outputs": [],
   "source": [
    "def make_playlist(search):\n",
    "    query = es.search(\n",
    "        index=\"song-index\",\n",
    "        body={\"query\": {\"match\": {\"song-identifier\": search}}},\n",
    "    )[\"hits\"][\"hits\"][0][\"_source\"][\"annoy-id\"]\n",
    "    query = b.get_nns_by_item(q[0]['annoy-id'], 10)\n",
    "    return  list(map(lambda x: es.get(index='song-index',doc_type='song-doc',id=x)[\"_source\"][\"song-identifier\"], query))"
   ]
  },
  {
   "cell_type": "code",
   "execution_count": 89,
   "metadata": {},
   "outputs": [
    {
     "data": {
      "text/plain": [
       "['wu-tang-clan-triumph',\n",
       " 'gang-of-four-hed-send-in-the-army',\n",
       " 'bing-crosby-deep-in-the-heart-of-texas',\n",
       " 'wu-tang-clan-wu-tang-clan-aint-nuthing-ta-fuck-wit',\n",
       " 'snoop-dogg-g-funk-intro',\n",
       " 'public-enemy-black-steel-in-the-hour-of-chaos',\n",
       " 'mobb-deep-animal-instinct',\n",
       " 'gza-4th-chamber',\n",
       " 'original-broadway-cast-of-into-the-woods-second-midnight',\n",
       " 'melvin-bliss-synthetic-substitution']"
      ]
     },
     "execution_count": 89,
     "metadata": {},
     "output_type": "execute_result"
    }
   ],
   "source": [
    "make_playlist(\"wu tang clan triumph\")"
   ]
  },
  {
   "cell_type": "code",
   "execution_count": null,
   "metadata": {},
   "outputs": [],
   "source": []
  }
 ],
 "metadata": {
  "kernelspec": {
   "display_name": "Python 3",
   "language": "python",
   "name": "python3"
  },
  "language_info": {
   "codemirror_mode": {
    "name": "ipython",
    "version": 3
   },
   "file_extension": ".py",
   "mimetype": "text/x-python",
   "name": "python",
   "nbconvert_exporter": "python",
   "pygments_lexer": "ipython3",
   "version": "3.6.7"
  }
 },
 "nbformat": 4,
 "nbformat_minor": 2
}
