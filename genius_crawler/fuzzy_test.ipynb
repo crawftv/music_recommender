{
 "cells": [
  {
   "cell_type": "code",
   "execution_count": 1,
   "metadata": {},
   "outputs": [
    {
     "name": "stdout",
     "output_type": "stream",
     "text": [
      "Requirement already satisfied: fuzzywuzzy in /home/ec2-user/anaconda3/envs/python3/lib/python3.6/site-packages (0.17.0)\n",
      "\u001b[33mYou are using pip version 10.0.1, however version 19.0.3 is available.\n",
      "You should consider upgrading via the 'pip install --upgrade pip' command.\u001b[0m\n",
      "Requirement already satisfied: fuzzywuzzy[speedup] in /home/ec2-user/anaconda3/envs/python3/lib/python3.6/site-packages (0.17.0)\n",
      "Requirement already satisfied: python-levenshtein>=0.12; extra == \"speedup\" in /home/ec2-user/anaconda3/envs/python3/lib/python3.6/site-packages (from fuzzywuzzy[speedup]) (0.12.0)\n",
      "Requirement already satisfied: setuptools in /home/ec2-user/anaconda3/envs/python3/lib/python3.6/site-packages (from python-levenshtein>=0.12; extra == \"speedup\"->fuzzywuzzy[speedup]) (39.1.0)\n",
      "\u001b[33mYou are using pip version 10.0.1, however version 19.0.3 is available.\n",
      "You should consider upgrading via the 'pip install --upgrade pip' command.\u001b[0m\n"
     ]
    }
   ],
   "source": [
    "!pip install fuzzywuzzy\n",
    "!pip install fuzzywuzzy[speedup]"
   ]
  },
  {
   "cell_type": "code",
   "execution_count": 2,
   "metadata": {},
   "outputs": [],
   "source": [
    "import pandas as pd\n",
    "import pickle\n",
    "import numpy as np"
   ]
  },
  {
   "cell_type": "code",
   "execution_count": 11,
   "metadata": {},
   "outputs": [],
   "source": [
    "filename = 'songs_table_df'\n",
    "infile = open(filename, 'rb')\n",
    "df = pickle.load(infile)\n",
    "infile.close()"
   ]
  },
  {
   "cell_type": "code",
   "execution_count": 12,
   "metadata": {},
   "outputs": [
    {
     "data": {
      "text/html": [
       "<div>\n",
       "<style scoped>\n",
       "    .dataframe tbody tr th:only-of-type {\n",
       "        vertical-align: middle;\n",
       "    }\n",
       "\n",
       "    .dataframe tbody tr th {\n",
       "        vertical-align: top;\n",
       "    }\n",
       "\n",
       "    .dataframe thead th {\n",
       "        text-align: right;\n",
       "    }\n",
       "</style>\n",
       "<table border=\"1\" class=\"dataframe\">\n",
       "  <thead>\n",
       "    <tr style=\"text-align: right;\">\n",
       "      <th></th>\n",
       "      <th>url</th>\n",
       "      <th>side_table</th>\n",
       "      <th>lyrics</th>\n",
       "      <th>table_as_string</th>\n",
       "    </tr>\n",
       "  </thead>\n",
       "  <tbody>\n",
       "    <tr>\n",
       "      <th>0</th>\n",
       "      <td>https://genius.com/Kanye-west-gone-lyrics</td>\n",
       "      <td>{'Written By': ['https://genius.com/artists/Ch...</td>\n",
       "      <td>[[Produced by Kanye West], [Intro], Wished I h...</td>\n",
       "      <td>https://genius.com/artists/Chuck-willis https:...</td>\n",
       "    </tr>\n",
       "    <tr>\n",
       "      <th>1</th>\n",
       "      <td>https://genius.com/Nicki-minaj-i-am-your-leade...</td>\n",
       "      <td>{'Written By': ['https://genius.com/artists/Fe...</td>\n",
       "      <td>[[Verse 1: Nicki Minaj], Uh, Look sucker, this...</td>\n",
       "      <td>https://genius.com/artists/Fernando-garibay ht...</td>\n",
       "    </tr>\n",
       "    <tr>\n",
       "      <th>2</th>\n",
       "      <td>https://genius.com/Lil-kim-crush-on-you-remix-...</td>\n",
       "      <td>{'Written By': ['https://genius.com/artists/An...</td>\n",
       "      <td>[[Intro: Lil' Cease &amp; Lil' Kim], Undeas!, Lil ...</td>\n",
       "      <td>https://genius.com/artists/Andreao-fanatic-hea...</td>\n",
       "    </tr>\n",
       "    <tr>\n",
       "      <th>3</th>\n",
       "      <td>https://genius.com/Camron-hey-ma-lyrics</td>\n",
       "      <td>{'Written By': ['https://genius.com/artists/D-...</td>\n",
       "      <td>[[Chorus: Freekey Zekey (Toya)], Hey ma (wassu...</td>\n",
       "      <td>https://genius.com/artists/D-r-period https://...</td>\n",
       "    </tr>\n",
       "    <tr>\n",
       "      <th>4</th>\n",
       "      <td>https://genius.com/Camron-killa-cam-lyrics</td>\n",
       "      <td>{'Written By': ['https://genius.com/artists/Th...</td>\n",
       "      <td>[[Chorus throughout Intro], Killa Cam, Killa C...</td>\n",
       "      <td>https://genius.com/artists/The-heatmakerz http...</td>\n",
       "    </tr>\n",
       "  </tbody>\n",
       "</table>\n",
       "</div>"
      ],
      "text/plain": [
       "                                                 url  \\\n",
       "0          https://genius.com/Kanye-west-gone-lyrics   \n",
       "1  https://genius.com/Nicki-minaj-i-am-your-leade...   \n",
       "2  https://genius.com/Lil-kim-crush-on-you-remix-...   \n",
       "3            https://genius.com/Camron-hey-ma-lyrics   \n",
       "4         https://genius.com/Camron-killa-cam-lyrics   \n",
       "\n",
       "                                          side_table  \\\n",
       "0  {'Written By': ['https://genius.com/artists/Ch...   \n",
       "1  {'Written By': ['https://genius.com/artists/Fe...   \n",
       "2  {'Written By': ['https://genius.com/artists/An...   \n",
       "3  {'Written By': ['https://genius.com/artists/D-...   \n",
       "4  {'Written By': ['https://genius.com/artists/Th...   \n",
       "\n",
       "                                              lyrics  \\\n",
       "0  [[Produced by Kanye West], [Intro], Wished I h...   \n",
       "1  [[Verse 1: Nicki Minaj], Uh, Look sucker, this...   \n",
       "2  [[Intro: Lil' Cease & Lil' Kim], Undeas!, Lil ...   \n",
       "3  [[Chorus: Freekey Zekey (Toya)], Hey ma (wassu...   \n",
       "4  [[Chorus throughout Intro], Killa Cam, Killa C...   \n",
       "\n",
       "                                     table_as_string  \n",
       "0  https://genius.com/artists/Chuck-willis https:...  \n",
       "1  https://genius.com/artists/Fernando-garibay ht...  \n",
       "2  https://genius.com/artists/Andreao-fanatic-hea...  \n",
       "3  https://genius.com/artists/D-r-period https://...  \n",
       "4  https://genius.com/artists/The-heatmakerz http...  "
      ]
     },
     "execution_count": 12,
     "metadata": {},
     "output_type": "execute_result"
    }
   ],
   "source": [
    "df.head()"
   ]
  },
  {
   "cell_type": "code",
   "execution_count": 13,
   "metadata": {},
   "outputs": [],
   "source": [
    "df[\"song_artist\"] = df[\"url\"].str.replace(\"https://genius.com/\",\"\")\n",
    "df[\"song_artist\"] = df[\"song_artist\"].str.replace(\"-\",\" \")\n",
    "df[\"song_artist\"] = df[\"song_artist\"].str.replace(\"lyrics\",\"\")\n",
    "df[\"song_artist\"] = df[\"song_artist\"].str.replace(\"\\s\",\" \")"
   ]
  },
  {
   "cell_type": "code",
   "execution_count": 14,
   "metadata": {},
   "outputs": [],
   "source": [
    "df = df.dropna()\n",
    "df = df.drop_duplicates(subset=\"url\")"
   ]
  },
  {
   "cell_type": "code",
   "execution_count": 15,
   "metadata": {},
   "outputs": [],
   "source": [
    "df = df.reset_index()"
   ]
  },
  {
   "cell_type": "code",
   "execution_count": 16,
   "metadata": {},
   "outputs": [
    {
     "data": {
      "text/html": [
       "<div>\n",
       "<style scoped>\n",
       "    .dataframe tbody tr th:only-of-type {\n",
       "        vertical-align: middle;\n",
       "    }\n",
       "\n",
       "    .dataframe tbody tr th {\n",
       "        vertical-align: top;\n",
       "    }\n",
       "\n",
       "    .dataframe thead th {\n",
       "        text-align: right;\n",
       "    }\n",
       "</style>\n",
       "<table border=\"1\" class=\"dataframe\">\n",
       "  <thead>\n",
       "    <tr style=\"text-align: right;\">\n",
       "      <th></th>\n",
       "      <th>index</th>\n",
       "      <th>url</th>\n",
       "      <th>song_artist</th>\n",
       "    </tr>\n",
       "  </thead>\n",
       "  <tbody>\n",
       "    <tr>\n",
       "      <th>0</th>\n",
       "      <td>0</td>\n",
       "      <td>https://genius.com/Kanye-west-gone-lyrics</td>\n",
       "      <td>Kanye west gone</td>\n",
       "    </tr>\n",
       "    <tr>\n",
       "      <th>1</th>\n",
       "      <td>1</td>\n",
       "      <td>https://genius.com/Nicki-minaj-i-am-your-leade...</td>\n",
       "      <td>Nicki minaj i am your leader</td>\n",
       "    </tr>\n",
       "    <tr>\n",
       "      <th>2</th>\n",
       "      <td>2</td>\n",
       "      <td>https://genius.com/Lil-kim-crush-on-you-remix-...</td>\n",
       "      <td>Lil kim crush on you remix</td>\n",
       "    </tr>\n",
       "    <tr>\n",
       "      <th>3</th>\n",
       "      <td>3</td>\n",
       "      <td>https://genius.com/Camron-hey-ma-lyrics</td>\n",
       "      <td>Camron hey ma</td>\n",
       "    </tr>\n",
       "    <tr>\n",
       "      <th>4</th>\n",
       "      <td>4</td>\n",
       "      <td>https://genius.com/Camron-killa-cam-lyrics</td>\n",
       "      <td>Camron killa cam</td>\n",
       "    </tr>\n",
       "  </tbody>\n",
       "</table>\n",
       "</div>"
      ],
      "text/plain": [
       "   index                                                url  \\\n",
       "0      0          https://genius.com/Kanye-west-gone-lyrics   \n",
       "1      1  https://genius.com/Nicki-minaj-i-am-your-leade...   \n",
       "2      2  https://genius.com/Lil-kim-crush-on-you-remix-...   \n",
       "3      3            https://genius.com/Camron-hey-ma-lyrics   \n",
       "4      4         https://genius.com/Camron-killa-cam-lyrics   \n",
       "\n",
       "                     song_artist  \n",
       "0               Kanye west gone   \n",
       "1  Nicki minaj i am your leader   \n",
       "2    Lil kim crush on you remix   \n",
       "3                 Camron hey ma   \n",
       "4              Camron killa cam   "
      ]
     },
     "execution_count": 16,
     "metadata": {},
     "output_type": "execute_result"
    }
   ],
   "source": [
    "df = df.drop(columns=[\"table_as_string\",\"lyrics\",\"side_table\"])\n",
    "df.head()"
   ]
  },
  {
   "cell_type": "code",
   "execution_count": 33,
   "metadata": {},
   "outputs": [],
   "source": [
    "songs = list(df[\"song_artist\"])"
   ]
  },
  {
   "cell_type": "code",
   "execution_count": 36,
   "metadata": {},
   "outputs": [
    {
     "data": {
      "text/plain": [
       "[('Wu tang clan triumph ', 95, 352),\n",
       " ('Wu tang clan da mystery of chessboxin ', 86, 353),\n",
       " ('Wu tang clan protect ya neck ', 86, 354),\n",
       " ('Wu tang clan method man ', 86, 355),\n",
       " ('Wu tang clan bring da ruckus ', 86, 356),\n",
       " ('Wu tang clan wu tang clan aint nuthing ta fuck wit ', 86, 358),\n",
       " ('Wu tang clan shame on a nigga ', 86, 359),\n",
       " ('Wu tang clan wu tang 7th chamber ', 86, 363),\n",
       " ('Wu tang clan clan in da front ', 86, 365),\n",
       " ('Wu tang clan can it be all so simple intermission ', 86, 366)]"
      ]
     },
     "execution_count": 36,
     "metadata": {},
     "output_type": "execute_result"
    }
   ],
   "source": [
    "from fuzzywuzzy import process\n",
    "process.extract(\"Wu tang triumph\", df[\"song_artist\"], limit =10)"
   ]
  },
  {
   "cell_type": "code",
   "execution_count": 26,
   "metadata": {},
   "outputs": [],
   "source": [
    "import pickle\n",
    "filename = \"songs_df\"\n",
    "outfile = open(filename, 'wb')\n",
    "pickle.dump(df, outfile)\n",
    "outfile.close()"
   ]
  },
  {
   "cell_type": "code",
   "execution_count": 20,
   "metadata": {},
   "outputs": [
    {
     "data": {
      "text/html": [
       "<div>\n",
       "<style scoped>\n",
       "    .dataframe tbody tr th:only-of-type {\n",
       "        vertical-align: middle;\n",
       "    }\n",
       "\n",
       "    .dataframe tbody tr th {\n",
       "        vertical-align: top;\n",
       "    }\n",
       "\n",
       "    .dataframe thead th {\n",
       "        text-align: right;\n",
       "    }\n",
       "</style>\n",
       "<table border=\"1\" class=\"dataframe\">\n",
       "  <thead>\n",
       "    <tr style=\"text-align: right;\">\n",
       "      <th></th>\n",
       "      <th>url</th>\n",
       "      <th>song_artist</th>\n",
       "    </tr>\n",
       "  </thead>\n",
       "  <tbody>\n",
       "    <tr>\n",
       "      <th>0</th>\n",
       "      <td>https://genius.com/Kanye-west-gone-lyrics</td>\n",
       "      <td>Kanye west gone</td>\n",
       "    </tr>\n",
       "    <tr>\n",
       "      <th>1</th>\n",
       "      <td>https://genius.com/Nicki-minaj-i-am-your-leade...</td>\n",
       "      <td>Nicki minaj i am your leader</td>\n",
       "    </tr>\n",
       "    <tr>\n",
       "      <th>2</th>\n",
       "      <td>https://genius.com/Lil-kim-crush-on-you-remix-...</td>\n",
       "      <td>Lil kim crush on you remix</td>\n",
       "    </tr>\n",
       "    <tr>\n",
       "      <th>3</th>\n",
       "      <td>https://genius.com/Camron-hey-ma-lyrics</td>\n",
       "      <td>Camron hey ma</td>\n",
       "    </tr>\n",
       "    <tr>\n",
       "      <th>4</th>\n",
       "      <td>https://genius.com/Camron-killa-cam-lyrics</td>\n",
       "      <td>Camron killa cam</td>\n",
       "    </tr>\n",
       "  </tbody>\n",
       "</table>\n",
       "</div>"
      ],
      "text/plain": [
       "                                                 url  \\\n",
       "0          https://genius.com/Kanye-west-gone-lyrics   \n",
       "1  https://genius.com/Nicki-minaj-i-am-your-leade...   \n",
       "2  https://genius.com/Lil-kim-crush-on-you-remix-...   \n",
       "3            https://genius.com/Camron-hey-ma-lyrics   \n",
       "4         https://genius.com/Camron-killa-cam-lyrics   \n",
       "\n",
       "                     song_artist  \n",
       "0               Kanye west gone   \n",
       "1  Nicki minaj i am your leader   \n",
       "2    Lil kim crush on you remix   \n",
       "3                 Camron hey ma   \n",
       "4              Camron killa cam   "
      ]
     },
     "execution_count": 20,
     "metadata": {},
     "output_type": "execute_result"
    }
   ],
   "source": [
    "df.head()"
   ]
  },
  {
   "cell_type": "code",
   "execution_count": 47,
   "metadata": {},
   "outputs": [],
   "source": [
    "search = \"wutang triumph\""
   ]
  },
  {
   "cell_type": "code",
   "execution_count": 27,
   "metadata": {},
   "outputs": [],
   "source": [
    "import pickle\n",
    "filename = \"songs_df\"\n",
    "infile = open(filename,\"rb\")\n",
    "songs1 = pickle.load(infile)\n",
    "infile.close()"
   ]
  },
  {
   "cell_type": "code",
   "execution_count": 30,
   "metadata": {},
   "outputs": [
    {
     "data": {
      "text/html": [
       "<div>\n",
       "<style scoped>\n",
       "    .dataframe tbody tr th:only-of-type {\n",
       "        vertical-align: middle;\n",
       "    }\n",
       "\n",
       "    .dataframe tbody tr th {\n",
       "        vertical-align: top;\n",
       "    }\n",
       "\n",
       "    .dataframe thead th {\n",
       "        text-align: right;\n",
       "    }\n",
       "</style>\n",
       "<table border=\"1\" class=\"dataframe\">\n",
       "  <thead>\n",
       "    <tr style=\"text-align: right;\">\n",
       "      <th></th>\n",
       "      <th>url</th>\n",
       "      <th>song_artist</th>\n",
       "    </tr>\n",
       "  </thead>\n",
       "  <tbody>\n",
       "    <tr>\n",
       "      <th>187689</th>\n",
       "      <td>https://genius.com/Lucio-bukowski-leloge-du-va...</td>\n",
       "      <td>Lucio bukowski leloge du vagin</td>\n",
       "    </tr>\n",
       "    <tr>\n",
       "      <th>187690</th>\n",
       "      <td>https://genius.com/Lucio-bukowski-and-anton-se...</td>\n",
       "      <td>Lucio bukowski and anton serra tintin au congo</td>\n",
       "    </tr>\n",
       "    <tr>\n",
       "      <th>187691</th>\n",
       "      <td>https://genius.com/Lanimalerie-n69832015-lyrics</td>\n",
       "      <td>Lanimalerie n69832015</td>\n",
       "    </tr>\n",
       "    <tr>\n",
       "      <th>187692</th>\n",
       "      <td>https://genius.com/Lucio-bukowski-psaumes-metr...</td>\n",
       "      <td>Lucio bukowski psaumes metropolitains</td>\n",
       "    </tr>\n",
       "    <tr>\n",
       "      <th>187693</th>\n",
       "      <td>https://genius.com/Lucio-bukowski-eau-en-poudr...</td>\n",
       "      <td>Lucio bukowski eau en poudre</td>\n",
       "    </tr>\n",
       "  </tbody>\n",
       "</table>\n",
       "</div>"
      ],
      "text/plain": [
       "                                                      url  \\\n",
       "187689  https://genius.com/Lucio-bukowski-leloge-du-va...   \n",
       "187690  https://genius.com/Lucio-bukowski-and-anton-se...   \n",
       "187691    https://genius.com/Lanimalerie-n69832015-lyrics   \n",
       "187692  https://genius.com/Lucio-bukowski-psaumes-metr...   \n",
       "187693  https://genius.com/Lucio-bukowski-eau-en-poudr...   \n",
       "\n",
       "                                            song_artist  \n",
       "187689                  Lucio bukowski leloge du vagin   \n",
       "187690  Lucio bukowski and anton serra tintin au congo   \n",
       "187691                           Lanimalerie n69832015   \n",
       "187692           Lucio bukowski psaumes metropolitains   \n",
       "187693                    Lucio bukowski eau en poudre   "
      ]
     },
     "execution_count": 30,
     "metadata": {},
     "output_type": "execute_result"
    }
   ],
   "source": [
    "songs1"
   ]
  },
  {
   "cell_type": "markdown",
   "metadata": {},
   "source": [
    "## testing for website"
   ]
  },
  {
   "cell_type": "code",
   "execution_count": 60,
   "metadata": {},
   "outputs": [],
   "source": [
    "from fuzzywuzzy import process\n",
    "search = process.extractOne(\"wu tang da mystery of chess boxin\", songs1[\"song_artist\"])[2]"
   ]
  },
  {
   "cell_type": "code",
   "execution_count": 61,
   "metadata": {},
   "outputs": [
    {
     "data": {
      "text/plain": [
       "350"
      ]
     },
     "execution_count": 61,
     "metadata": {},
     "output_type": "execute_result"
    }
   ],
   "source": [
    "search"
   ]
  },
  {
   "cell_type": "code",
   "execution_count": 10,
   "metadata": {},
   "outputs": [],
   "source": [
    "from fuzzywuzzy import process\n",
    "search = process.extractOne(\"wu tang\", songs1[\"song_artist\"])[2]"
   ]
  },
  {
   "cell_type": "code",
   "execution_count": 8,
   "metadata": {},
   "outputs": [
    {
     "name": "stdout",
     "output_type": "stream",
     "text": [
      "url            https://genius.com/Wu-tang-clan-triumph-lyrics\n",
      "song_artist                             Wu tang clan triumph \n",
      "Name: 349, dtype: object\n",
      "349\n",
      "https://genius.com/Wu-tang-clan-triumph-lyrics \n",
      "\n",
      "4692\n",
      "https://genius.com/Public-enemy-youre-gonna-get-yours-lyrics \n",
      "\n",
      "4691\n",
      "https://genius.com/Public-enemy-party-for-your-right-to-fight-lyrics \n",
      "\n",
      "4539\n",
      "https://genius.com/Mac-miller-suplexes-inside-of-complexes-and-duplexes-lyrics \n",
      "\n",
      "10842\n",
      "https://genius.com/Chris-brown-zero-lyrics \n",
      "\n",
      "436\n",
      "https://genius.com/Earl-sweatshirt-grief-lyrics \n",
      "\n",
      "171784\n",
      "https://genius.com/Jamie-t-ike-and-tina-lyrics \n",
      "\n",
      "810\n",
      "https://genius.com/J-cole-album-of-the-year-freestyle-lyrics \n",
      "\n",
      "25798\n",
      "https://genius.com/Czarface-and-mf-doom-nautical-depth-lyrics \n",
      "\n",
      "3600\n",
      "https://genius.com/Random-axe-chewbacca-lyrics \n",
      "\n"
     ]
    }
   ],
   "source": [
    "import pickle\n",
    "filename = \"songs_df\"\n",
    "infile = open(filename,\"rb\")\n",
    "songs1 = pickle.load(infile)\n",
    "infile.close()\n",
    "import boto3\n",
    "s3_resource = boto3.resource('s3')\n",
    "s3_resource.Object('crawftv-music-recommender','songs.ann').download_file('songs1.ann')\n",
    "\n",
    "from fuzzywuzzy import process\n",
    "search = process.extractOne(\"wu tang\", songs1[\"song_artist\"])[2]\n",
    "\n",
    "from annoy import AnnoyIndex\n",
    "\n",
    "u.load('songs1.ann') \n",
    "playlist =u.get_nns_by_item(search, 10)\n",
    "print(songs1.iloc[search])\n",
    "for i in playlist:\n",
    "    print(i)\n",
    "    print(songs1[\"url\"][i],\"\\n\")"
   ]
  },
  {
   "cell_type": "code",
   "execution_count": 9,
   "metadata": {},
   "outputs": [
    {
     "name": "stdout",
     "output_type": "stream",
     "text": [
      "url            https://genius.com/Wu-tang-clan-triumph-lyrics\n",
      "song_artist                             Wu tang clan triumph \n",
      "Name: 349, dtype: object\n",
      "73717\n",
      "https://genius.com/Del-the-funky-homosapien-vamo-batucar-lyrics \n",
      "\n",
      "144135\n",
      "https://genius.com/Phantom-planet-the-happy-ending-lyrics \n",
      "\n",
      "382\n",
      "https://genius.com/Wu-tang-clan-wu-tang-7th-chamber-pt-ii-lyrics \n",
      "\n",
      "10409\n",
      "https://genius.com/Naledge-chicago-rules-the-world-lyrics \n",
      "\n",
      "144746\n",
      "https://genius.com/Knowmads-drifter-lyrics \n",
      "\n",
      "90691\n",
      "https://genius.com/Thisl-urban-missionary-lyrics \n",
      "\n",
      "21874\n",
      "https://genius.com/Mr-criminal-its-the-west-coast-lyrics \n",
      "\n",
      "52516\n",
      "https://genius.com/Nneka-vip-lyrics \n",
      "\n",
      "2418\n",
      "https://genius.com/Yo-gotti-errrbody-lyrics \n",
      "\n",
      "3293\n",
      "https://genius.com/Nelly-1-lyrics \n",
      "\n"
     ]
    }
   ],
   "source": [
    "u.load('songs1.ann') \n",
    "playlist =u.get_nns_by_item(0, 10)\n",
    "print(songs1.iloc[search])\n",
    "for i in playlist:\n",
    "    print(i)\n",
    "    print(songs1[\"url\"][i],\"\\n\")"
   ]
  },
  {
   "cell_type": "code",
   "execution_count": 7,
   "metadata": {},
   "outputs": [],
   "source": [
    "# import boto3\n",
    "# s3_resource = boto3.resource('s3')\n",
    "# s3_resource.Object('crawftv-music-recommender','songs.ann').download_file('songs1.ann')\n",
    "\n",
    "# u = AnnoyIndex(300)\n",
    "# u.load(songs1.ann) \n",
    "# playlist =u.get_nns_by_item(search, 10)\n",
    "# print(songs1.iloc[search])\n",
    "# for i in playlist:\n",
    "#     print(i)\n",
    "#     print(songs1[\"url\"][i],\"\\n\")"
   ]
  },
  {
   "cell_type": "code",
   "execution_count": null,
   "metadata": {},
   "outputs": [],
   "source": []
  },
  {
   "cell_type": "code",
   "execution_count": null,
   "metadata": {},
   "outputs": [],
   "source": []
  },
  {
   "cell_type": "code",
   "execution_count": null,
   "metadata": {},
   "outputs": [],
   "source": []
  }
 ],
 "metadata": {
  "kernelspec": {
   "display_name": "conda_python3",
   "language": "python",
   "name": "conda_python3"
  },
  "language_info": {
   "codemirror_mode": {
    "name": "ipython",
    "version": 3
   },
   "file_extension": ".py",
   "mimetype": "text/x-python",
   "name": "python",
   "nbconvert_exporter": "python",
   "pygments_lexer": "ipython3",
   "version": "3.6.5"
  }
 },
 "nbformat": 4,
 "nbformat_minor": 2
}
