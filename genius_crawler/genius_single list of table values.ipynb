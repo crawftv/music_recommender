{
 "cells": [
  {
   "cell_type": "code",
   "execution_count": 1,
   "metadata": {},
   "outputs": [],
   "source": [
    "import pickle\n",
    "import pandas as pd"
   ]
  },
  {
   "cell_type": "code",
   "execution_count": 2,
   "metadata": {},
   "outputs": [],
   "source": [
    "filename = 'genius_side_tables_and_lyrics'\n",
    "infile = open(filename,'rb')\n",
    "l = pickle.load(infile)\n",
    "infile.close()"
   ]
  },
  {
   "cell_type": "code",
   "execution_count": 3,
   "metadata": {},
   "outputs": [],
   "source": [
    "df =pd.DataFrame(data = l, columns = [\"url\",\"side_table\",\"lyrics\"])"
   ]
  },
  {
   "cell_type": "code",
   "execution_count": 4,
   "metadata": {},
   "outputs": [
    {
     "data": {
      "text/html": [
       "<div>\n",
       "<style scoped>\n",
       "    .dataframe tbody tr th:only-of-type {\n",
       "        vertical-align: middle;\n",
       "    }\n",
       "\n",
       "    .dataframe tbody tr th {\n",
       "        vertical-align: top;\n",
       "    }\n",
       "\n",
       "    .dataframe thead th {\n",
       "        text-align: right;\n",
       "    }\n",
       "</style>\n",
       "<table border=\"1\" class=\"dataframe\">\n",
       "  <thead>\n",
       "    <tr style=\"text-align: right;\">\n",
       "      <th></th>\n",
       "      <th>url</th>\n",
       "      <th>side_table</th>\n",
       "      <th>lyrics</th>\n",
       "    </tr>\n",
       "  </thead>\n",
       "  <tbody>\n",
       "    <tr>\n",
       "      <th>0</th>\n",
       "      <td>https://genius.com/Kanye-west-gone-lyrics</td>\n",
       "      <td>[(Written By, [https://genius.com/artists/Chuc...</td>\n",
       "      <td>[[Produced by Kanye West], [Intro], Wished I h...</td>\n",
       "    </tr>\n",
       "    <tr>\n",
       "      <th>1</th>\n",
       "      <td>https://genius.com/Nicki-minaj-i-am-your-leade...</td>\n",
       "      <td>[(Written By, [https://genius.com/artists/Fern...</td>\n",
       "      <td>[[Verse 1: Nicki Minaj], Uh, Look sucker, this...</td>\n",
       "    </tr>\n",
       "    <tr>\n",
       "      <th>2</th>\n",
       "      <td>https://genius.com/Lil-kim-crush-on-you-remix-...</td>\n",
       "      <td>[(Written By, [https://genius.com/artists/Andr...</td>\n",
       "      <td>[[Intro: Lil' Cease &amp; Lil' Kim], Undeas!, Lil ...</td>\n",
       "    </tr>\n",
       "    <tr>\n",
       "      <th>3</th>\n",
       "      <td>https://genius.com/Camron-hey-ma-lyrics</td>\n",
       "      <td>[(Written By, [https://genius.com/artists/D-r-...</td>\n",
       "      <td>[[Chorus: Freekey Zekey (Toya)], Hey ma (wassu...</td>\n",
       "    </tr>\n",
       "    <tr>\n",
       "      <th>4</th>\n",
       "      <td>https://genius.com/Camron-killa-cam-lyrics</td>\n",
       "      <td>[(Written By, [https://genius.com/artists/The-...</td>\n",
       "      <td>[[Chorus throughout Intro], Killa Cam, Killa C...</td>\n",
       "    </tr>\n",
       "  </tbody>\n",
       "</table>\n",
       "</div>"
      ],
      "text/plain": [
       "                                                 url  \\\n",
       "0          https://genius.com/Kanye-west-gone-lyrics   \n",
       "1  https://genius.com/Nicki-minaj-i-am-your-leade...   \n",
       "2  https://genius.com/Lil-kim-crush-on-you-remix-...   \n",
       "3            https://genius.com/Camron-hey-ma-lyrics   \n",
       "4         https://genius.com/Camron-killa-cam-lyrics   \n",
       "\n",
       "                                          side_table  \\\n",
       "0  [(Written By, [https://genius.com/artists/Chuc...   \n",
       "1  [(Written By, [https://genius.com/artists/Fern...   \n",
       "2  [(Written By, [https://genius.com/artists/Andr...   \n",
       "3  [(Written By, [https://genius.com/artists/D-r-...   \n",
       "4  [(Written By, [https://genius.com/artists/The-...   \n",
       "\n",
       "                                              lyrics  \n",
       "0  [[Produced by Kanye West], [Intro], Wished I h...  \n",
       "1  [[Verse 1: Nicki Minaj], Uh, Look sucker, this...  \n",
       "2  [[Intro: Lil' Cease & Lil' Kim], Undeas!, Lil ...  \n",
       "3  [[Chorus: Freekey Zekey (Toya)], Hey ma (wassu...  \n",
       "4  [[Chorus throughout Intro], Killa Cam, Killa C...  "
      ]
     },
     "execution_count": 4,
     "metadata": {},
     "output_type": "execute_result"
    }
   ],
   "source": [
    "df.head()"
   ]
  },
  {
   "cell_type": "code",
   "execution_count": 5,
   "metadata": {},
   "outputs": [],
   "source": [
    "df[\"side_table\"] = df['side_table'].apply(lambda x : dict(x))"
   ]
  },
  {
   "cell_type": "code",
   "execution_count": 6,
   "metadata": {},
   "outputs": [
    {
     "data": {
      "text/html": [
       "<div>\n",
       "<style scoped>\n",
       "    .dataframe tbody tr th:only-of-type {\n",
       "        vertical-align: middle;\n",
       "    }\n",
       "\n",
       "    .dataframe tbody tr th {\n",
       "        vertical-align: top;\n",
       "    }\n",
       "\n",
       "    .dataframe thead th {\n",
       "        text-align: right;\n",
       "    }\n",
       "</style>\n",
       "<table border=\"1\" class=\"dataframe\">\n",
       "  <thead>\n",
       "    <tr style=\"text-align: right;\">\n",
       "      <th></th>\n",
       "      <th>url</th>\n",
       "      <th>side_table</th>\n",
       "      <th>lyrics</th>\n",
       "    </tr>\n",
       "  </thead>\n",
       "  <tbody>\n",
       "    <tr>\n",
       "      <th>0</th>\n",
       "      <td>https://genius.com/Kanye-west-gone-lyrics</td>\n",
       "      <td>{'Written By': ['https://genius.com/artists/Ch...</td>\n",
       "      <td>[[Produced by Kanye West], [Intro], Wished I h...</td>\n",
       "    </tr>\n",
       "    <tr>\n",
       "      <th>1</th>\n",
       "      <td>https://genius.com/Nicki-minaj-i-am-your-leade...</td>\n",
       "      <td>{'Written By': ['https://genius.com/artists/Fe...</td>\n",
       "      <td>[[Verse 1: Nicki Minaj], Uh, Look sucker, this...</td>\n",
       "    </tr>\n",
       "    <tr>\n",
       "      <th>2</th>\n",
       "      <td>https://genius.com/Lil-kim-crush-on-you-remix-...</td>\n",
       "      <td>{'Written By': ['https://genius.com/artists/An...</td>\n",
       "      <td>[[Intro: Lil' Cease &amp; Lil' Kim], Undeas!, Lil ...</td>\n",
       "    </tr>\n",
       "    <tr>\n",
       "      <th>3</th>\n",
       "      <td>https://genius.com/Camron-hey-ma-lyrics</td>\n",
       "      <td>{'Written By': ['https://genius.com/artists/D-...</td>\n",
       "      <td>[[Chorus: Freekey Zekey (Toya)], Hey ma (wassu...</td>\n",
       "    </tr>\n",
       "    <tr>\n",
       "      <th>4</th>\n",
       "      <td>https://genius.com/Camron-killa-cam-lyrics</td>\n",
       "      <td>{'Written By': ['https://genius.com/artists/Th...</td>\n",
       "      <td>[[Chorus throughout Intro], Killa Cam, Killa C...</td>\n",
       "    </tr>\n",
       "  </tbody>\n",
       "</table>\n",
       "</div>"
      ],
      "text/plain": [
       "                                                 url  \\\n",
       "0          https://genius.com/Kanye-west-gone-lyrics   \n",
       "1  https://genius.com/Nicki-minaj-i-am-your-leade...   \n",
       "2  https://genius.com/Lil-kim-crush-on-you-remix-...   \n",
       "3            https://genius.com/Camron-hey-ma-lyrics   \n",
       "4         https://genius.com/Camron-killa-cam-lyrics   \n",
       "\n",
       "                                          side_table  \\\n",
       "0  {'Written By': ['https://genius.com/artists/Ch...   \n",
       "1  {'Written By': ['https://genius.com/artists/Fe...   \n",
       "2  {'Written By': ['https://genius.com/artists/An...   \n",
       "3  {'Written By': ['https://genius.com/artists/D-...   \n",
       "4  {'Written By': ['https://genius.com/artists/Th...   \n",
       "\n",
       "                                              lyrics  \n",
       "0  [[Produced by Kanye West], [Intro], Wished I h...  \n",
       "1  [[Verse 1: Nicki Minaj], Uh, Look sucker, this...  \n",
       "2  [[Intro: Lil' Cease & Lil' Kim], Undeas!, Lil ...  \n",
       "3  [[Chorus: Freekey Zekey (Toya)], Hey ma (wassu...  \n",
       "4  [[Chorus throughout Intro], Killa Cam, Killa C...  "
      ]
     },
     "execution_count": 6,
     "metadata": {},
     "output_type": "execute_result"
    }
   ],
   "source": [
    "df.head()"
   ]
  },
  {
   "cell_type": "code",
   "execution_count": 7,
   "metadata": {},
   "outputs": [],
   "source": [
    "keys = [list(x.keys()) for x in df['side_table']]\n",
    "keys = [ item for sublist in keys for item in sublist]"
   ]
  },
  {
   "cell_type": "code",
   "execution_count": 8,
   "metadata": {},
   "outputs": [],
   "source": [
    "keys = set(keys)"
   ]
  },
  {
   "cell_type": "code",
   "execution_count": 9,
   "metadata": {},
   "outputs": [
    {
     "data": {
      "text/plain": [
       "5143"
      ]
     },
     "execution_count": 9,
     "metadata": {},
     "output_type": "execute_result"
    }
   ],
   "source": [
    "len(keys)"
   ]
  },
  {
   "cell_type": "markdown",
   "metadata": {},
   "source": [
    "4991 possible table headers as of now"
   ]
  },
  {
   "cell_type": "code",
   "execution_count": 45,
   "metadata": {},
   "outputs": [],
   "source": [
    "def lol(list_of_lists):\n",
    "    return [ item for sublist in list_of_lists for item in sublist ]"
   ]
  },
  {
   "cell_type": "code",
   "execution_count": 46,
   "metadata": {},
   "outputs": [],
   "source": [
    "values =[list(x.values()) for x in df['side_table']]"
   ]
  },
  {
   "cell_type": "code",
   "execution_count": 48,
   "metadata": {},
   "outputs": [],
   "source": [
    "a = [ lol(i) for i in values ]"
   ]
  },
  {
   "cell_type": "code",
   "execution_count": 51,
   "metadata": {},
   "outputs": [
    {
     "data": {
      "text/plain": [
       "305898"
      ]
     },
     "execution_count": 51,
     "metadata": {},
     "output_type": "execute_result"
    }
   ],
   "source": [
    "len(a)"
   ]
  },
  {
   "cell_type": "code",
   "execution_count": 53,
   "metadata": {},
   "outputs": [
    {
     "data": {
      "text/html": [
       "<div>\n",
       "<style scoped>\n",
       "    .dataframe tbody tr th:only-of-type {\n",
       "        vertical-align: middle;\n",
       "    }\n",
       "\n",
       "    .dataframe tbody tr th {\n",
       "        vertical-align: top;\n",
       "    }\n",
       "\n",
       "    .dataframe thead th {\n",
       "        text-align: right;\n",
       "    }\n",
       "</style>\n",
       "<table border=\"1\" class=\"dataframe\">\n",
       "  <thead>\n",
       "    <tr style=\"text-align: right;\">\n",
       "      <th></th>\n",
       "      <th>url</th>\n",
       "      <th>side_table</th>\n",
       "      <th>lyrics</th>\n",
       "    </tr>\n",
       "  </thead>\n",
       "  <tbody>\n",
       "    <tr>\n",
       "      <th>0</th>\n",
       "      <td>https://genius.com/Kanye-west-gone-lyrics</td>\n",
       "      <td>{'Written By': ['https://genius.com/artists/Ch...</td>\n",
       "      <td>[[Produced by Kanye West], [Intro], Wished I h...</td>\n",
       "    </tr>\n",
       "    <tr>\n",
       "      <th>1</th>\n",
       "      <td>https://genius.com/Nicki-minaj-i-am-your-leade...</td>\n",
       "      <td>{'Written By': ['https://genius.com/artists/Fe...</td>\n",
       "      <td>[[Verse 1: Nicki Minaj], Uh, Look sucker, this...</td>\n",
       "    </tr>\n",
       "    <tr>\n",
       "      <th>2</th>\n",
       "      <td>https://genius.com/Lil-kim-crush-on-you-remix-...</td>\n",
       "      <td>{'Written By': ['https://genius.com/artists/An...</td>\n",
       "      <td>[[Intro: Lil' Cease &amp; Lil' Kim], Undeas!, Lil ...</td>\n",
       "    </tr>\n",
       "    <tr>\n",
       "      <th>3</th>\n",
       "      <td>https://genius.com/Camron-hey-ma-lyrics</td>\n",
       "      <td>{'Written By': ['https://genius.com/artists/D-...</td>\n",
       "      <td>[[Chorus: Freekey Zekey (Toya)], Hey ma (wassu...</td>\n",
       "    </tr>\n",
       "    <tr>\n",
       "      <th>4</th>\n",
       "      <td>https://genius.com/Camron-killa-cam-lyrics</td>\n",
       "      <td>{'Written By': ['https://genius.com/artists/Th...</td>\n",
       "      <td>[[Chorus throughout Intro], Killa Cam, Killa C...</td>\n",
       "    </tr>\n",
       "  </tbody>\n",
       "</table>\n",
       "</div>"
      ],
      "text/plain": [
       "                                                 url  \\\n",
       "0          https://genius.com/Kanye-west-gone-lyrics   \n",
       "1  https://genius.com/Nicki-minaj-i-am-your-leade...   \n",
       "2  https://genius.com/Lil-kim-crush-on-you-remix-...   \n",
       "3            https://genius.com/Camron-hey-ma-lyrics   \n",
       "4         https://genius.com/Camron-killa-cam-lyrics   \n",
       "\n",
       "                                          side_table  \\\n",
       "0  {'Written By': ['https://genius.com/artists/Ch...   \n",
       "1  {'Written By': ['https://genius.com/artists/Fe...   \n",
       "2  {'Written By': ['https://genius.com/artists/An...   \n",
       "3  {'Written By': ['https://genius.com/artists/D-...   \n",
       "4  {'Written By': ['https://genius.com/artists/Th...   \n",
       "\n",
       "                                              lyrics  \n",
       "0  [[Produced by Kanye West], [Intro], Wished I h...  \n",
       "1  [[Verse 1: Nicki Minaj], Uh, Look sucker, this...  \n",
       "2  [[Intro: Lil' Cease & Lil' Kim], Undeas!, Lil ...  \n",
       "3  [[Chorus: Freekey Zekey (Toya)], Hey ma (wassu...  \n",
       "4  [[Chorus throughout Intro], Killa Cam, Killa C...  "
      ]
     },
     "execution_count": 53,
     "metadata": {},
     "output_type": "execute_result"
    }
   ],
   "source": [
    "df.head()"
   ]
  },
  {
   "cell_type": "code",
   "execution_count": 54,
   "metadata": {},
   "outputs": [],
   "source": [
    "df[\"table_values\"] =pd.Series(a)"
   ]
  },
  {
   "cell_type": "code",
   "execution_count": 60,
   "metadata": {},
   "outputs": [],
   "source": [
    "df = df.drop(columns= [\"side_table\"],axis=1)"
   ]
  },
  {
   "cell_type": "code",
   "execution_count": 61,
   "metadata": {},
   "outputs": [
    {
     "data": {
      "text/html": [
       "<div>\n",
       "<style scoped>\n",
       "    .dataframe tbody tr th:only-of-type {\n",
       "        vertical-align: middle;\n",
       "    }\n",
       "\n",
       "    .dataframe tbody tr th {\n",
       "        vertical-align: top;\n",
       "    }\n",
       "\n",
       "    .dataframe thead th {\n",
       "        text-align: right;\n",
       "    }\n",
       "</style>\n",
       "<table border=\"1\" class=\"dataframe\">\n",
       "  <thead>\n",
       "    <tr style=\"text-align: right;\">\n",
       "      <th></th>\n",
       "      <th>url</th>\n",
       "      <th>lyrics</th>\n",
       "      <th>table_values</th>\n",
       "    </tr>\n",
       "  </thead>\n",
       "  <tbody>\n",
       "    <tr>\n",
       "      <th>0</th>\n",
       "      <td>https://genius.com/Kanye-west-gone-lyrics</td>\n",
       "      <td>[[Produced by Kanye West], [Intro], Wished I h...</td>\n",
       "      <td>[https://genius.com/artists/Chuck-willis, http...</td>\n",
       "    </tr>\n",
       "    <tr>\n",
       "      <th>1</th>\n",
       "      <td>https://genius.com/Nicki-minaj-i-am-your-leade...</td>\n",
       "      <td>[[Verse 1: Nicki Minaj], Uh, Look sucker, this...</td>\n",
       "      <td>[https://genius.com/artists/Fernando-garibay, ...</td>\n",
       "    </tr>\n",
       "    <tr>\n",
       "      <th>2</th>\n",
       "      <td>https://genius.com/Lil-kim-crush-on-you-remix-...</td>\n",
       "      <td>[[Intro: Lil' Cease &amp; Lil' Kim], Undeas!, Lil ...</td>\n",
       "      <td>[https://genius.com/artists/Andreao-fanatic-he...</td>\n",
       "    </tr>\n",
       "    <tr>\n",
       "      <th>3</th>\n",
       "      <td>https://genius.com/Camron-hey-ma-lyrics</td>\n",
       "      <td>[[Chorus: Freekey Zekey (Toya)], Hey ma (wassu...</td>\n",
       "      <td>[https://genius.com/artists/D-r-period, https:...</td>\n",
       "    </tr>\n",
       "    <tr>\n",
       "      <th>4</th>\n",
       "      <td>https://genius.com/Camron-killa-cam-lyrics</td>\n",
       "      <td>[[Chorus throughout Intro], Killa Cam, Killa C...</td>\n",
       "      <td>[https://genius.com/artists/The-heatmakerz, ht...</td>\n",
       "    </tr>\n",
       "  </tbody>\n",
       "</table>\n",
       "</div>"
      ],
      "text/plain": [
       "                                                 url  \\\n",
       "0          https://genius.com/Kanye-west-gone-lyrics   \n",
       "1  https://genius.com/Nicki-minaj-i-am-your-leade...   \n",
       "2  https://genius.com/Lil-kim-crush-on-you-remix-...   \n",
       "3            https://genius.com/Camron-hey-ma-lyrics   \n",
       "4         https://genius.com/Camron-killa-cam-lyrics   \n",
       "\n",
       "                                              lyrics  \\\n",
       "0  [[Produced by Kanye West], [Intro], Wished I h...   \n",
       "1  [[Verse 1: Nicki Minaj], Uh, Look sucker, this...   \n",
       "2  [[Intro: Lil' Cease & Lil' Kim], Undeas!, Lil ...   \n",
       "3  [[Chorus: Freekey Zekey (Toya)], Hey ma (wassu...   \n",
       "4  [[Chorus throughout Intro], Killa Cam, Killa C...   \n",
       "\n",
       "                                        table_values  \n",
       "0  [https://genius.com/artists/Chuck-willis, http...  \n",
       "1  [https://genius.com/artists/Fernando-garibay, ...  \n",
       "2  [https://genius.com/artists/Andreao-fanatic-he...  \n",
       "3  [https://genius.com/artists/D-r-period, https:...  \n",
       "4  [https://genius.com/artists/The-heatmakerz, ht...  "
      ]
     },
     "execution_count": 61,
     "metadata": {},
     "output_type": "execute_result"
    }
   ],
   "source": [
    "df.head()"
   ]
  },
  {
   "cell_type": "code",
   "execution_count": 70,
   "metadata": {},
   "outputs": [],
   "source": [
    "df = df.drop_duplicates(subset = 'url')"
   ]
  },
  {
   "cell_type": "code",
   "execution_count": 71,
   "metadata": {},
   "outputs": [
    {
     "data": {
      "text/plain": [
       "(238669, 3)"
      ]
     },
     "execution_count": 71,
     "metadata": {},
     "output_type": "execute_result"
    }
   ],
   "source": [
    "df.shape"
   ]
  },
  {
   "cell_type": "code",
   "execution_count": 72,
   "metadata": {},
   "outputs": [],
   "source": [
    "filename = 'genius_table_values_and_lyrics'\n",
    "outfile = open(filename, 'wb')\n",
    "pickle.dump(df,outfile)\n",
    "outfile.close()"
   ]
  },
  {
   "cell_type": "code",
   "execution_count": 78,
   "metadata": {},
   "outputs": [],
   "source": [
    "set_of_values = set([item for sublist in df[\"table_values\"] for item in sublist])"
   ]
  },
  {
   "cell_type": "code",
   "execution_count": 79,
   "metadata": {},
   "outputs": [
    {
     "data": {
      "text/plain": [
       "154255"
      ]
     },
     "execution_count": 79,
     "metadata": {},
     "output_type": "execute_result"
    }
   ],
   "source": [
    "len(set_of_values)"
   ]
  },
  {
   "cell_type": "code",
   "execution_count": 81,
   "metadata": {},
   "outputs": [],
   "source": [
    "l = list(set_of_values)"
   ]
  },
  {
   "cell_type": "code",
   "execution_count": 91,
   "metadata": {},
   "outputs": [
    {
     "name": "stderr",
     "output_type": "stream",
     "text": [
      "/home/ec2-user/anaconda3/envs/python3/lib/python3.6/site-packages/ipykernel/__main__.py:1: SettingWithCopyWarning: \n",
      "A value is trying to be set on a copy of a slice from a DataFrame.\n",
      "Try using .loc[row_indexer,col_indexer] = value instead\n",
      "\n",
      "See the caveats in the documentation: http://pandas.pydata.org/pandas-docs/stable/indexing.html#indexing-view-versus-copy\n",
      "  if __name__ == '__main__':\n"
     ]
    }
   ],
   "source": [
    "df[l[0]] = df[\"table_values\"].apply(lambda x: l[0] in x )"
   ]
  },
  {
   "cell_type": "code",
   "execution_count": null,
   "metadata": {},
   "outputs": [
    {
     "name": "stderr",
     "output_type": "stream",
     "text": [
      "/home/ec2-user/anaconda3/envs/python3/lib/python3.6/site-packages/ipykernel/__main__.py:2: SettingWithCopyWarning: \n",
      "A value is trying to be set on a copy of a slice from a DataFrame.\n",
      "Try using .loc[row_indexer,col_indexer] = value instead\n",
      "\n",
      "See the caveats in the documentation: http://pandas.pydata.org/pandas-docs/stable/indexing.html#indexing-view-versus-copy\n",
      "  from ipykernel import kernelapp as app\n"
     ]
    }
   ],
   "source": [
    "for i in range(len(l)):\n",
    "    df[l[i]] = df[\"table_values\"].apply(lambda x: l[0] in x)"
   ]
  },
  {
   "cell_type": "code",
   "execution_count": null,
   "metadata": {},
   "outputs": [],
   "source": [
    "df.head()"
   ]
  },
  {
   "cell_type": "code",
   "execution_count": 11,
   "metadata": {},
   "outputs": [],
   "source": [
    "values3 = [item for sublist in values for item in sublist]"
   ]
  },
  {
   "cell_type": "code",
   "execution_count": null,
   "metadata": {},
   "outputs": [],
   "source": []
  },
  {
   "cell_type": "code",
   "execution_count": 13,
   "metadata": {},
   "outputs": [
    {
     "data": {
      "text/plain": [
       "1123502"
      ]
     },
     "execution_count": 13,
     "metadata": {},
     "output_type": "execute_result"
    }
   ],
   "source": [
    "len(values)"
   ]
  },
  {
   "cell_type": "code",
   "execution_count": 12,
   "metadata": {},
   "outputs": [
    {
     "data": {
      "text/plain": [
       "154368"
      ]
     },
     "execution_count": 12,
     "metadata": {},
     "output_type": "execute_result"
    }
   ],
   "source": [
    "v = set(values)\n",
    "len(v)"
   ]
  },
  {
   "cell_type": "markdown",
   "metadata": {},
   "source": [
    "roughly 150k possible columns"
   ]
  },
  {
   "cell_type": "code",
   "execution_count": 60,
   "metadata": {},
   "outputs": [
    {
     "data": {
      "text/plain": [
       "4991"
      ]
     },
     "execution_count": 60,
     "metadata": {},
     "output_type": "execute_result"
    }
   ],
   "source": [
    "z  = set(l)\n",
    "len(z)"
   ]
  },
  {
   "cell_type": "code",
   "execution_count": 61,
   "metadata": {},
   "outputs": [],
   "source": [
    "def written_by(x):\n",
    "    if \"Written By\" in x.keys():\n",
    "        return x[\"Written By\"]"
   ]
  },
  {
   "cell_type": "code",
   "execution_count": 62,
   "metadata": {},
   "outputs": [
    {
     "data": {
      "text/plain": [
       "['https://genius.com/artists/Fernando-garibay',\n",
       " 'https://genius.com/artists/Rick-ross',\n",
       " 'https://genius.com/artists/Camron']"
      ]
     },
     "execution_count": 62,
     "metadata": {},
     "output_type": "execute_result"
    }
   ],
   "source": [
    "written_by(df[\"side_table\"][1])"
   ]
  },
  {
   "cell_type": "code",
   "execution_count": 63,
   "metadata": {},
   "outputs": [],
   "source": [
    "df[\"written_by\"] = df[\"side_table\"].apply(written_by)"
   ]
  },
  {
   "cell_type": "code",
   "execution_count": null,
   "metadata": {},
   "outputs": [],
   "source": [
    "df[\"side_table_values\"] = df[\"side_table\"].apply(lambda x: [list(x.values()) for x in df[\"side_table\"]] )"
   ]
  },
  {
   "cell_type": "code",
   "execution_count": null,
   "metadata": {},
   "outputs": [],
   "source": []
  }
 ],
 "metadata": {
  "kernelspec": {
   "display_name": "Python 3",
   "language": "python",
   "name": "python3"
  },
  "language_info": {
   "codemirror_mode": {
    "name": "ipython",
    "version": 3
   },
   "file_extension": ".py",
   "mimetype": "text/x-python",
   "name": "python",
   "nbconvert_exporter": "python",
   "pygments_lexer": "ipython3",
   "version": "3.7.3"
  }
 },
 "nbformat": 4,
 "nbformat_minor": 2
}
