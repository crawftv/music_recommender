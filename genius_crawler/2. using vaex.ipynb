{
 "cells": [
  {
   "cell_type": "code",
   "execution_count": 16,
   "metadata": {},
   "outputs": [],
   "source": [
    "#!pipenv install numpy --dev"
   ]
  },
  {
   "cell_type": "code",
   "execution_count": 17,
   "metadata": {},
   "outputs": [],
   "source": [
    "#!pipenv install pandas --dev"
   ]
  },
  {
   "cell_type": "code",
   "execution_count": 1,
   "metadata": {},
   "outputs": [],
   "source": [
    "%load_ext blackcellmagic"
   ]
  },
  {
   "cell_type": "code",
   "execution_count": 2,
   "metadata": {},
   "outputs": [],
   "source": [
    "#!pipenv install black==\"19.3b0\" blackcellmagic --dev"
   ]
  },
  {
   "cell_type": "code",
   "execution_count": 1,
   "metadata": {},
   "outputs": [],
   "source": [
    "import numpy as np"
   ]
  },
  {
   "cell_type": "code",
   "execution_count": 4,
   "metadata": {},
   "outputs": [],
   "source": [
    "import vaex\n",
    "from ast import literal_eval"
   ]
  },
  {
   "cell_type": "code",
   "execution_count": 5,
   "metadata": {},
   "outputs": [],
   "source": [
    "df = vaex.read_csv_and_convert(\"million.9_song.csv\")\n",
    "df = vaex.open(\"million.9_song.csv.hdf5\")"
   ]
  },
  {
   "cell_type": "code",
   "execution_count": 6,
   "metadata": {},
   "outputs": [],
   "source": [
    "def list_check(i):\n",
    "    if type(i) == list:\n",
    "        return i\n",
    "\n",
    "\n",
    "def extract_links(list_of_tuples):\n",
    "    \"\"\"\n",
    "    1. List of tuples was saved as a string, turn it back into a list\n",
    "    2. Turn Tuples into list. Output is a list of strings & lists\n",
    "    3. filter only the lists, drop the identifiers such as \"Written by\". Output is a list of lists. \n",
    "    4. Turn the list of lists into one list\n",
    "        4a. Remove stuff from the url stuff from the song url to get an identifier.\n",
    "    \"\"\"\n",
    "    a = literal_eval(list_of_tuples)\n",
    "    a = list(filter(list_check, [i[1] for i in a]))\n",
    "    a = [\n",
    "        j.replace(\"https://genius.com/artists/\", \"\")\n",
    "        .replace(\"https://genius.com/\", \"\")\n",
    "        .replace(\"artists/\", \"\")\n",
    "        .replace(\"-lyrics\", \"\")\n",
    "        .lower()\n",
    "        for i in a\n",
    "        for j in i\n",
    "    ]\n",
    "    return a\n",
    "def get_header_links(item):\n",
    "    \"\"\"\n",
    "    1. List was saved as a string. turn it back into a list\n",
    "    2. \n",
    "    \"\"\"\n",
    "    item = literal_eval(item)\n",
    "    if (type(item) == list) &( len(item)>0):\n",
    "        item = item[0].replace(\"https://genius.com/artists/\", \"\")\n",
    "        item = item.lower()\n",
    "        return [item]"
   ]
  },
  {
   "cell_type": "code",
   "execution_count": null,
   "metadata": {},
   "outputs": [],
   "source": []
  },
  {
   "cell_type": "code",
   "execution_count": 7,
   "metadata": {},
   "outputs": [
    {
     "data": {
      "text/html": [
       "<table>\n",
       "<thead>\n",
       "<tr><th>#                                    </th><th>song_num  </th><th>title              </th><th>url                                                </th><th>lyrics                                                  </th><th>side_table                                         </th><th>header_links                                       </th></tr>\n",
       "</thead>\n",
       "<tbody>\n",
       "<tr><td><i style='opacity: 0.6'>0</i>        </td><td>358479    </td><td>Hostage            </td><td>https://genius.com/Dangerkids-hostage-lyrics       </td><td>'[\"I\\'ve got nowhere left to hide\", \\'No time left...   </td><td>[('Release Date', [])]                             </td><td>['https://genius.com/artists/Dangerkids']          </td></tr>\n",
       "<tr><td><i style='opacity: 0.6'>1</i>        </td><td>358490    </td><td>Fuck Em All        </td><td>https://genius.com/Caution-fuck-em-all-lyrics      </td><td>\"['[Hook]', 'You can catch me rollin wit my goon...     </td><td>[('Release Date', [])]                             </td><td>['https://genius.com/artists/Caution']             </td></tr>\n",
       "<tr><td><i style='opacity: 0.6'>2</i>        </td><td>358464    </td><td>“Ananseem Stories” </td><td>'https://genius.com/Freeman-dwamena-ananseem-sto...</td><td>\"['There is in Ghana story-feeling art called An...     </td><td>[('Release Date', [])]                             </td><td>['https://genius.com/artists/Freeman-dwamena']     </td></tr>\n",
       "<tr><td><i style='opacity: 0.6'>3</i>        </td><td>358434    </td><td>The Sun            </td><td>https://genius.com/Kazaky-the-sun-lyrics           </td><td>'[\\'[Verse 1]\\', \"You don\\'t see me\", \\'Now I am far... </td><td>[('Release Date', [])]                             </td><td>['https://genius.com/artists/Kazaky']              </td></tr>\n",
       "<tr><td><i style='opacity: 0.6'>4</i>        </td><td>358510    </td><td>Amused             </td><td>'https://genius.com/Jimmy-the-rapper-and-jay-bel...</td><td>\"['[Verse 1 - Jimmy The Rapper]', 'Came came, sa...     </td><td>[('Release Date', [])]                             </td><td>\"['https://genius.com/artists/Jimmy-the-rapper-a...</td></tr>\n",
       "<tr><td>...                                  </td><td>...       </td><td>...                </td><td>...                                                </td><td>...                                                     </td><td>...                                                </td><td>...                                                </td></tr>\n",
       "<tr><td><i style='opacity: 0.6'>1,907,745</i></td><td>2391271   </td><td>Bem Estar          </td><td>https://genius.com/3030-bem-estar-lyrics           </td><td>\"['[Refrão: LK e Felp]', 'Eu quero seu bem estar...     </td><td>\"[('Written By', ['https://genius.com/artists/Fe...</td><td>['https://genius.com/artists/3030']                </td></tr>\n",
       "<tr><td><i style='opacity: 0.6'>1,907,746</i></td><td>2391184   </td><td>Vitamine 30        </td><td>'https://genius.com/Alireza-jj-and-sijal-vitamin...</td><td>\"['؛[مقدمه: بهزاد لیتو]؛', 'زندگیا شده دیگه بس ک...     </td><td>\"[('Written By', ['https://genius.com/artists/Si...</td><td>\"['https://genius.com/artists/Alireza-jj-and-sij...</td></tr>\n",
       "<tr><td><i style='opacity: 0.6'>1,907,747</i></td><td>2391236   </td><td>#AlleWollenHaben   </td><td>https://genius.com/Haben-allewollenhaben-lyrics    </td><td>\"['[Intro]', 'Was soll ich dir sagen, Bruder?', ...     </td><td>[('Release Date', [])]                             </td><td>['https://genius.com/artists/Haben']               </td></tr>\n",
       "<tr><td><i style='opacity: 0.6'>1,907,748</i></td><td>2391263   </td><td>Giovanni and I     </td><td>'https://genius.com/Dominick-rivera-giovanni-and...</td><td>\"['I loved the way', 'I called, you came', 'Reme...     </td><td>[]                                                 </td><td>['https://genius.com/artists/Dominick-rivera']     </td></tr>\n",
       "<tr><td><i style='opacity: 0.6'>1,907,749</i></td><td>2391292   </td><td>Denace - My Name Is</td><td>'https://genius.com/The-official-nasty-denace-my...</td><td>'[\\'Hey-Hey\\', \\'How you doing\\', \"Yeah well that\\'s ...</td><td>\"[('Written By', ['https://genius.com/artists/De...</td><td>['https://genius.com/artists/The-official-nasty']  </td></tr>\n",
       "</tbody>\n",
       "</table>"
      ],
      "text/plain": [
       "#          song_num    title                url                                                  lyrics                                                    side_table                                           header_links\n",
       "0          358479      Hostage              https://genius.com/Dangerkids-hostage-lyrics         '[\"I\\'ve got nowhere left to hide\", \\'No time left...     [('Release Date', [])]                               ['https://genius.com/artists/Dangerkids']\n",
       "1          358490      Fuck Em All          https://genius.com/Caution-fuck-em-all-lyrics        \"['[Hook]', 'You can catch me rollin wit my goon...       [('Release Date', [])]                               ['https://genius.com/artists/Caution']\n",
       "2          358464      “Ananseem Stories”   'https://genius.com/Freeman-dwamena-ananseem-sto...  \"['There is in Ghana story-feeling art called An...       [('Release Date', [])]                               ['https://genius.com/artists/Freeman-dwamena']\n",
       "3          358434      The Sun              https://genius.com/Kazaky-the-sun-lyrics             '[\\'[Verse 1]\\', \"You don\\'t see me\", \\'Now I am far...   [('Release Date', [])]                               ['https://genius.com/artists/Kazaky']\n",
       "4          358510      Amused               'https://genius.com/Jimmy-the-rapper-and-jay-bel...  \"['[Verse 1 - Jimmy The Rapper]', 'Came came, sa...       [('Release Date', [])]                               \"['https://genius.com/artists/Jimmy-the-rapper-a...\n",
       "...        ...         ...                  ...                                                  ...                                                       ...                                                  ...\n",
       "1,907,745  2391271     Bem Estar            https://genius.com/3030-bem-estar-lyrics             \"['[Refrão: LK e Felp]', 'Eu quero seu bem estar...       \"[('Written By', ['https://genius.com/artists/Fe...  ['https://genius.com/artists/3030']\n",
       "1,907,746  2391184     Vitamine 30          'https://genius.com/Alireza-jj-and-sijal-vitamin...  \"['؛[مقدمه: بهزاد لیتو]؛', 'زندگیا شده دیگه بس ک...       \"[('Written By', ['https://genius.com/artists/Si...  \"['https://genius.com/artists/Alireza-jj-and-sij...\n",
       "1,907,747  2391236     #AlleWollenHaben     https://genius.com/Haben-allewollenhaben-lyrics      \"['[Intro]', 'Was soll ich dir sagen, Bruder?', ...       [('Release Date', [])]                               ['https://genius.com/artists/Haben']\n",
       "1,907,748  2391263     Giovanni and I       'https://genius.com/Dominick-rivera-giovanni-and...  \"['I loved the way', 'I called, you came', 'Reme...       []                                                   ['https://genius.com/artists/Dominick-rivera']\n",
       "1,907,749  2391292     Denace - My Name Is  'https://genius.com/The-official-nasty-denace-my...  '[\\'Hey-Hey\\', \\'How you doing\\', \"Yeah well that\\'s ...  \"[('Written By', ['https://genius.com/artists/De...  ['https://genius.com/artists/The-official-nasty']"
      ]
     },
     "execution_count": 7,
     "metadata": {},
     "output_type": "execute_result"
    }
   ],
   "source": [
    "df.drop(df.index,inplace=True)"
   ]
  },
  {
   "cell_type": "code",
   "execution_count": 8,
   "metadata": {},
   "outputs": [],
   "source": [
    "df.add_virtual_column(\"meta_data_1\",df.side_table.apply(extract_links))\n",
    "df.add_virtual_column(\"fixed_header_links\", df.header_links.apply(get_header_links))"
   ]
  },
  {
   "cell_type": "code",
   "execution_count": 9,
   "metadata": {},
   "outputs": [],
   "source": [
    "md1 = df.evaluate(df.meta_data_1)\n",
    "h = df.evaluate(df.fixed_header_links)"
   ]
  },
  {
   "cell_type": "code",
   "execution_count": 10,
   "metadata": {},
   "outputs": [],
   "source": [
    "def return_longest(a,b):\n",
    "    if (type(a)==list) & (type(b)==list):\n",
    "        if len(a)>len(b):\n",
    "            return a\n",
    "        else:\n",
    "            return b\n",
    "    elif type(b)!=list:\n",
    "        return a"
   ]
  },
  {
   "cell_type": "code",
   "execution_count": 11,
   "metadata": {},
   "outputs": [],
   "source": [
    "df.add_column(\"meta_data_2\",np.array([return_longest(a,b) for a,b in zip(md1,h)]))"
   ]
  },
  {
   "cell_type": "code",
   "execution_count": 12,
   "metadata": {},
   "outputs": [],
   "source": [
    "df.add_virtual_column(\n",
    "    \"song_identifier\",\n",
    "    df.url.str.replace(\"https://genius.com/\", \"\")\n",
    "    .str.replace(\"-lyrics\", \"\")\n",
    "    .str.replace(\"https://genius.com/artists/\", \"\")\n",
    "    .str.lower()\n",
    ")"
   ]
  },
  {
   "cell_type": "code",
   "execution_count": 13,
   "metadata": {},
   "outputs": [],
   "source": [
    "from collections import Counter\n",
    "si_count = Counter([i for i in df.song_identifier.evaluate() ])"
   ]
  },
  {
   "cell_type": "code",
   "execution_count": 14,
   "metadata": {},
   "outputs": [
    {
     "data": {
      "text/plain": [
       "[('bispo-olho-gordo', 2),\n",
       " ('the-cloud-cars-old-die-young', 2),\n",
       " ('lloyd-all-of-me', 2),\n",
       " ('yo-yo-honey-singh-blue-eyes', 2),\n",
       " ('krayzie-bone-clash-of-the-titans-rap-god-remix', 2),\n",
       " ('dealema-nada-dura-para-sempre', 2),\n",
       " ('cheesecake-dave-colours-remix', 2),\n",
       " ('parachute-what-i-know', 2),\n",
       " ('apologetix-sufferin-just-finished', 2),\n",
       " ('will-young-dance-the-night-away', 2),\n",
       " ('the-cure-just-one-kiss', 2),\n",
       " ('halifax-the-next-two-weeks', 2),\n",
       " ('teefreeze-solo', 2),\n",
       " ('atb-everything-is-wrong', 2),\n",
       " ('don-tetto-ha-vuelto-a-suceder', 2),\n",
       " ('paulina-rubio-pobre-nina-rica', 2),\n",
       " ('after-forever-monolith-of-doubt', 2),\n",
       " ('paul-oakenfold-ready-steady-go', 2),\n",
       " ('paul-gilbert-i-am-satan', 2),\n",
       " ('emerson-lake-and-palmer-a-time-and-a-place', 2),\n",
       " ('flow-projectz-toast-to-tha-future', 2),\n",
       " ('mark-owen-pieces-of-heaven', 2),\n",
       " ('red-flag-a-life-worth-living', 2),\n",
       " ('nat-king-cole-april-in-paris', 2),\n",
       " ('nat-king-cole-i-hear-music', 2),\n",
       " ('sissel-lr-meg-a-kjenne', 2),\n",
       " ('the-juan-maclean-you-were-a-runaway', 2),\n",
       " ('steen-bier', 2),\n",
       " ('ashley-tisdale-not-like-that', 2),\n",
       " ('nat-king-cole-love-walked-in', 2),\n",
       " ('bispo-mentalidade-free', 2),\n",
       " ('tego-calderon-dando-break', 2),\n",
       " ('princess-superstar-who-writes-your', 2),\n",
       " ('hatebreed-a-call-for-blood', 2),\n",
       " ('omg-girlz-lover-boy', 2),\n",
       " ('bispo-aviola', 2),\n",
       " ('bispo-convivio-ta-fixe-assim', 2),\n",
       " ('bispo-vive-o-hoje', 2),\n",
       " ('bispo-quando-convem', 2),\n",
       " ('bispo-ponto-final', 2),\n",
       " ('claymore-topic-of-discussion-greatest-rappa', 2),\n",
       " ('hoodie-allen-let-it-all-work-out', 2),\n",
       " ('russell-rack-city-remix', 2),\n",
       " ('ed-sheeran-im-in-love-with-the-coco-hitimpulse-remix', 2),\n",
       " ('haddaway-what-is-love', 2),\n",
       " ('parachute-forever-and-always', 2),\n",
       " ('terrace-martin-do-it-again', 2),\n",
       " ('nat-king-cole-somebody-loves-me', 2),\n",
       " ('n-talekt-dont-cry-for-me', 2),\n",
       " ('dangerkids-hostage', 1)]"
      ]
     },
     "execution_count": 14,
     "metadata": {},
     "output_type": "execute_result"
    }
   ],
   "source": [
    "#checks for duplicates\n",
    "si_count.most_common(50)"
   ]
  },
  {
   "cell_type": "code",
   "execution_count": null,
   "metadata": {},
   "outputs": [],
   "source": []
  },
  {
   "cell_type": "code",
   "execution_count": null,
   "metadata": {},
   "outputs": [],
   "source": []
  },
  {
   "cell_type": "markdown",
   "metadata": {},
   "source": [
    "# Bag of Words vectorization for song meta data\n",
    "\n",
    "Networkx graph is coming out way too small. I have over 31 million edges. But the graph has 393,971 nodes"
   ]
  },
  {
   "cell_type": "markdown",
   "metadata": {},
   "source": [
    "### why list comprehension\n",
    "list comprehesion worked where numpy vectorization and vaex built in string operations failed."
   ]
  },
  {
   "cell_type": "code",
   "execution_count": null,
   "metadata": {},
   "outputs": [],
   "source": [
    "d = df.meta_data_2.evaluate()"
   ]
  },
  {
   "cell_type": "code",
   "execution_count": null,
   "metadata": {},
   "outputs": [],
   "source": [
    "data_strings = [\" \".join(i) for i in d]"
   ]
  },
  {
   "cell_type": "markdown",
   "metadata": {},
   "source": [
    "### Build vocabulary\n",
    "countvectorizer() turns `'pete-rock'` into `['pete','rock']`\n",
    "So we need to build a new vocabulary"
   ]
  },
  {
   "cell_type": "code",
   "execution_count": null,
   "metadata": {},
   "outputs": [],
   "source": []
  },
  {
   "cell_type": "code",
   "execution_count": null,
   "metadata": {},
   "outputs": [],
   "source": [
    "data_vocabulary = list(\" \".join(data_strings).split(\" \"))"
   ]
  },
  {
   "cell_type": "code",
   "execution_count": null,
   "metadata": {},
   "outputs": [],
   "source": [
    "len(data_vocabulary)"
   ]
  },
  {
   "cell_type": "code",
   "execution_count": null,
   "metadata": {},
   "outputs": [],
   "source": [
    "len(set(data_vocabulary))"
   ]
  },
  {
   "cell_type": "code",
   "execution_count": null,
   "metadata": {},
   "outputs": [],
   "source": []
  },
  {
   "cell_type": "markdown",
   "metadata": {},
   "source": [
    "# 9 million features condenses into 24k nodes\n",
    "maybe the edgelist wasn't that far off"
   ]
  },
  {
   "cell_type": "code",
   "execution_count": null,
   "metadata": {},
   "outputs": [],
   "source": [
    "from sklearn.feature_extraction.text import CountVectorizer\n",
    "\n",
    "vectorizer = CountVectorizer(\n",
    "    strip_accents=None,\n",
    "    lowercase=True,\n",
    "    preprocessor=None,\n",
    "    tokenizer=None,\n",
    "    stop_words=None,\n",
    ")"
   ]
  },
  {
   "cell_type": "code",
   "execution_count": null,
   "metadata": {},
   "outputs": [],
   "source": [
    "vectorizer.vocabulary =set(data_vocabulary)"
   ]
  },
  {
   "cell_type": "code",
   "execution_count": null,
   "metadata": {},
   "outputs": [],
   "source": [
    "X = vectorizer.fit_transform(data_strings)"
   ]
  },
  {
   "cell_type": "code",
   "execution_count": null,
   "metadata": {},
   "outputs": [],
   "source": [
    "len(vectorizer.vocabulary_)"
   ]
  },
  {
   "cell_type": "code",
   "execution_count": null,
   "metadata": {},
   "outputs": [],
   "source": []
  },
  {
   "cell_type": "markdown",
   "metadata": {},
   "source": [
    "### Back to Vaex\n",
    "This is going to be very round-about-way.\n",
    "\n",
    "This did not work, skip to truncated SVD for now."
   ]
  },
  {
   "cell_type": "code",
   "execution_count": null,
   "metadata": {},
   "outputs": [],
   "source": [
    "# import pyarrow\n",
    "# pyarrow.array(X)"
   ]
  },
  {
   "cell_type": "code",
   "execution_count": null,
   "metadata": {},
   "outputs": [],
   "source": []
  },
  {
   "cell_type": "markdown",
   "metadata": {},
   "source": [
    "### Truncated SVD\n",
    "used because the truncated form can take sparse matrices."
   ]
  },
  {
   "cell_type": "code",
   "execution_count": null,
   "metadata": {},
   "outputs": [],
   "source": [
    "from sklearn.decomposition import TruncatedSVD\n",
    "svd = TruncatedSVD(n_components=300, n_iter=30, random_state=42)"
   ]
  },
  {
   "cell_type": "code",
   "execution_count": null,
   "metadata": {},
   "outputs": [],
   "source": [
    "%%time\n",
    "x_svd = svd.fit_transform(X)  "
   ]
  },
  {
   "cell_type": "code",
   "execution_count": null,
   "metadata": {},
   "outputs": [],
   "source": [
    "x_svd.shape"
   ]
  },
  {
   "cell_type": "markdown",
   "metadata": {},
   "source": [
    "# Get lyric embeddings"
   ]
  },
  {
   "cell_type": "code",
   "execution_count": 15,
   "metadata": {},
   "outputs": [],
   "source": [
    "npl = df.lyrics.evaluate()"
   ]
  },
  {
   "cell_type": "code",
   "execution_count": null,
   "metadata": {},
   "outputs": [],
   "source": []
  },
  {
   "cell_type": "code",
   "execution_count": 21,
   "metadata": {},
   "outputs": [],
   "source": [
    "import re\n",
    "\n",
    "\n",
    "def clean_lyrics(lyrics):\n",
    "    \"\"\"\n",
    "    0. Check for type == string, or else it will throw an error. didn't use a plain else incase there were other errors.\n",
    "    1. turn the pickled list into into an actual list\n",
    "    2. rejoin the list into one string\n",
    "    3. regex and other string operations to clean the lyrics\n",
    "    \"\"\"\n",
    "    try:\n",
    "        lyrics = literal_eval(lyrics)\n",
    "        l = \" \".join(lyrics)\n",
    "        l = re.sub(r'\\[(.+?)\\]|\"', \" \", l)\n",
    "        l = (\n",
    "            l.replace(\"'\", \"\")\n",
    "            .replace(r\", \", \" \")\n",
    "            .replace(\"(\", \"\")\n",
    "            .replace(\")\", \"\")\n",
    "            .replace(\"?\", \"\")\n",
    "            .replace(\":\" \"\", \"\")\n",
    "            .strip()\n",
    "            .lower()\n",
    "        )\n",
    "        return l\n",
    "    except:\n",
    "        return  \" \""
   ]
  },
  {
   "cell_type": "code",
   "execution_count": 23,
   "metadata": {},
   "outputs": [],
   "source": [
    "df.add_virtual_column(\"clean_lyrics\", df.lyrics.apply(clean_lyrics))"
   ]
  },
  {
   "cell_type": "markdown",
   "metadata": {},
   "source": [
    "I should definitely have been visualizing data earlier. There are a few outliers causing problems. no lyrics...\n",
    "\n",
    "I was way too confident in my data."
   ]
  },
  {
   "cell_type": "code",
   "execution_count": 24,
   "metadata": {},
   "outputs": [
    {
     "data": {
      "text/html": [
       "<table>\n",
       "<thead>\n",
       "<tr><th>#                                    </th><th>song_num  </th><th>title              </th><th>url                                                </th><th>lyrics                                                  </th><th>side_table                                         </th><th>header_links                                       </th><th>meta_data_1                                        </th><th>fixed_header_links              </th><th>meta_data_2                                        </th><th>song_identifier                           </th><th>clean_lyrics                                       </th></tr>\n",
       "</thead>\n",
       "<tbody>\n",
       "<tr><td><i style='opacity: 0.6'>0</i>        </td><td>358479    </td><td>Hostage            </td><td>https://genius.com/Dangerkids-hostage-lyrics       </td><td>'[\"I\\'ve got nowhere left to hide\", \\'No time left...   </td><td>[('Release Date', [])]                             </td><td>['https://genius.com/artists/Dangerkids']          </td><td>[]                                                 </td><td>['dangerkids']                  </td><td>['dangerkids']                                     </td><td>dangerkids-hostage                        </td><td>'ive got nowhere left to hide no time left for a...</td></tr>\n",
       "<tr><td><i style='opacity: 0.6'>1</i>        </td><td>358490    </td><td>Fuck Em All        </td><td>https://genius.com/Caution-fuck-em-all-lyrics      </td><td>\"['[Hook]', 'You can catch me rollin wit my goon...     </td><td>[('Release Date', [])]                             </td><td>['https://genius.com/artists/Caution']             </td><td>[]                                                 </td><td>['caution']                     </td><td>['caution']                                        </td><td>caution-fuck-em-all                       </td><td>'you can catch me rollin wit my goonies we be wi...</td></tr>\n",
       "<tr><td><i style='opacity: 0.6'>2</i>        </td><td>358464    </td><td>“Ananseem Stories” </td><td>'https://genius.com/Freeman-dwamena-ananseem-sto...</td><td>\"['There is in Ghana story-feeling art called An...     </td><td>[('Release Date', [])]                             </td><td>['https://genius.com/artists/Freeman-dwamena']     </td><td>[]                                                 </td><td>['freeman-dwamena']             </td><td>['freeman-dwamena']                                </td><td>freeman-dwamena-ananseem-stories-annotated</td><td>'there is in ghana story-feeling art called anan...</td></tr>\n",
       "<tr><td><i style='opacity: 0.6'>3</i>        </td><td>358434    </td><td>The Sun            </td><td>https://genius.com/Kazaky-the-sun-lyrics           </td><td>'[\\'[Verse 1]\\', \"You don\\'t see me\", \\'Now I am far... </td><td>[('Release Date', [])]                             </td><td>['https://genius.com/artists/Kazaky']              </td><td>[]                                                 </td><td>['kazaky']                      </td><td>['kazaky']                                         </td><td>kazaky-the-sun                            </td><td>'you dont see me now i am far away you dont feel...</td></tr>\n",
       "<tr><td><i style='opacity: 0.6'>4</i>        </td><td>358510    </td><td>Amused             </td><td>'https://genius.com/Jimmy-the-rapper-and-jay-bel...</td><td>\"['[Verse 1 - Jimmy The Rapper]', 'Came came, sa...     </td><td>[('Release Date', [])]                             </td><td>\"['https://genius.com/artists/Jimmy-the-rapper-a...</td><td>[]                                                 </td><td>['jimmy-the-rapper-and-jay-bel']</td><td>['jimmy-the-rapper-and-jay-bel']                   </td><td>jimmy-the-rapper-and-jay-bel-amused       </td><td>'came came saw saw conquered your body.. frame b...</td></tr>\n",
       "<tr><td>...                                  </td><td>...       </td><td>...                </td><td>...                                                </td><td>...                                                     </td><td>...                                                </td><td>...                                                </td><td>...                                                </td><td>...                             </td><td>...                                                </td><td>...                                       </td><td>...                                                </td></tr>\n",
       "<tr><td><i style='opacity: 0.6'>1,907,745</i></td><td>2391271   </td><td>Bem Estar          </td><td>https://genius.com/3030-bem-estar-lyrics           </td><td>\"['[Refrão: LK e Felp]', 'Eu quero seu bem estar...     </td><td>\"[('Written By', ['https://genius.com/artists/Fe...</td><td>['https://genius.com/artists/3030']                </td><td>['felp22', 'rod-3030', 'luan-lk']                  </td><td>['3030']                        </td><td>['felp22', 'rod-3030', 'luan-lk']                  </td><td>3030-bem-estar                            </td><td>'eu quero seu bem estar mas na minha cama você j...</td></tr>\n",
       "<tr><td><i style='opacity: 0.6'>1,907,746</i></td><td>2391184   </td><td>Vitamine 30        </td><td>'https://genius.com/Alireza-jj-and-sijal-vitamin...</td><td>\"['؛[مقدمه: بهزاد لیتو]؛', 'زندگیا شده دیگه بس ک...     </td><td>\"[('Written By', ['https://genius.com/artists/Si...</td><td>\"['https://genius.com/artists/Alireza-jj-and-sij...</td><td>\"['sijal', 'sohrab-mj', 'alireza-jj', 'momet-sha...</td><td>['alireza-jj-and-sijal']        </td><td>\"['sijal', 'sohrab-mj', 'alireza-jj', 'momet-sha...</td><td>alireza-jj-and-sijal-vitamine-30          </td><td>'؛ ؛ زندگیا شده دیگه بس که بیخودی همه با خیال با...</td></tr>\n",
       "<tr><td><i style='opacity: 0.6'>1,907,747</i></td><td>2391236   </td><td>#AlleWollenHaben   </td><td>https://genius.com/Haben-allewollenhaben-lyrics    </td><td>\"['[Intro]', 'Was soll ich dir sagen, Bruder?', ...     </td><td>[('Release Date', [])]                             </td><td>['https://genius.com/artists/Haben']               </td><td>[]                                                 </td><td>['haben']                       </td><td>['haben']                                          </td><td>haben-allewollenhaben                     </td><td>'was soll ich dir sagen bruder du weißt alter al...</td></tr>\n",
       "<tr><td><i style='opacity: 0.6'>1,907,748</i></td><td>2391263   </td><td>Giovanni and I     </td><td>'https://genius.com/Dominick-rivera-giovanni-and...</td><td>\"['I loved the way', 'I called, you came', 'Reme...     </td><td>[]                                                 </td><td>['https://genius.com/artists/Dominick-rivera']     </td><td>[]                                                 </td><td>['dominick-rivera']             </td><td>['dominick-rivera']                                </td><td>dominick-rivera-giovanni-and-i            </td><td>'i loved the way i called you came remember thos...</td></tr>\n",
       "<tr><td><i style='opacity: 0.6'>1,907,749</i></td><td>2391292   </td><td>Denace - My Name Is</td><td>'https://genius.com/The-official-nasty-denace-my...</td><td>'[\\'Hey-Hey\\', \\'How you doing\\', \"Yeah well that\\'s ...</td><td>\"[('Written By', ['https://genius.com/artists/De...</td><td>['https://genius.com/artists/The-official-nasty']  </td><td>['dennis-maniatakis']                              </td><td>['the-official-nasty']          </td><td>['the-official-nasty']                             </td><td>the-official-nasty-denace-my-name-is      </td><td>'hey-hey how you doing yeah well thats good me s...</td></tr>\n",
       "</tbody>\n",
       "</table>"
      ],
      "text/plain": [
       "#          song_num    title                url                                                  lyrics                                                    side_table                                           header_links                                         meta_data_1                                          fixed_header_links                meta_data_2                                          song_identifier                             clean_lyrics\n",
       "0          358479      Hostage              https://genius.com/Dangerkids-hostage-lyrics         '[\"I\\'ve got nowhere left to hide\", \\'No time left...     [('Release Date', [])]                               ['https://genius.com/artists/Dangerkids']            []                                                   ['dangerkids']                    ['dangerkids']                                       dangerkids-hostage                          'ive got nowhere left to hide no time left for a...\n",
       "1          358490      Fuck Em All          https://genius.com/Caution-fuck-em-all-lyrics        \"['[Hook]', 'You can catch me rollin wit my goon...       [('Release Date', [])]                               ['https://genius.com/artists/Caution']               []                                                   ['caution']                       ['caution']                                          caution-fuck-em-all                         'you can catch me rollin wit my goonies we be wi...\n",
       "2          358464      “Ananseem Stories”   'https://genius.com/Freeman-dwamena-ananseem-sto...  \"['There is in Ghana story-feeling art called An...       [('Release Date', [])]                               ['https://genius.com/artists/Freeman-dwamena']       []                                                   ['freeman-dwamena']               ['freeman-dwamena']                                  freeman-dwamena-ananseem-stories-annotated  'there is in ghana story-feeling art called anan...\n",
       "3          358434      The Sun              https://genius.com/Kazaky-the-sun-lyrics             '[\\'[Verse 1]\\', \"You don\\'t see me\", \\'Now I am far...   [('Release Date', [])]                               ['https://genius.com/artists/Kazaky']                []                                                   ['kazaky']                        ['kazaky']                                           kazaky-the-sun                              'you dont see me now i am far away you dont feel...\n",
       "4          358510      Amused               'https://genius.com/Jimmy-the-rapper-and-jay-bel...  \"['[Verse 1 - Jimmy The Rapper]', 'Came came, sa...       [('Release Date', [])]                               \"['https://genius.com/artists/Jimmy-the-rapper-a...  []                                                   ['jimmy-the-rapper-and-jay-bel']  ['jimmy-the-rapper-and-jay-bel']                     jimmy-the-rapper-and-jay-bel-amused         'came came saw saw conquered your body.. frame b...\n",
       "...        ...         ...                  ...                                                  ...                                                       ...                                                  ...                                                  ...                                                  ...                               ...                                                  ...                                         ...\n",
       "1,907,745  2391271     Bem Estar            https://genius.com/3030-bem-estar-lyrics             \"['[Refrão: LK e Felp]', 'Eu quero seu bem estar...       \"[('Written By', ['https://genius.com/artists/Fe...  ['https://genius.com/artists/3030']                  ['felp22', 'rod-3030', 'luan-lk']                    ['3030']                          ['felp22', 'rod-3030', 'luan-lk']                    3030-bem-estar                              'eu quero seu bem estar mas na minha cama você j...\n",
       "1,907,746  2391184     Vitamine 30          'https://genius.com/Alireza-jj-and-sijal-vitamin...  \"['؛[مقدمه: بهزاد لیتو]؛', 'زندگیا شده دیگه بس ک...       \"[('Written By', ['https://genius.com/artists/Si...  \"['https://genius.com/artists/Alireza-jj-and-sij...  \"['sijal', 'sohrab-mj', 'alireza-jj', 'momet-sha...  ['alireza-jj-and-sijal']          \"['sijal', 'sohrab-mj', 'alireza-jj', 'momet-sha...  alireza-jj-and-sijal-vitamine-30            '؛ ؛ زندگیا شده دیگه بس که بیخودی همه با خیال با...\n",
       "1,907,747  2391236     #AlleWollenHaben     https://genius.com/Haben-allewollenhaben-lyrics      \"['[Intro]', 'Was soll ich dir sagen, Bruder?', ...       [('Release Date', [])]                               ['https://genius.com/artists/Haben']                 []                                                   ['haben']                         ['haben']                                            haben-allewollenhaben                       'was soll ich dir sagen bruder du weißt alter al...\n",
       "1,907,748  2391263     Giovanni and I       'https://genius.com/Dominick-rivera-giovanni-and...  \"['I loved the way', 'I called, you came', 'Reme...       []                                                   ['https://genius.com/artists/Dominick-rivera']       []                                                   ['dominick-rivera']               ['dominick-rivera']                                  dominick-rivera-giovanni-and-i              'i loved the way i called you came remember thos...\n",
       "1,907,749  2391292     Denace - My Name Is  'https://genius.com/The-official-nasty-denace-my...  '[\\'Hey-Hey\\', \\'How you doing\\', \"Yeah well that\\'s ...  \"[('Written By', ['https://genius.com/artists/De...  ['https://genius.com/artists/The-official-nasty']    ['dennis-maniatakis']                                ['the-official-nasty']            ['the-official-nasty']                               the-official-nasty-denace-my-name-is        'hey-hey how you doing yeah well thats good me s..."
      ]
     },
     "execution_count": 24,
     "metadata": {},
     "output_type": "execute_result"
    }
   ],
   "source": [
    "df"
   ]
  },
  {
   "cell_type": "code",
   "execution_count": null,
   "metadata": {},
   "outputs": [],
   "source": [
    "cl = df.clean_lyrics.evaluate()"
   ]
  },
  {
   "cell_type": "code",
   "execution_count": null,
   "metadata": {},
   "outputs": [],
   "source": []
  },
  {
   "cell_type": "code",
   "execution_count": null,
   "metadata": {},
   "outputs": [],
   "source": [
    "df.head(5)"
   ]
  },
  {
   "cell_type": "code",
   "execution_count": 25,
   "metadata": {},
   "outputs": [
    {
     "name": "stderr",
     "output_type": "stream",
     "text": [
      "ERROR:MainThread:vaex.execution:error in task, flush task queue\n",
      "Traceback (most recent call last):\n",
      "  File \"/home/cwcollins/.local/share/virtualenvs/music_recommender-A4vLtpgt/lib/python3.6/site-packages/vaex/scopes.py\", line 86, in evaluate\n",
      "    result = self[expression]\n",
      "  File \"/home/cwcollins/.local/share/virtualenvs/music_recommender-A4vLtpgt/lib/python3.6/site-packages/vaex/scopes.py\", line 133, in __getitem__\n",
      "    raise KeyError(\"Unknown variables or column: %r\" % (variable,))\n",
      "KeyError: \"Unknown variables or column: 'str_len(clean_lyrics)'\"\n",
      "\n",
      "During handling of the above exception, another exception occurred:\n",
      "\n",
      "Traceback (most recent call last):\n",
      "  File \"/home/cwcollins/.local/share/virtualenvs/music_recommender-A4vLtpgt/lib/python3.6/site-packages/vaex/scopes.py\", line 86, in evaluate\n",
      "    result = self[expression]\n",
      "  File \"/home/cwcollins/.local/share/virtualenvs/music_recommender-A4vLtpgt/lib/python3.6/site-packages/vaex/scopes.py\", line 133, in __getitem__\n",
      "    raise KeyError(\"Unknown variables or column: %r\" % (variable,))\n",
      "KeyError: \"Unknown variables or column: 'lambda_function_2(lyrics)'\"\n",
      "\n",
      "During handling of the above exception, another exception occurred:\n",
      "\n",
      "Traceback (most recent call last):\n",
      "  File \"/home/cwcollins/.local/share/virtualenvs/music_recommender-A4vLtpgt/lib/python3.6/site-packages/vaex/execution.py\", line 189, in execute\n",
      "    cancel=cancel, unpack=True):\n",
      "  File \"/home/cwcollins/.local/share/virtualenvs/music_recommender-A4vLtpgt/lib/python3.6/site-packages/vaex/multithreading.py\", line 53, in map\n",
      "    for i, value in enumerate(super(ThreadPoolIndex, self).map(wrapped, values)):\n",
      "  File \"/usr/lib/python3.6/concurrent/futures/_base.py\", line 586, in result_iterator\n",
      "    yield fs.pop().result()\n",
      "  File \"/usr/lib/python3.6/concurrent/futures/_base.py\", line 432, in result\n",
      "    return self.__get_result()\n",
      "  File \"/usr/lib/python3.6/concurrent/futures/_base.py\", line 384, in __get_result\n",
      "    raise self._exception\n",
      "  File \"/usr/lib/python3.6/concurrent/futures/thread.py\", line 56, in run\n",
      "    result = self.fn(*self.args, **self.kwargs)\n",
      "  File \"/home/cwcollins/.local/share/virtualenvs/music_recommender-A4vLtpgt/lib/python3.6/site-packages/vaex/multithreading.py\", line 47, in wrapped\n",
      "    callable(self.local.index, *args, **kwargs)\n",
      "  File \"/home/cwcollins/.local/share/virtualenvs/music_recommender-A4vLtpgt/lib/python3.6/site-packages/vaex/execution.py\", line 171, in process\n",
      "    block_dict = {expression: block_scope.evaluate(expression) for expression in expressions}\n",
      "  File \"/home/cwcollins/.local/share/virtualenvs/music_recommender-A4vLtpgt/lib/python3.6/site-packages/vaex/execution.py\", line 171, in <dictcomp>\n",
      "    block_dict = {expression: block_scope.evaluate(expression) for expression in expressions}\n",
      "  File \"/home/cwcollins/.local/share/virtualenvs/music_recommender-A4vLtpgt/lib/python3.6/site-packages/vaex/scopes.py\", line 92, in evaluate\n",
      "    result = eval(expression, expression_namespace, self)\n",
      "  File \"<string>\", line 1, in <module>\n",
      "  File \"/home/cwcollins/.local/share/virtualenvs/music_recommender-A4vLtpgt/lib/python3.6/site-packages/vaex/scopes.py\", line 128, in __getitem__\n",
      "    self.values[variable] = self.evaluate(expression)  # , out=self.buffers[variable])\n",
      "  File \"/home/cwcollins/.local/share/virtualenvs/music_recommender-A4vLtpgt/lib/python3.6/site-packages/vaex/scopes.py\", line 92, in evaluate\n",
      "    result = eval(expression, expression_namespace, self)\n",
      "  File \"<string>\", line 1, in <module>\n",
      "  File \"/home/cwcollins/.local/share/virtualenvs/music_recommender-A4vLtpgt/lib/python3.6/site-packages/vaex/expression.py\", line 598, in __call__\n",
      "    result = np.array(result)\n",
      "MemoryError\n"
     ]
    },
    {
     "ename": "MemoryError",
     "evalue": "",
     "output_type": "error",
     "traceback": [
      "\u001b[0;31m---------------------------------------------------------------------------\u001b[0m",
      "\u001b[0;31mKeyError\u001b[0m                                  Traceback (most recent call last)",
      "\u001b[0;32m~/.local/share/virtualenvs/music_recommender-A4vLtpgt/lib/python3.6/site-packages/vaex/scopes.py\u001b[0m in \u001b[0;36mevaluate\u001b[0;34m(self, expression, out)\u001b[0m\n\u001b[1;32m     85\u001b[0m             \u001b[0;31m# logger.debug(\"try avoid evaluating: %s\", expression)\u001b[0m\u001b[0;34m\u001b[0m\u001b[0;34m\u001b[0m\u001b[0;34m\u001b[0m\u001b[0m\n\u001b[0;32m---> 86\u001b[0;31m             \u001b[0mresult\u001b[0m \u001b[0;34m=\u001b[0m \u001b[0mself\u001b[0m\u001b[0;34m[\u001b[0m\u001b[0mexpression\u001b[0m\u001b[0;34m]\u001b[0m\u001b[0;34m\u001b[0m\u001b[0;34m\u001b[0m\u001b[0m\n\u001b[0m\u001b[1;32m     87\u001b[0m         \u001b[0;32mexcept\u001b[0m \u001b[0mKeyError\u001b[0m\u001b[0;34m:\u001b[0m\u001b[0;34m\u001b[0m\u001b[0;34m\u001b[0m\u001b[0m\n",
      "\u001b[0;32m~/.local/share/virtualenvs/music_recommender-A4vLtpgt/lib/python3.6/site-packages/vaex/scopes.py\u001b[0m in \u001b[0;36m__getitem__\u001b[0;34m(self, variable)\u001b[0m\n\u001b[1;32m    132\u001b[0m             \u001b[0;32mif\u001b[0m \u001b[0mvariable\u001b[0m \u001b[0;32mnot\u001b[0m \u001b[0;32min\u001b[0m \u001b[0mself\u001b[0m\u001b[0;34m.\u001b[0m\u001b[0mvalues\u001b[0m\u001b[0;34m:\u001b[0m\u001b[0;34m\u001b[0m\u001b[0;34m\u001b[0m\u001b[0m\n\u001b[0;32m--> 133\u001b[0;31m                 \u001b[0;32mraise\u001b[0m \u001b[0mKeyError\u001b[0m\u001b[0;34m(\u001b[0m\u001b[0;34m\"Unknown variables or column: %r\"\u001b[0m \u001b[0;34m%\u001b[0m \u001b[0;34m(\u001b[0m\u001b[0mvariable\u001b[0m\u001b[0;34m,\u001b[0m\u001b[0;34m)\u001b[0m\u001b[0;34m)\u001b[0m\u001b[0;34m\u001b[0m\u001b[0;34m\u001b[0m\u001b[0m\n\u001b[0m\u001b[1;32m    134\u001b[0m \u001b[0;34m\u001b[0m\u001b[0m\n",
      "\u001b[0;31mKeyError\u001b[0m: \"Unknown variables or column: 'str_len(clean_lyrics)'\"",
      "\nDuring handling of the above exception, another exception occurred:\n",
      "\u001b[0;31mKeyError\u001b[0m                                  Traceback (most recent call last)",
      "\u001b[0;32m~/.local/share/virtualenvs/music_recommender-A4vLtpgt/lib/python3.6/site-packages/vaex/scopes.py\u001b[0m in \u001b[0;36mevaluate\u001b[0;34m(self, expression, out)\u001b[0m\n\u001b[1;32m     85\u001b[0m             \u001b[0;31m# logger.debug(\"try avoid evaluating: %s\", expression)\u001b[0m\u001b[0;34m\u001b[0m\u001b[0;34m\u001b[0m\u001b[0;34m\u001b[0m\u001b[0m\n\u001b[0;32m---> 86\u001b[0;31m             \u001b[0mresult\u001b[0m \u001b[0;34m=\u001b[0m \u001b[0mself\u001b[0m\u001b[0;34m[\u001b[0m\u001b[0mexpression\u001b[0m\u001b[0;34m]\u001b[0m\u001b[0;34m\u001b[0m\u001b[0;34m\u001b[0m\u001b[0m\n\u001b[0m\u001b[1;32m     87\u001b[0m         \u001b[0;32mexcept\u001b[0m \u001b[0mKeyError\u001b[0m\u001b[0;34m:\u001b[0m\u001b[0;34m\u001b[0m\u001b[0;34m\u001b[0m\u001b[0m\n",
      "\u001b[0;32m~/.local/share/virtualenvs/music_recommender-A4vLtpgt/lib/python3.6/site-packages/vaex/scopes.py\u001b[0m in \u001b[0;36m__getitem__\u001b[0;34m(self, variable)\u001b[0m\n\u001b[1;32m    132\u001b[0m             \u001b[0;32mif\u001b[0m \u001b[0mvariable\u001b[0m \u001b[0;32mnot\u001b[0m \u001b[0;32min\u001b[0m \u001b[0mself\u001b[0m\u001b[0;34m.\u001b[0m\u001b[0mvalues\u001b[0m\u001b[0;34m:\u001b[0m\u001b[0;34m\u001b[0m\u001b[0;34m\u001b[0m\u001b[0m\n\u001b[0;32m--> 133\u001b[0;31m                 \u001b[0;32mraise\u001b[0m \u001b[0mKeyError\u001b[0m\u001b[0;34m(\u001b[0m\u001b[0;34m\"Unknown variables or column: %r\"\u001b[0m \u001b[0;34m%\u001b[0m \u001b[0;34m(\u001b[0m\u001b[0mvariable\u001b[0m\u001b[0;34m,\u001b[0m\u001b[0;34m)\u001b[0m\u001b[0;34m)\u001b[0m\u001b[0;34m\u001b[0m\u001b[0;34m\u001b[0m\u001b[0m\n\u001b[0m\u001b[1;32m    134\u001b[0m \u001b[0;34m\u001b[0m\u001b[0m\n",
      "\u001b[0;31mKeyError\u001b[0m: \"Unknown variables or column: 'lambda_function_2(lyrics)'\"",
      "\nDuring handling of the above exception, another exception occurred:\n",
      "\u001b[0;31mMemoryError\u001b[0m                               Traceback (most recent call last)",
      "\u001b[0;32m<ipython-input-25-5dd75555184e>\u001b[0m in \u001b[0;36m<module>\u001b[0;34m\u001b[0m\n\u001b[1;32m      1\u001b[0m \u001b[0;32mimport\u001b[0m \u001b[0mmatplotlib\u001b[0m\u001b[0;34m.\u001b[0m\u001b[0mpyplot\u001b[0m\u001b[0;34m\u001b[0m\u001b[0;34m\u001b[0m\u001b[0m\n\u001b[0;32m----> 2\u001b[0;31m \u001b[0mdf\u001b[0m\u001b[0;34m.\u001b[0m\u001b[0mplot1d\u001b[0m\u001b[0;34m(\u001b[0m\u001b[0mdf\u001b[0m\u001b[0;34m.\u001b[0m\u001b[0mclean_lyrics\u001b[0m\u001b[0;34m.\u001b[0m\u001b[0mstr\u001b[0m\u001b[0;34m.\u001b[0m\u001b[0mlen\u001b[0m\u001b[0;34m(\u001b[0m\u001b[0;34m)\u001b[0m\u001b[0;34m)\u001b[0m\u001b[0;34m\u001b[0m\u001b[0;34m\u001b[0m\u001b[0m\n\u001b[0m",
      "\u001b[0;32m~/.local/share/virtualenvs/music_recommender-A4vLtpgt/lib/python3.6/site-packages/vaex/viz/mpl.py\u001b[0m in \u001b[0;36mplot1d\u001b[0;34m(self, x, what, grid, shape, facet, limits, figsize, f, n, normalize_axis, xlabel, ylabel, label, selection, show, tight_layout, hardcopy, **kwargs)\u001b[0m\n\u001b[1;32m     65\u001b[0m         \u001b[0;32mif\u001b[0m \u001b[0mexpression\u001b[0m \u001b[0;32mis\u001b[0m \u001b[0;32mnot\u001b[0m \u001b[0;32mNone\u001b[0m\u001b[0;34m:\u001b[0m\u001b[0;34m\u001b[0m\u001b[0;34m\u001b[0m\u001b[0m\n\u001b[1;32m     66\u001b[0m             \u001b[0mbinby\u001b[0m \u001b[0;34m=\u001b[0m \u001b[0;34m[\u001b[0m\u001b[0mexpression\u001b[0m\u001b[0;34m]\u001b[0m \u001b[0;34m+\u001b[0m \u001b[0mbinby\u001b[0m\u001b[0;34m\u001b[0m\u001b[0;34m\u001b[0m\u001b[0m\n\u001b[0;32m---> 67\u001b[0;31m     \u001b[0mlimits\u001b[0m \u001b[0;34m=\u001b[0m \u001b[0mself\u001b[0m\u001b[0;34m.\u001b[0m\u001b[0mlimits\u001b[0m\u001b[0;34m(\u001b[0m\u001b[0mbinby\u001b[0m\u001b[0;34m,\u001b[0m \u001b[0mlimits\u001b[0m\u001b[0;34m)\u001b[0m\u001b[0;34m\u001b[0m\u001b[0;34m\u001b[0m\u001b[0m\n\u001b[0m\u001b[1;32m     68\u001b[0m     \u001b[0;32mif\u001b[0m \u001b[0mfigsize\u001b[0m \u001b[0;32mis\u001b[0m \u001b[0;32mnot\u001b[0m \u001b[0;32mNone\u001b[0m\u001b[0;34m:\u001b[0m\u001b[0;34m\u001b[0m\u001b[0;34m\u001b[0m\u001b[0m\n\u001b[1;32m     69\u001b[0m         \u001b[0mpylab\u001b[0m\u001b[0;34m.\u001b[0m\u001b[0mfigure\u001b[0m\u001b[0;34m(\u001b[0m\u001b[0mnum\u001b[0m\u001b[0;34m=\u001b[0m\u001b[0;32mNone\u001b[0m\u001b[0;34m,\u001b[0m \u001b[0mfigsize\u001b[0m\u001b[0;34m=\u001b[0m\u001b[0mfigsize\u001b[0m\u001b[0;34m,\u001b[0m \u001b[0mdpi\u001b[0m\u001b[0;34m=\u001b[0m\u001b[0;36m80\u001b[0m\u001b[0;34m,\u001b[0m \u001b[0mfacecolor\u001b[0m\u001b[0;34m=\u001b[0m\u001b[0;34m'w'\u001b[0m\u001b[0;34m,\u001b[0m \u001b[0medgecolor\u001b[0m\u001b[0;34m=\u001b[0m\u001b[0;34m'k'\u001b[0m\u001b[0;34m)\u001b[0m\u001b[0;34m\u001b[0m\u001b[0;34m\u001b[0m\u001b[0m\n",
      "\u001b[0;32m~/.local/share/virtualenvs/music_recommender-A4vLtpgt/lib/python3.6/site-packages/vaex/dataframe.py\u001b[0m in \u001b[0;36mlimits\u001b[0;34m(self, expression, value, square, selection, delay, shape)\u001b[0m\n\u001b[1;32m   1371\u001b[0m                                 \u001b[0mlimits\u001b[0m \u001b[0;34m=\u001b[0m \u001b[0mself\u001b[0m\u001b[0;34m.\u001b[0m\u001b[0mlimits_sigma\u001b[0m\u001b[0;34m(\u001b[0m\u001b[0mnumber\u001b[0m\u001b[0;34m,\u001b[0m \u001b[0msquare\u001b[0m\u001b[0;34m=\u001b[0m\u001b[0;32mTrue\u001b[0m\u001b[0;34m)\u001b[0m\u001b[0;34m\u001b[0m\u001b[0;34m\u001b[0m\u001b[0m\n\u001b[1;32m   1372\u001b[0m                             \u001b[0;32melif\u001b[0m \u001b[0mtype\u001b[0m \u001b[0;32min\u001b[0m \u001b[0;34m[\u001b[0m\u001b[0;34m\"%\"\u001b[0m\u001b[0;34m,\u001b[0m \u001b[0;34m\"percent\"\u001b[0m\u001b[0;34m]\u001b[0m\u001b[0;34m:\u001b[0m\u001b[0;34m\u001b[0m\u001b[0;34m\u001b[0m\u001b[0m\n\u001b[0;32m-> 1373\u001b[0;31m                                 \u001b[0mlimits\u001b[0m \u001b[0;34m=\u001b[0m \u001b[0mself\u001b[0m\u001b[0;34m.\u001b[0m\u001b[0mlimits_percentage\u001b[0m\u001b[0;34m(\u001b[0m\u001b[0mexpression\u001b[0m\u001b[0;34m,\u001b[0m \u001b[0mnumber\u001b[0m\u001b[0;34m,\u001b[0m \u001b[0mdelay\u001b[0m\u001b[0;34m=\u001b[0m\u001b[0;32mFalse\u001b[0m\u001b[0;34m)\u001b[0m\u001b[0;34m\u001b[0m\u001b[0;34m\u001b[0m\u001b[0m\n\u001b[0m\u001b[1;32m   1374\u001b[0m                             \u001b[0;32melif\u001b[0m \u001b[0mtype\u001b[0m \u001b[0;32min\u001b[0m \u001b[0;34m[\u001b[0m\u001b[0;34m\"%s\"\u001b[0m\u001b[0;34m,\u001b[0m \u001b[0;34m\"%square\"\u001b[0m\u001b[0;34m,\u001b[0m \u001b[0;34m\"percentsquare\"\u001b[0m\u001b[0;34m]\u001b[0m\u001b[0;34m:\u001b[0m\u001b[0;34m\u001b[0m\u001b[0;34m\u001b[0m\u001b[0m\n\u001b[1;32m   1375\u001b[0m                                 \u001b[0mlimits\u001b[0m \u001b[0;34m=\u001b[0m \u001b[0mself\u001b[0m\u001b[0;34m.\u001b[0m\u001b[0mlimits_percentage\u001b[0m\u001b[0;34m(\u001b[0m\u001b[0mexpression\u001b[0m\u001b[0;34m,\u001b[0m \u001b[0mnumber\u001b[0m\u001b[0;34m,\u001b[0m \u001b[0msquare\u001b[0m\u001b[0;34m=\u001b[0m\u001b[0;32mTrue\u001b[0m\u001b[0;34m,\u001b[0m \u001b[0mdelay\u001b[0m\u001b[0;34m=\u001b[0m\u001b[0;32mTrue\u001b[0m\u001b[0;34m)\u001b[0m\u001b[0;34m\u001b[0m\u001b[0;34m\u001b[0m\u001b[0m\n",
      "\u001b[0;32m~/.local/share/virtualenvs/music_recommender-A4vLtpgt/lib/python3.6/site-packages/vaex/dataframe.py\u001b[0m in \u001b[0;36mlimits_percentage\u001b[0;34m(self, expression, percentage, square, delay)\u001b[0m\n\u001b[1;32m   1231\u001b[0m         \u001b[0;32mfor\u001b[0m \u001b[0mexpr\u001b[0m \u001b[0;32min\u001b[0m \u001b[0mexpressions\u001b[0m\u001b[0;34m:\u001b[0m\u001b[0;34m\u001b[0m\u001b[0;34m\u001b[0m\u001b[0m\n\u001b[1;32m   1232\u001b[0m             \u001b[0msubspace\u001b[0m \u001b[0;34m=\u001b[0m \u001b[0mself\u001b[0m\u001b[0;34m(\u001b[0m\u001b[0mexpr\u001b[0m\u001b[0;34m)\u001b[0m\u001b[0;34m\u001b[0m\u001b[0;34m\u001b[0m\u001b[0m\n\u001b[0;32m-> 1233\u001b[0;31m             \u001b[0mlimits_minmax\u001b[0m \u001b[0;34m=\u001b[0m \u001b[0msubspace\u001b[0m\u001b[0;34m.\u001b[0m\u001b[0mminmax\u001b[0m\u001b[0;34m(\u001b[0m\u001b[0;34m)\u001b[0m\u001b[0;34m\u001b[0m\u001b[0;34m\u001b[0m\u001b[0m\n\u001b[0m\u001b[1;32m   1234\u001b[0m             \u001b[0mvmin\u001b[0m\u001b[0;34m,\u001b[0m \u001b[0mvmax\u001b[0m \u001b[0;34m=\u001b[0m \u001b[0mlimits_minmax\u001b[0m\u001b[0;34m[\u001b[0m\u001b[0;36m0\u001b[0m\u001b[0;34m]\u001b[0m\u001b[0;34m\u001b[0m\u001b[0;34m\u001b[0m\u001b[0m\n\u001b[1;32m   1235\u001b[0m             \u001b[0msize\u001b[0m \u001b[0;34m=\u001b[0m \u001b[0;36m1024\u001b[0m \u001b[0;34m*\u001b[0m \u001b[0;36m16\u001b[0m\u001b[0;34m\u001b[0m\u001b[0;34m\u001b[0m\u001b[0m\n",
      "\u001b[0;32m~/.local/share/virtualenvs/music_recommender-A4vLtpgt/lib/python3.6/site-packages/vaex/legacy.py\u001b[0m in \u001b[0;36mminmax\u001b[0;34m(self, progressbar)\u001b[0m\n\u001b[1;32m   1101\u001b[0m                 \u001b[0;32mreturn\u001b[0m \u001b[0mminmaxes\u001b[0m\u001b[0;34m\u001b[0m\u001b[0;34m\u001b[0m\u001b[0m\n\u001b[1;32m   1102\u001b[0m         \u001b[0mtask\u001b[0m \u001b[0;34m=\u001b[0m \u001b[0mTaskMapReduce\u001b[0m\u001b[0;34m(\u001b[0m\u001b[0mself\u001b[0m\u001b[0;34m.\u001b[0m\u001b[0mdf\u001b[0m\u001b[0;34m,\u001b[0m \u001b[0mself\u001b[0m\u001b[0;34m.\u001b[0m\u001b[0mexpressions\u001b[0m\u001b[0;34m,\u001b[0m \u001b[0mmin_max_map\u001b[0m\u001b[0;34m,\u001b[0m \u001b[0mmin_max_reduce\u001b[0m\u001b[0;34m,\u001b[0m \u001b[0mself\u001b[0m\u001b[0;34m.\u001b[0m\u001b[0m_toarray\u001b[0m\u001b[0;34m,\u001b[0m \u001b[0minfo\u001b[0m\u001b[0;34m=\u001b[0m\u001b[0;32mTrue\u001b[0m\u001b[0;34m,\u001b[0m \u001b[0mname\u001b[0m\u001b[0;34m=\u001b[0m\u001b[0;34m\"minmax\"\u001b[0m\u001b[0;34m)\u001b[0m\u001b[0;34m\u001b[0m\u001b[0;34m\u001b[0m\u001b[0m\n\u001b[0;32m-> 1103\u001b[0;31m         \u001b[0;32mreturn\u001b[0m \u001b[0mself\u001b[0m\u001b[0;34m.\u001b[0m\u001b[0m_task\u001b[0m\u001b[0;34m(\u001b[0m\u001b[0mtask\u001b[0m\u001b[0;34m,\u001b[0m \u001b[0mprogressbar\u001b[0m\u001b[0;34m=\u001b[0m\u001b[0mprogressbar\u001b[0m\u001b[0;34m)\u001b[0m\u001b[0;34m\u001b[0m\u001b[0;34m\u001b[0m\u001b[0m\n\u001b[0m\u001b[1;32m   1104\u001b[0m \u001b[0;34m\u001b[0m\u001b[0m\n\u001b[1;32m   1105\u001b[0m     \u001b[0;32mdef\u001b[0m \u001b[0mmean\u001b[0m\u001b[0;34m(\u001b[0m\u001b[0mself\u001b[0m\u001b[0;34m)\u001b[0m\u001b[0;34m:\u001b[0m\u001b[0;34m\u001b[0m\u001b[0;34m\u001b[0m\u001b[0m\n",
      "\u001b[0;32m~/.local/share/virtualenvs/music_recommender-A4vLtpgt/lib/python3.6/site-packages/vaex/legacy.py\u001b[0m in \u001b[0;36m_task\u001b[0;34m(self, task, progressbar)\u001b[0m\n\u001b[1;32m   1057\u001b[0m                 \u001b[0;32melif\u001b[0m \u001b[0mprogressbar\u001b[0m\u001b[0;34m:\u001b[0m\u001b[0;34m\u001b[0m\u001b[0;34m\u001b[0m\u001b[0m\n\u001b[1;32m   1058\u001b[0m                     \u001b[0mcallback\u001b[0m \u001b[0;34m=\u001b[0m \u001b[0mself\u001b[0m\u001b[0;34m.\u001b[0m\u001b[0mexecutor\u001b[0m\u001b[0;34m.\u001b[0m\u001b[0msignal_progress\u001b[0m\u001b[0;34m.\u001b[0m\u001b[0mconnect\u001b[0m\u001b[0;34m(\u001b[0m\u001b[0mprogressbar\u001b[0m\u001b[0;34m)\u001b[0m\u001b[0;34m\u001b[0m\u001b[0;34m\u001b[0m\u001b[0m\n\u001b[0;32m-> 1059\u001b[0;31m                 \u001b[0mresult\u001b[0m \u001b[0;34m=\u001b[0m \u001b[0mself\u001b[0m\u001b[0;34m.\u001b[0m\u001b[0mexecutor\u001b[0m\u001b[0;34m.\u001b[0m\u001b[0mrun\u001b[0m\u001b[0;34m(\u001b[0m\u001b[0mtask\u001b[0m\u001b[0;34m)\u001b[0m\u001b[0;34m\u001b[0m\u001b[0;34m\u001b[0m\u001b[0m\n\u001b[0m\u001b[1;32m   1060\u001b[0m                 \u001b[0;32mif\u001b[0m \u001b[0mprogressbar\u001b[0m \u001b[0;34m==\u001b[0m \u001b[0;32mTrue\u001b[0m\u001b[0;34m:\u001b[0m\u001b[0;34m\u001b[0m\u001b[0;34m\u001b[0m\u001b[0m\n\u001b[1;32m   1061\u001b[0m                     \u001b[0mbar\u001b[0m\u001b[0;34m.\u001b[0m\u001b[0mfinish\u001b[0m\u001b[0;34m(\u001b[0m\u001b[0;34m)\u001b[0m\u001b[0;34m\u001b[0m\u001b[0;34m\u001b[0m\u001b[0m\n",
      "\u001b[0;32m~/.local/share/virtualenvs/music_recommender-A4vLtpgt/lib/python3.6/site-packages/vaex/execution.py\u001b[0m in \u001b[0;36mrun\u001b[0;34m(self, task)\u001b[0m\n\u001b[1;32m     87\u001b[0m             \u001b[0;32mtry\u001b[0m\u001b[0;34m:\u001b[0m\u001b[0;34m\u001b[0m\u001b[0;34m\u001b[0m\u001b[0m\n\u001b[1;32m     88\u001b[0m                 \u001b[0mself\u001b[0m\u001b[0;34m.\u001b[0m\u001b[0mtask_queue\u001b[0m \u001b[0;34m=\u001b[0m \u001b[0;34m[\u001b[0m\u001b[0mtask\u001b[0m\u001b[0;34m]\u001b[0m\u001b[0;34m\u001b[0m\u001b[0;34m\u001b[0m\u001b[0m\n\u001b[0;32m---> 89\u001b[0;31m                 \u001b[0mself\u001b[0m\u001b[0;34m.\u001b[0m\u001b[0mexecute\u001b[0m\u001b[0;34m(\u001b[0m\u001b[0;34m)\u001b[0m\u001b[0;34m\u001b[0m\u001b[0;34m\u001b[0m\u001b[0m\n\u001b[0m\u001b[1;32m     90\u001b[0m             \u001b[0;32mfinally\u001b[0m\u001b[0;34m:\u001b[0m\u001b[0;34m\u001b[0m\u001b[0;34m\u001b[0m\u001b[0m\n\u001b[1;32m     91\u001b[0m                 \u001b[0mself\u001b[0m\u001b[0;34m.\u001b[0m\u001b[0mtask_queue\u001b[0m \u001b[0;34m=\u001b[0m \u001b[0mprevious_queue\u001b[0m\u001b[0;34m\u001b[0m\u001b[0;34m\u001b[0m\u001b[0m\n",
      "\u001b[0;32m~/.local/share/virtualenvs/music_recommender-A4vLtpgt/lib/python3.6/site-packages/vaex/execution.py\u001b[0m in \u001b[0;36mexecute\u001b[0;34m(self)\u001b[0m\n\u001b[1;32m    187\u001b[0m                                                         \u001b[0mprogress\u001b[0m\u001b[0;34m=\u001b[0m\u001b[0;32mlambda\u001b[0m \u001b[0mp\u001b[0m\u001b[0;34m:\u001b[0m \u001b[0mall\u001b[0m\u001b[0;34m(\u001b[0m\u001b[0mself\u001b[0m\u001b[0;34m.\u001b[0m\u001b[0msignal_progress\u001b[0m\u001b[0;34m.\u001b[0m\u001b[0memit\u001b[0m\u001b[0;34m(\u001b[0m\u001b[0mp\u001b[0m\u001b[0;34m)\u001b[0m\u001b[0;34m)\u001b[0m \u001b[0;32mand\u001b[0m\u001b[0;34m\u001b[0m\u001b[0;34m\u001b[0m\u001b[0m\n\u001b[1;32m    188\u001b[0m                                                         \u001b[0mall\u001b[0m\u001b[0;34m(\u001b[0m\u001b[0;34m[\u001b[0m\u001b[0mall\u001b[0m\u001b[0;34m(\u001b[0m\u001b[0mtask\u001b[0m\u001b[0;34m.\u001b[0m\u001b[0msignal_progress\u001b[0m\u001b[0;34m.\u001b[0m\u001b[0memit\u001b[0m\u001b[0;34m(\u001b[0m\u001b[0mp\u001b[0m\u001b[0;34m)\u001b[0m\u001b[0;34m)\u001b[0m \u001b[0;32mfor\u001b[0m \u001b[0mtask\u001b[0m \u001b[0;32min\u001b[0m \u001b[0mtask_queue\u001b[0m\u001b[0;34m]\u001b[0m\u001b[0;34m)\u001b[0m\u001b[0;34m,\u001b[0m\u001b[0;34m\u001b[0m\u001b[0;34m\u001b[0m\u001b[0m\n\u001b[0;32m--> 189\u001b[0;31m                                                         cancel=cancel, unpack=True):\n\u001b[0m\u001b[1;32m    190\u001b[0m                         \u001b[0;32mpass\u001b[0m  \u001b[0;31m# just eat all element\u001b[0m\u001b[0;34m\u001b[0m\u001b[0;34m\u001b[0m\u001b[0m\n\u001b[1;32m    191\u001b[0m                     \u001b[0mself\u001b[0m\u001b[0;34m.\u001b[0m\u001b[0m_is_executing\u001b[0m \u001b[0;34m=\u001b[0m \u001b[0;32mFalse\u001b[0m\u001b[0;34m\u001b[0m\u001b[0;34m\u001b[0m\u001b[0m\n",
      "\u001b[0;32m~/.local/share/virtualenvs/music_recommender-A4vLtpgt/lib/python3.6/site-packages/vaex/multithreading.py\u001b[0m in \u001b[0;36mmap\u001b[0;34m(self, callable, iterator, on_error, progress, cancel, unpack)\u001b[0m\n\u001b[1;32m     51\u001b[0m         \u001b[0mtime_last\u001b[0m \u001b[0;34m=\u001b[0m \u001b[0mtime\u001b[0m\u001b[0;34m.\u001b[0m\u001b[0mtime\u001b[0m\u001b[0;34m(\u001b[0m\u001b[0;34m)\u001b[0m \u001b[0;34m-\u001b[0m \u001b[0;36m100\u001b[0m\u001b[0;34m\u001b[0m\u001b[0;34m\u001b[0m\u001b[0m\n\u001b[1;32m     52\u001b[0m         \u001b[0mmin_delta_t\u001b[0m \u001b[0;34m=\u001b[0m \u001b[0;36m1.\u001b[0m \u001b[0;34m/\u001b[0m \u001b[0;36m100\u001b[0m  \u001b[0;31m# max 100 per second\u001b[0m\u001b[0;34m\u001b[0m\u001b[0;34m\u001b[0m\u001b[0m\n\u001b[0;32m---> 53\u001b[0;31m         \u001b[0;32mfor\u001b[0m \u001b[0mi\u001b[0m\u001b[0;34m,\u001b[0m \u001b[0mvalue\u001b[0m \u001b[0;32min\u001b[0m \u001b[0menumerate\u001b[0m\u001b[0;34m(\u001b[0m\u001b[0msuper\u001b[0m\u001b[0;34m(\u001b[0m\u001b[0mThreadPoolIndex\u001b[0m\u001b[0;34m,\u001b[0m \u001b[0mself\u001b[0m\u001b[0;34m)\u001b[0m\u001b[0;34m.\u001b[0m\u001b[0mmap\u001b[0m\u001b[0;34m(\u001b[0m\u001b[0mwrapped\u001b[0m\u001b[0;34m,\u001b[0m \u001b[0mvalues\u001b[0m\u001b[0;34m)\u001b[0m\u001b[0;34m)\u001b[0m\u001b[0;34m:\u001b[0m\u001b[0;34m\u001b[0m\u001b[0;34m\u001b[0m\u001b[0m\n\u001b[0m\u001b[1;32m     54\u001b[0m             \u001b[0mprogress_value\u001b[0m \u001b[0;34m=\u001b[0m \u001b[0;34m(\u001b[0m\u001b[0mi\u001b[0m \u001b[0;34m+\u001b[0m \u001b[0;36m1\u001b[0m\u001b[0;34m)\u001b[0m \u001b[0;34m/\u001b[0m \u001b[0mN\u001b[0m\u001b[0;34m\u001b[0m\u001b[0;34m\u001b[0m\u001b[0m\n\u001b[1;32m     55\u001b[0m             \u001b[0mtime_now\u001b[0m \u001b[0;34m=\u001b[0m \u001b[0mtime\u001b[0m\u001b[0;34m.\u001b[0m\u001b[0mtime\u001b[0m\u001b[0;34m(\u001b[0m\u001b[0;34m)\u001b[0m\u001b[0;34m\u001b[0m\u001b[0;34m\u001b[0m\u001b[0m\n",
      "\u001b[0;32m/usr/lib/python3.6/concurrent/futures/_base.py\u001b[0m in \u001b[0;36mresult_iterator\u001b[0;34m()\u001b[0m\n\u001b[1;32m    584\u001b[0m                     \u001b[0;31m# Careful not to keep a reference to the popped future\u001b[0m\u001b[0;34m\u001b[0m\u001b[0;34m\u001b[0m\u001b[0;34m\u001b[0m\u001b[0m\n\u001b[1;32m    585\u001b[0m                     \u001b[0;32mif\u001b[0m \u001b[0mtimeout\u001b[0m \u001b[0;32mis\u001b[0m \u001b[0;32mNone\u001b[0m\u001b[0;34m:\u001b[0m\u001b[0;34m\u001b[0m\u001b[0;34m\u001b[0m\u001b[0m\n\u001b[0;32m--> 586\u001b[0;31m                         \u001b[0;32myield\u001b[0m \u001b[0mfs\u001b[0m\u001b[0;34m.\u001b[0m\u001b[0mpop\u001b[0m\u001b[0;34m(\u001b[0m\u001b[0;34m)\u001b[0m\u001b[0;34m.\u001b[0m\u001b[0mresult\u001b[0m\u001b[0;34m(\u001b[0m\u001b[0;34m)\u001b[0m\u001b[0;34m\u001b[0m\u001b[0;34m\u001b[0m\u001b[0m\n\u001b[0m\u001b[1;32m    587\u001b[0m                     \u001b[0;32melse\u001b[0m\u001b[0;34m:\u001b[0m\u001b[0;34m\u001b[0m\u001b[0;34m\u001b[0m\u001b[0m\n\u001b[1;32m    588\u001b[0m                         \u001b[0;32myield\u001b[0m \u001b[0mfs\u001b[0m\u001b[0;34m.\u001b[0m\u001b[0mpop\u001b[0m\u001b[0;34m(\u001b[0m\u001b[0;34m)\u001b[0m\u001b[0;34m.\u001b[0m\u001b[0mresult\u001b[0m\u001b[0;34m(\u001b[0m\u001b[0mend_time\u001b[0m \u001b[0;34m-\u001b[0m \u001b[0mtime\u001b[0m\u001b[0;34m.\u001b[0m\u001b[0mmonotonic\u001b[0m\u001b[0;34m(\u001b[0m\u001b[0;34m)\u001b[0m\u001b[0;34m)\u001b[0m\u001b[0;34m\u001b[0m\u001b[0;34m\u001b[0m\u001b[0m\n",
      "\u001b[0;32m/usr/lib/python3.6/concurrent/futures/_base.py\u001b[0m in \u001b[0;36mresult\u001b[0;34m(self, timeout)\u001b[0m\n\u001b[1;32m    430\u001b[0m                 \u001b[0;32mraise\u001b[0m \u001b[0mCancelledError\u001b[0m\u001b[0;34m(\u001b[0m\u001b[0;34m)\u001b[0m\u001b[0;34m\u001b[0m\u001b[0;34m\u001b[0m\u001b[0m\n\u001b[1;32m    431\u001b[0m             \u001b[0;32melif\u001b[0m \u001b[0mself\u001b[0m\u001b[0;34m.\u001b[0m\u001b[0m_state\u001b[0m \u001b[0;34m==\u001b[0m \u001b[0mFINISHED\u001b[0m\u001b[0;34m:\u001b[0m\u001b[0;34m\u001b[0m\u001b[0;34m\u001b[0m\u001b[0m\n\u001b[0;32m--> 432\u001b[0;31m                 \u001b[0;32mreturn\u001b[0m \u001b[0mself\u001b[0m\u001b[0;34m.\u001b[0m\u001b[0m__get_result\u001b[0m\u001b[0;34m(\u001b[0m\u001b[0;34m)\u001b[0m\u001b[0;34m\u001b[0m\u001b[0;34m\u001b[0m\u001b[0m\n\u001b[0m\u001b[1;32m    433\u001b[0m             \u001b[0;32melse\u001b[0m\u001b[0;34m:\u001b[0m\u001b[0;34m\u001b[0m\u001b[0;34m\u001b[0m\u001b[0m\n\u001b[1;32m    434\u001b[0m                 \u001b[0;32mraise\u001b[0m \u001b[0mTimeoutError\u001b[0m\u001b[0;34m(\u001b[0m\u001b[0;34m)\u001b[0m\u001b[0;34m\u001b[0m\u001b[0;34m\u001b[0m\u001b[0m\n",
      "\u001b[0;32m/usr/lib/python3.6/concurrent/futures/_base.py\u001b[0m in \u001b[0;36m__get_result\u001b[0;34m(self)\u001b[0m\n\u001b[1;32m    382\u001b[0m     \u001b[0;32mdef\u001b[0m \u001b[0m__get_result\u001b[0m\u001b[0;34m(\u001b[0m\u001b[0mself\u001b[0m\u001b[0;34m)\u001b[0m\u001b[0;34m:\u001b[0m\u001b[0;34m\u001b[0m\u001b[0;34m\u001b[0m\u001b[0m\n\u001b[1;32m    383\u001b[0m         \u001b[0;32mif\u001b[0m \u001b[0mself\u001b[0m\u001b[0;34m.\u001b[0m\u001b[0m_exception\u001b[0m\u001b[0;34m:\u001b[0m\u001b[0;34m\u001b[0m\u001b[0;34m\u001b[0m\u001b[0m\n\u001b[0;32m--> 384\u001b[0;31m             \u001b[0;32mraise\u001b[0m \u001b[0mself\u001b[0m\u001b[0;34m.\u001b[0m\u001b[0m_exception\u001b[0m\u001b[0;34m\u001b[0m\u001b[0;34m\u001b[0m\u001b[0m\n\u001b[0m\u001b[1;32m    385\u001b[0m         \u001b[0;32melse\u001b[0m\u001b[0;34m:\u001b[0m\u001b[0;34m\u001b[0m\u001b[0;34m\u001b[0m\u001b[0m\n\u001b[1;32m    386\u001b[0m             \u001b[0;32mreturn\u001b[0m \u001b[0mself\u001b[0m\u001b[0;34m.\u001b[0m\u001b[0m_result\u001b[0m\u001b[0;34m\u001b[0m\u001b[0;34m\u001b[0m\u001b[0m\n",
      "\u001b[0;32m/usr/lib/python3.6/concurrent/futures/thread.py\u001b[0m in \u001b[0;36mrun\u001b[0;34m(self)\u001b[0m\n\u001b[1;32m     54\u001b[0m \u001b[0;34m\u001b[0m\u001b[0m\n\u001b[1;32m     55\u001b[0m         \u001b[0;32mtry\u001b[0m\u001b[0;34m:\u001b[0m\u001b[0;34m\u001b[0m\u001b[0;34m\u001b[0m\u001b[0m\n\u001b[0;32m---> 56\u001b[0;31m             \u001b[0mresult\u001b[0m \u001b[0;34m=\u001b[0m \u001b[0mself\u001b[0m\u001b[0;34m.\u001b[0m\u001b[0mfn\u001b[0m\u001b[0;34m(\u001b[0m\u001b[0;34m*\u001b[0m\u001b[0mself\u001b[0m\u001b[0;34m.\u001b[0m\u001b[0margs\u001b[0m\u001b[0;34m,\u001b[0m \u001b[0;34m**\u001b[0m\u001b[0mself\u001b[0m\u001b[0;34m.\u001b[0m\u001b[0mkwargs\u001b[0m\u001b[0;34m)\u001b[0m\u001b[0;34m\u001b[0m\u001b[0;34m\u001b[0m\u001b[0m\n\u001b[0m\u001b[1;32m     57\u001b[0m         \u001b[0;32mexcept\u001b[0m \u001b[0mBaseException\u001b[0m \u001b[0;32mas\u001b[0m \u001b[0mexc\u001b[0m\u001b[0;34m:\u001b[0m\u001b[0;34m\u001b[0m\u001b[0;34m\u001b[0m\u001b[0m\n\u001b[1;32m     58\u001b[0m             \u001b[0mself\u001b[0m\u001b[0;34m.\u001b[0m\u001b[0mfuture\u001b[0m\u001b[0;34m.\u001b[0m\u001b[0mset_exception\u001b[0m\u001b[0;34m(\u001b[0m\u001b[0mexc\u001b[0m\u001b[0;34m)\u001b[0m\u001b[0;34m\u001b[0m\u001b[0;34m\u001b[0m\u001b[0m\n",
      "\u001b[0;32m~/.local/share/virtualenvs/music_recommender-A4vLtpgt/lib/python3.6/site-packages/vaex/multithreading.py\u001b[0m in \u001b[0;36mwrapped\u001b[0;34m(*args, **kwargs)\u001b[0m\n\u001b[1;32m     45\u001b[0m                 \u001b[0;32mif\u001b[0m \u001b[0munpack\u001b[0m\u001b[0;34m:\u001b[0m\u001b[0;34m\u001b[0m\u001b[0;34m\u001b[0m\u001b[0m\n\u001b[1;32m     46\u001b[0m                     \u001b[0margs\u001b[0m \u001b[0;34m=\u001b[0m \u001b[0margs\u001b[0m\u001b[0;34m[\u001b[0m\u001b[0;36m0\u001b[0m\u001b[0;34m]\u001b[0m  \u001b[0;31m# it's passed as a tuple.. not sure why\u001b[0m\u001b[0;34m\u001b[0m\u001b[0;34m\u001b[0m\u001b[0m\n\u001b[0;32m---> 47\u001b[0;31m                 \u001b[0mcallable\u001b[0m\u001b[0;34m(\u001b[0m\u001b[0mself\u001b[0m\u001b[0;34m.\u001b[0m\u001b[0mlocal\u001b[0m\u001b[0;34m.\u001b[0m\u001b[0mindex\u001b[0m\u001b[0;34m,\u001b[0m \u001b[0;34m*\u001b[0m\u001b[0margs\u001b[0m\u001b[0;34m,\u001b[0m \u001b[0;34m**\u001b[0m\u001b[0mkwargs\u001b[0m\u001b[0;34m)\u001b[0m\u001b[0;34m\u001b[0m\u001b[0;34m\u001b[0m\u001b[0m\n\u001b[0m\u001b[1;32m     48\u001b[0m         \u001b[0;31m# convert to list so we can count\u001b[0m\u001b[0;34m\u001b[0m\u001b[0;34m\u001b[0m\u001b[0;34m\u001b[0m\u001b[0m\n\u001b[1;32m     49\u001b[0m         \u001b[0mvalues\u001b[0m \u001b[0;34m=\u001b[0m \u001b[0mlist\u001b[0m\u001b[0;34m(\u001b[0m\u001b[0miterator\u001b[0m\u001b[0;34m)\u001b[0m\u001b[0;34m\u001b[0m\u001b[0;34m\u001b[0m\u001b[0m\n",
      "\u001b[0;32m~/.local/share/virtualenvs/music_recommender-A4vLtpgt/lib/python3.6/site-packages/vaex/execution.py\u001b[0m in \u001b[0;36mprocess\u001b[0;34m(thread_index, i1, i2)\u001b[0m\n\u001b[1;32m    169\u001b[0m                             \u001b[0mblock_scope\u001b[0m\u001b[0;34m.\u001b[0m\u001b[0mmove\u001b[0m\u001b[0;34m(\u001b[0m\u001b[0mi1\u001b[0m\u001b[0;34m,\u001b[0m \u001b[0mi2\u001b[0m\u001b[0;34m)\u001b[0m\u001b[0;34m\u001b[0m\u001b[0;34m\u001b[0m\u001b[0m\n\u001b[1;32m    170\u001b[0m                             \u001b[0;31m# with ne_lock:\u001b[0m\u001b[0;34m\u001b[0m\u001b[0;34m\u001b[0m\u001b[0;34m\u001b[0m\u001b[0m\n\u001b[0;32m--> 171\u001b[0;31m                             \u001b[0mblock_dict\u001b[0m \u001b[0;34m=\u001b[0m \u001b[0;34m{\u001b[0m\u001b[0mexpression\u001b[0m\u001b[0;34m:\u001b[0m \u001b[0mblock_scope\u001b[0m\u001b[0;34m.\u001b[0m\u001b[0mevaluate\u001b[0m\u001b[0;34m(\u001b[0m\u001b[0mexpression\u001b[0m\u001b[0;34m)\u001b[0m \u001b[0;32mfor\u001b[0m \u001b[0mexpression\u001b[0m \u001b[0;32min\u001b[0m \u001b[0mexpressions\u001b[0m\u001b[0;34m}\u001b[0m\u001b[0;34m\u001b[0m\u001b[0;34m\u001b[0m\u001b[0m\n\u001b[0m\u001b[1;32m    172\u001b[0m                             \u001b[0;32mfor\u001b[0m \u001b[0mtask\u001b[0m \u001b[0;32min\u001b[0m \u001b[0mtask_queue\u001b[0m\u001b[0;34m:\u001b[0m\u001b[0;34m\u001b[0m\u001b[0;34m\u001b[0m\u001b[0m\n\u001b[1;32m    173\u001b[0m                                 \u001b[0mblocks\u001b[0m \u001b[0;34m=\u001b[0m \u001b[0;34m[\u001b[0m\u001b[0mblock_dict\u001b[0m\u001b[0;34m[\u001b[0m\u001b[0mexpression\u001b[0m\u001b[0;34m]\u001b[0m \u001b[0;32mfor\u001b[0m \u001b[0mexpression\u001b[0m \u001b[0;32min\u001b[0m \u001b[0mtask\u001b[0m\u001b[0;34m.\u001b[0m\u001b[0mexpressions_all\u001b[0m\u001b[0;34m]\u001b[0m\u001b[0;34m\u001b[0m\u001b[0;34m\u001b[0m\u001b[0m\n",
      "\u001b[0;32m~/.local/share/virtualenvs/music_recommender-A4vLtpgt/lib/python3.6/site-packages/vaex/execution.py\u001b[0m in \u001b[0;36m<dictcomp>\u001b[0;34m(.0)\u001b[0m\n\u001b[1;32m    169\u001b[0m                             \u001b[0mblock_scope\u001b[0m\u001b[0;34m.\u001b[0m\u001b[0mmove\u001b[0m\u001b[0;34m(\u001b[0m\u001b[0mi1\u001b[0m\u001b[0;34m,\u001b[0m \u001b[0mi2\u001b[0m\u001b[0;34m)\u001b[0m\u001b[0;34m\u001b[0m\u001b[0;34m\u001b[0m\u001b[0m\n\u001b[1;32m    170\u001b[0m                             \u001b[0;31m# with ne_lock:\u001b[0m\u001b[0;34m\u001b[0m\u001b[0;34m\u001b[0m\u001b[0;34m\u001b[0m\u001b[0m\n\u001b[0;32m--> 171\u001b[0;31m                             \u001b[0mblock_dict\u001b[0m \u001b[0;34m=\u001b[0m \u001b[0;34m{\u001b[0m\u001b[0mexpression\u001b[0m\u001b[0;34m:\u001b[0m \u001b[0mblock_scope\u001b[0m\u001b[0;34m.\u001b[0m\u001b[0mevaluate\u001b[0m\u001b[0;34m(\u001b[0m\u001b[0mexpression\u001b[0m\u001b[0;34m)\u001b[0m \u001b[0;32mfor\u001b[0m \u001b[0mexpression\u001b[0m \u001b[0;32min\u001b[0m \u001b[0mexpressions\u001b[0m\u001b[0;34m}\u001b[0m\u001b[0;34m\u001b[0m\u001b[0;34m\u001b[0m\u001b[0m\n\u001b[0m\u001b[1;32m    172\u001b[0m                             \u001b[0;32mfor\u001b[0m \u001b[0mtask\u001b[0m \u001b[0;32min\u001b[0m \u001b[0mtask_queue\u001b[0m\u001b[0;34m:\u001b[0m\u001b[0;34m\u001b[0m\u001b[0;34m\u001b[0m\u001b[0m\n\u001b[1;32m    173\u001b[0m                                 \u001b[0mblocks\u001b[0m \u001b[0;34m=\u001b[0m \u001b[0;34m[\u001b[0m\u001b[0mblock_dict\u001b[0m\u001b[0;34m[\u001b[0m\u001b[0mexpression\u001b[0m\u001b[0;34m]\u001b[0m \u001b[0;32mfor\u001b[0m \u001b[0mexpression\u001b[0m \u001b[0;32min\u001b[0m \u001b[0mtask\u001b[0m\u001b[0;34m.\u001b[0m\u001b[0mexpressions_all\u001b[0m\u001b[0;34m]\u001b[0m\u001b[0;34m\u001b[0m\u001b[0;34m\u001b[0m\u001b[0m\n",
      "\u001b[0;32m~/.local/share/virtualenvs/music_recommender-A4vLtpgt/lib/python3.6/site-packages/vaex/scopes.py\u001b[0m in \u001b[0;36mevaluate\u001b[0;34m(self, expression, out)\u001b[0m\n\u001b[1;32m     90\u001b[0m             \u001b[0;31m# logger.debug(\"in eval\")\u001b[0m\u001b[0;34m\u001b[0m\u001b[0;34m\u001b[0m\u001b[0;34m\u001b[0m\u001b[0m\n\u001b[1;32m     91\u001b[0m             \u001b[0;31m# eval(\"def f(\")\u001b[0m\u001b[0;34m\u001b[0m\u001b[0;34m\u001b[0m\u001b[0;34m\u001b[0m\u001b[0m\n\u001b[0;32m---> 92\u001b[0;31m             \u001b[0mresult\u001b[0m \u001b[0;34m=\u001b[0m \u001b[0meval\u001b[0m\u001b[0;34m(\u001b[0m\u001b[0mexpression\u001b[0m\u001b[0;34m,\u001b[0m \u001b[0mexpression_namespace\u001b[0m\u001b[0;34m,\u001b[0m \u001b[0mself\u001b[0m\u001b[0;34m)\u001b[0m\u001b[0;34m\u001b[0m\u001b[0;34m\u001b[0m\u001b[0m\n\u001b[0m\u001b[1;32m     93\u001b[0m             \u001b[0mself\u001b[0m\u001b[0;34m.\u001b[0m\u001b[0mvalues\u001b[0m\u001b[0;34m[\u001b[0m\u001b[0mexpression\u001b[0m\u001b[0;34m]\u001b[0m \u001b[0;34m=\u001b[0m \u001b[0mresult\u001b[0m\u001b[0;34m\u001b[0m\u001b[0;34m\u001b[0m\u001b[0m\n\u001b[1;32m     94\u001b[0m             \u001b[0;31m# if out is not None:\u001b[0m\u001b[0;34m\u001b[0m\u001b[0;34m\u001b[0m\u001b[0;34m\u001b[0m\u001b[0m\n",
      "\u001b[0;32m<string>\u001b[0m in \u001b[0;36m<module>\u001b[0;34m\u001b[0m\n",
      "\u001b[0;32m~/.local/share/virtualenvs/music_recommender-A4vLtpgt/lib/python3.6/site-packages/vaex/scopes.py\u001b[0m in \u001b[0;36m__getitem__\u001b[0;34m(self, variable)\u001b[0m\n\u001b[1;32m    126\u001b[0m                 \u001b[0;32melse\u001b[0m\u001b[0;34m:\u001b[0m\u001b[0;34m\u001b[0m\u001b[0;34m\u001b[0m\u001b[0m\n\u001b[1;32m    127\u001b[0m                     \u001b[0;31m# self._ensure_buffer(variable)\u001b[0m\u001b[0;34m\u001b[0m\u001b[0;34m\u001b[0m\u001b[0;34m\u001b[0m\u001b[0m\n\u001b[0;32m--> 128\u001b[0;31m                     \u001b[0mself\u001b[0m\u001b[0;34m.\u001b[0m\u001b[0mvalues\u001b[0m\u001b[0;34m[\u001b[0m\u001b[0mvariable\u001b[0m\u001b[0;34m]\u001b[0m \u001b[0;34m=\u001b[0m \u001b[0mself\u001b[0m\u001b[0;34m.\u001b[0m\u001b[0mevaluate\u001b[0m\u001b[0;34m(\u001b[0m\u001b[0mexpression\u001b[0m\u001b[0;34m)\u001b[0m  \u001b[0;31m# , out=self.buffers[variable])\u001b[0m\u001b[0;34m\u001b[0m\u001b[0;34m\u001b[0m\u001b[0m\n\u001b[0m\u001b[1;32m    129\u001b[0m                     \u001b[0;31m# self.values[variable] = self.buffers[variable]\u001b[0m\u001b[0;34m\u001b[0m\u001b[0;34m\u001b[0m\u001b[0;34m\u001b[0m\u001b[0m\n\u001b[1;32m    130\u001b[0m             \u001b[0;32melif\u001b[0m \u001b[0mvariable\u001b[0m \u001b[0;32min\u001b[0m \u001b[0mself\u001b[0m\u001b[0;34m.\u001b[0m\u001b[0mdf\u001b[0m\u001b[0;34m.\u001b[0m\u001b[0mfunctions\u001b[0m\u001b[0;34m:\u001b[0m\u001b[0;34m\u001b[0m\u001b[0;34m\u001b[0m\u001b[0m\n",
      "\u001b[0;32m~/.local/share/virtualenvs/music_recommender-A4vLtpgt/lib/python3.6/site-packages/vaex/scopes.py\u001b[0m in \u001b[0;36mevaluate\u001b[0;34m(self, expression, out)\u001b[0m\n\u001b[1;32m     90\u001b[0m             \u001b[0;31m# logger.debug(\"in eval\")\u001b[0m\u001b[0;34m\u001b[0m\u001b[0;34m\u001b[0m\u001b[0;34m\u001b[0m\u001b[0m\n\u001b[1;32m     91\u001b[0m             \u001b[0;31m# eval(\"def f(\")\u001b[0m\u001b[0;34m\u001b[0m\u001b[0;34m\u001b[0m\u001b[0;34m\u001b[0m\u001b[0m\n\u001b[0;32m---> 92\u001b[0;31m             \u001b[0mresult\u001b[0m \u001b[0;34m=\u001b[0m \u001b[0meval\u001b[0m\u001b[0;34m(\u001b[0m\u001b[0mexpression\u001b[0m\u001b[0;34m,\u001b[0m \u001b[0mexpression_namespace\u001b[0m\u001b[0;34m,\u001b[0m \u001b[0mself\u001b[0m\u001b[0;34m)\u001b[0m\u001b[0;34m\u001b[0m\u001b[0;34m\u001b[0m\u001b[0m\n\u001b[0m\u001b[1;32m     93\u001b[0m             \u001b[0mself\u001b[0m\u001b[0;34m.\u001b[0m\u001b[0mvalues\u001b[0m\u001b[0;34m[\u001b[0m\u001b[0mexpression\u001b[0m\u001b[0;34m]\u001b[0m \u001b[0;34m=\u001b[0m \u001b[0mresult\u001b[0m\u001b[0;34m\u001b[0m\u001b[0;34m\u001b[0m\u001b[0m\n\u001b[1;32m     94\u001b[0m             \u001b[0;31m# if out is not None:\u001b[0m\u001b[0;34m\u001b[0m\u001b[0;34m\u001b[0m\u001b[0;34m\u001b[0m\u001b[0m\n",
      "\u001b[0;32m<string>\u001b[0m in \u001b[0;36m<module>\u001b[0;34m\u001b[0m\n",
      "\u001b[0;32m~/.local/share/virtualenvs/music_recommender-A4vLtpgt/lib/python3.6/site-packages/vaex/expression.py\u001b[0m in \u001b[0;36m__call__\u001b[0;34m(self, *args, **kwargs)\u001b[0m\n\u001b[1;32m    596\u001b[0m             \u001b[0mscalar_result\u001b[0m \u001b[0;34m=\u001b[0m \u001b[0mself\u001b[0m\u001b[0;34m.\u001b[0m\u001b[0mf\u001b[0m\u001b[0;34m(\u001b[0m\u001b[0;34m*\u001b[0m\u001b[0;34m[\u001b[0m\u001b[0mfix_type\u001b[0m\u001b[0;34m(\u001b[0m\u001b[0mk\u001b[0m\u001b[0;34m[\u001b[0m\u001b[0mi\u001b[0m\u001b[0;34m]\u001b[0m\u001b[0;34m)\u001b[0m \u001b[0;32mfor\u001b[0m \u001b[0mk\u001b[0m \u001b[0;32min\u001b[0m \u001b[0margs\u001b[0m\u001b[0;34m]\u001b[0m\u001b[0;34m,\u001b[0m \u001b[0;34m**\u001b[0m\u001b[0;34m{\u001b[0m\u001b[0mkey\u001b[0m\u001b[0;34m:\u001b[0m \u001b[0mvalue\u001b[0m\u001b[0;34m[\u001b[0m\u001b[0mi\u001b[0m\u001b[0;34m]\u001b[0m \u001b[0;32mfor\u001b[0m \u001b[0mkey\u001b[0m\u001b[0;34m,\u001b[0m \u001b[0mvalue\u001b[0m \u001b[0;32min\u001b[0m \u001b[0mkwargs\u001b[0m\u001b[0;34m.\u001b[0m\u001b[0mitems\u001b[0m\u001b[0;34m(\u001b[0m\u001b[0;34m)\u001b[0m\u001b[0;34m}\u001b[0m\u001b[0;34m)\u001b[0m\u001b[0;34m\u001b[0m\u001b[0;34m\u001b[0m\u001b[0m\n\u001b[1;32m    597\u001b[0m             \u001b[0mresult\u001b[0m\u001b[0;34m.\u001b[0m\u001b[0mappend\u001b[0m\u001b[0;34m(\u001b[0m\u001b[0mscalar_result\u001b[0m\u001b[0;34m)\u001b[0m\u001b[0;34m\u001b[0m\u001b[0;34m\u001b[0m\u001b[0m\n\u001b[0;32m--> 598\u001b[0;31m         \u001b[0mresult\u001b[0m \u001b[0;34m=\u001b[0m \u001b[0mnp\u001b[0m\u001b[0;34m.\u001b[0m\u001b[0marray\u001b[0m\u001b[0;34m(\u001b[0m\u001b[0mresult\u001b[0m\u001b[0;34m)\u001b[0m\u001b[0;34m\u001b[0m\u001b[0;34m\u001b[0m\u001b[0m\n\u001b[0m\u001b[1;32m    599\u001b[0m         \u001b[0;32mreturn\u001b[0m \u001b[0mresult\u001b[0m\u001b[0;34m\u001b[0m\u001b[0;34m\u001b[0m\u001b[0m\n\u001b[1;32m    600\u001b[0m \u001b[0;34m\u001b[0m\u001b[0m\n",
      "\u001b[0;31mMemoryError\u001b[0m: "
     ]
    }
   ],
   "source": [
    "import matplotlib.pyplot\n",
    "df.plot1d(df.clean_lyrics.str.len())"
   ]
  },
  {
   "cell_type": "code",
   "execution_count": null,
   "metadata": {},
   "outputs": [],
   "source": [
    "from gensim.models.doc2vec import Doc2Vec, TaggedDocument"
   ]
  },
  {
   "cell_type": "code",
   "execution_count": null,
   "metadata": {},
   "outputs": [],
   "source": [
    "lcl = [z.split(\" \") for z in cl]"
   ]
  },
  {
   "cell_type": "code",
   "execution_count": null,
   "metadata": {},
   "outputs": [],
   "source": [
    "documents = [TaggedDocument(doc, [i]) for i, doc in enumerate(cl)]"
   ]
  },
  {
   "cell_type": "code",
   "execution_count": null,
   "metadata": {},
   "outputs": [],
   "source": []
  },
  {
   "cell_type": "code",
   "execution_count": null,
   "metadata": {},
   "outputs": [],
   "source": [
    "model = Doc2Vec(vector_size=50, min_count=2, epochs=40)"
   ]
  },
  {
   "cell_type": "code",
   "execution_count": null,
   "metadata": {},
   "outputs": [],
   "source": [
    "model.build_vocab(documents)"
   ]
  },
  {
   "cell_type": "code",
   "execution_count": null,
   "metadata": {},
   "outputs": [],
   "source": [
    "model.train(documents, total_examples=model.corpus_count, epochs=model.epochs)"
   ]
  },
  {
   "cell_type": "code",
   "execution_count": null,
   "metadata": {},
   "outputs": [],
   "source": [
    "#INFO:MainThread:gensim.models.base_any2vec:training on a 57955880 raw words (115911720 effective words) took 7759.6s, 14938 effective words/s"
   ]
  },
  {
   "cell_type": "code",
   "execution_count": null,
   "metadata": {},
   "outputs": [],
   "source": [
    "x =\"Yeah, I'm gonna take my horse to the old town road I'm gonna ride 'til \\\n",
    "I can't no more I'm gonna take my horse to the old town \\\n",
    "road I'm gonna ride 'til I can't no more\\\n",
    "I got the horses in the back\\\n",
    "Horse tack is attached\\\n",
    "Hat is matte black\\\n",
    "Got the boots that's black to match\\\n",
    "Ridin' on a horse, ha\\\n",
    "You can whip your Porsche\\\n",
    "I been in the valley\\\n",
    "You ain't been up off that porch, now\""
   ]
  },
  {
   "cell_type": "code",
   "execution_count": null,
   "metadata": {},
   "outputs": [],
   "source": [
    "x = x.split(\" \")"
   ]
  },
  {
   "cell_type": "code",
   "execution_count": null,
   "metadata": {},
   "outputs": [],
   "source": [
    "y = \"Hat down, cross town, livin' like a rockstar\\\n",
    "Spent a lot of money on my brand new guitar\\\n",
    "Baby's got a habit: diamond rings and Fendi sports bras\\\n",
    "Ridin' down Rodeo in my Maserati sports car\\\n",
    "Got no stress, I've been through all that\\\n",
    "I'm like a Marlboro Man so I kick on back\\\n",
    "Wish I could roll on back to that old town road\\\n",
    "I wanna ride 'til I can't no more\""
   ]
  },
  {
   "cell_type": "code",
   "execution_count": null,
   "metadata": {},
   "outputs": [],
   "source": [
    "y= y.split(\" \")"
   ]
  },
  {
   "cell_type": "code",
   "execution_count": null,
   "metadata": {},
   "outputs": [],
   "source": [
    "x = model.infer_vector(x)"
   ]
  },
  {
   "cell_type": "code",
   "execution_count": null,
   "metadata": {},
   "outputs": [],
   "source": [
    "model.infer_vector(y)"
   ]
  },
  {
   "cell_type": "code",
   "execution_count": null,
   "metadata": {},
   "outputs": [],
   "source": [
    "pj = \"Yamborghini chain, rest in peace to my superior\\\n",
    "Hermès link could feed a village in Liberia\\\n",
    "TMZ taking pictures, causin' mad hysteria\\\n",
    "Momma see me on BET and started tearin' up\\\n",
    "I'ma start killin' niggas, how you get that trife?\\\n",
    "I attended Harlem picnics where you risked your life\\\n",
    "Uncle used to skim work, sellin' nicks at night\\\n",
    "I was only 8 years old, watching Nick at Nite\\\n",
    "Uncle Psycho was in that bathroom buggin'!\\\n",
    "Knife to his guts, hope Daddy don't cut him\\\n",
    "Suicidal thoughts brought to me with no advisory\\\n",
    "He was pitchin' dummy, sellin' fiends mad ivory\\\n",
    "Grandma had the arthritis in her hands, bad!\\\n",
    "She was poppin' pills like rappers in society\\\n",
    "I fuck yo bitch for the irony\\\n",
    "I'll send Meechy at yo ho if yo bitch keep eyein' me\""
   ]
  },
  {
   "cell_type": "code",
   "execution_count": null,
   "metadata": {},
   "outputs": [],
   "source": [
    "pj = pj.split(\" \")"
   ]
  },
  {
   "cell_type": "code",
   "execution_count": null,
   "metadata": {},
   "outputs": [],
   "source": [
    "pj = model.infer_vector(pj)"
   ]
  },
  {
   "cell_type": "code",
   "execution_count": null,
   "metadata": {},
   "outputs": [],
   "source": [
    "model.docvecs.most_similar([pj],topn=10)"
   ]
  },
  {
   "cell_type": "code",
   "execution_count": null,
   "metadata": {},
   "outputs": [],
   "source": [
    "songs = df.song_identifier.evaluate()"
   ]
  },
  {
   "cell_type": "code",
   "execution_count": null,
   "metadata": {},
   "outputs": [],
   "source": [
    "dff[964697]"
   ]
  },
  {
   "cell_type": "code",
   "execution_count": null,
   "metadata": {},
   "outputs": [],
   "source": [
    "lyrics = dff.lyrics.evaluate()"
   ]
  },
  {
   "cell_type": "code",
   "execution_count": null,
   "metadata": {},
   "outputs": [],
   "source": [
    "lyrics[641956]"
   ]
  },
  {
   "cell_type": "code",
   "execution_count": null,
   "metadata": {},
   "outputs": [],
   "source": [
    "cl[641956]"
   ]
  },
  {
   "cell_type": "code",
   "execution_count": null,
   "metadata": {},
   "outputs": [],
   "source": [
    "documents[641956]"
   ]
  },
  {
   "cell_type": "code",
   "execution_count": null,
   "metadata": {},
   "outputs": [],
   "source": [
    "model.save(\"lyric_doc2vec\")"
   ]
  },
  {
   "cell_type": "code",
   "execution_count": null,
   "metadata": {},
   "outputs": [],
   "source": [
    "model2=Doc2Vec.load(\"lyric_doc2vec\")"
   ]
  },
  {
   "cell_type": "code",
   "execution_count": null,
   "metadata": {},
   "outputs": [],
   "source": [
    "pj1 = \"I'ma explain why you probably never seen me\\\n",
    "I'm in a sunken place, no Instagram, I'm watchin' TV\\\n",
    "I think I trade my breakfast, lunch and dinner for some kitty\\\n",
    "Please believe me, I see RiRi, I'ma eat it like panini\\\n",
    "I go dumb up in the broad, hit the walls like graffiti\\\n",
    "Indian burns all up on a nigga wee-wee\\\n",
    "I think I need a foursome, Bella, Kendall, Gigi\\\n",
    "It'd be easy if Reneezy hook it all up on the leezy\\\n",
    "I go crazy in my Yeezy, Kirk Kneezy on the beat\\\n",
    "I told 'em now we finna glow up in the street\\\n",
    "Rappers talk subliminal but they don't talk to me\\\n",
    "Put 'em in a Jersey shore like Pauly D\""
   ]
  },
  {
   "cell_type": "code",
   "execution_count": null,
   "metadata": {},
   "outputs": [],
   "source": [
    "pj1 = pj1.split(\" \")\n",
    "pj1 = model2.infer_vector(pj1)"
   ]
  },
  {
   "cell_type": "code",
   "execution_count": null,
   "metadata": {},
   "outputs": [],
   "source": [
    "model2.docvecs.most_similar([pj1],topn=10)"
   ]
  },
  {
   "cell_type": "code",
   "execution_count": null,
   "metadata": {},
   "outputs": [],
   "source": [
    "z[1532871]"
   ]
  },
  {
   "cell_type": "code",
   "execution_count": null,
   "metadata": {},
   "outputs": [],
   "source": [
    "lyrics = df.lyrics.evaluate()"
   ]
  },
  {
   "cell_type": "code",
   "execution_count": null,
   "metadata": {},
   "outputs": [],
   "source": [
    "lyrics[1532871]"
   ]
  },
  {
   "cell_type": "code",
   "execution_count": null,
   "metadata": {},
   "outputs": [],
   "source": [
    "\" \".join(literal_eval(lyrics[1532871]))"
   ]
  },
  {
   "cell_type": "markdown",
   "metadata": {},
   "source": [
    "# Get edgelist"
   ]
  },
  {
   "cell_type": "code",
   "execution_count": null,
   "metadata": {},
   "outputs": [],
   "source": [
    "df.drop(df.meta_data_1,inplace=True)\n",
    "df.drop(df.header_links,inplace=True)\n",
    "df.drop(df.side_table,inplace=True)\n",
    "df.drop(df.index,inplace=True)"
   ]
  },
  {
   "cell_type": "code",
   "execution_count": null,
   "metadata": {},
   "outputs": [],
   "source": [
    "def edge_list(song_name,associated_data):\n",
    "    return np.array([(song_name,i) for i in associated_data])"
   ]
  },
  {
   "cell_type": "code",
   "execution_count": null,
   "metadata": {},
   "outputs": [],
   "source": [
    "df.add_virtual_column(\"nodes\",df.meta_data_2.apply(len))"
   ]
  },
  {
   "cell_type": "code",
   "execution_count": null,
   "metadata": {},
   "outputs": [],
   "source": [
    "song = df.song_identifier.evaluate()\n",
    "data = df.meta_data_2.evaluate()"
   ]
  },
  {
   "cell_type": "code",
   "execution_count": null,
   "metadata": {},
   "outputs": [],
   "source": [
    "df.add_column(\"edge_list\",np.array([edge_list(a,b) for a,b in zip(song,data)]))"
   ]
  },
  {
   "cell_type": "code",
   "execution_count": null,
   "metadata": {
    "scrolled": true
   },
   "outputs": [],
   "source": [
    "associated_data = df.evaluate(df.meta_data_2)"
   ]
  },
  {
   "cell_type": "code",
   "execution_count": null,
   "metadata": {},
   "outputs": [],
   "source": [
    "edge_list = df.edge_list.evaluate()"
   ]
  },
  {
   "cell_type": "code",
   "execution_count": null,
   "metadata": {},
   "outputs": [],
   "source": [
    "edge_list  = np.array([ i for sublist in edge_list for i in sublist ])"
   ]
  },
  {
   "cell_type": "code",
   "execution_count": null,
   "metadata": {},
   "outputs": [],
   "source": [
    "type(edge_list)"
   ]
  },
  {
   "cell_type": "code",
   "execution_count": null,
   "metadata": {},
   "outputs": [],
   "source": []
  },
  {
   "cell_type": "code",
   "execution_count": null,
   "metadata": {},
   "outputs": [],
   "source": [
    "lyrics"
   ]
  },
  {
   "cell_type": "code",
   "execution_count": null,
   "metadata": {},
   "outputs": [],
   "source": [
    "#!pipenv install networkx --dev"
   ]
  },
  {
   "cell_type": "code",
   "execution_count": null,
   "metadata": {},
   "outputs": [],
   "source": [
    "import networkx as nx"
   ]
  },
  {
   "cell_type": "code",
   "execution_count": null,
   "metadata": {},
   "outputs": [],
   "source": [
    "G = nx.from_edgelist(edge_list)"
   ]
  },
  {
   "cell_type": "code",
   "execution_count": null,
   "metadata": {},
   "outputs": [],
   "source": [
    "g = nx.to_scipy_sparse_matrix(G)"
   ]
  },
  {
   "cell_type": "code",
   "execution_count": null,
   "metadata": {},
   "outputs": [],
   "source": [
    "#!pipenv install scikit-learn --dev"
   ]
  },
  {
   "cell_type": "code",
   "execution_count": null,
   "metadata": {},
   "outputs": [],
   "source": [
    "from sklearn.decomposition import TruncatedSVD\n",
    "svd = TruncatedSVD(n_components=300, n_iter=50, random_state=42)\n",
    "g_svd = svd.fit_transform(g)  "
   ]
  },
  {
   "cell_type": "code",
   "execution_count": null,
   "metadata": {},
   "outputs": [],
   "source": [
    "G.size()"
   ]
  },
  {
   "cell_type": "code",
   "execution_count": null,
   "metadata": {},
   "outputs": [],
   "source": []
  }
 ],
 "metadata": {
  "kernelspec": {
   "display_name": "Python 3",
   "language": "python",
   "name": "python3"
  },
  "language_info": {
   "codemirror_mode": {
    "name": "ipython",
    "version": 3
   },
   "file_extension": ".py",
   "mimetype": "text/x-python",
   "name": "python",
   "nbconvert_exporter": "python",
   "pygments_lexer": "ipython3",
   "version": "3.6.7"
  }
 },
 "nbformat": 4,
 "nbformat_minor": 2
}
