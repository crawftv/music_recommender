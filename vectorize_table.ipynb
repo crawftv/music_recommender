{
 "cells": [
  {
   "cell_type": "code",
   "execution_count": 1,
   "metadata": {},
   "outputs": [],
   "source": [
    "import pandas as pd\n",
    "import pickle\n",
    "import numpy as np"
   ]
  },
  {
   "cell_type": "code",
   "execution_count": 2,
   "metadata": {},
   "outputs": [],
   "source": [
    "filename = 'genius_table_values_and_lyrics'\n",
    "infile = open(filename, 'rb')\n",
    "df = pickle.load(infile)\n",
    "infile.close()"
   ]
  },
  {
   "cell_type": "code",
   "execution_count": 3,
   "metadata": {},
   "outputs": [
    {
     "data": {
      "text/html": [
       "<div>\n",
       "<style scoped>\n",
       "    .dataframe tbody tr th:only-of-type {\n",
       "        vertical-align: middle;\n",
       "    }\n",
       "\n",
       "    .dataframe tbody tr th {\n",
       "        vertical-align: top;\n",
       "    }\n",
       "\n",
       "    .dataframe thead th {\n",
       "        text-align: right;\n",
       "    }\n",
       "</style>\n",
       "<table border=\"1\" class=\"dataframe\">\n",
       "  <thead>\n",
       "    <tr style=\"text-align: right;\">\n",
       "      <th></th>\n",
       "      <th>url</th>\n",
       "      <th>side_table</th>\n",
       "      <th>lyrics</th>\n",
       "    </tr>\n",
       "  </thead>\n",
       "  <tbody>\n",
       "    <tr>\n",
       "      <th>0</th>\n",
       "      <td>https://genius.com/Kanye-west-gone-lyrics</td>\n",
       "      <td>{'Written By': ['https://genius.com/artists/Ch...</td>\n",
       "      <td>[[Produced by Kanye West], [Intro], Wished I h...</td>\n",
       "    </tr>\n",
       "    <tr>\n",
       "      <th>1</th>\n",
       "      <td>https://genius.com/Nicki-minaj-i-am-your-leade...</td>\n",
       "      <td>{'Written By': ['https://genius.com/artists/Fe...</td>\n",
       "      <td>[[Verse 1: Nicki Minaj], Uh, Look sucker, this...</td>\n",
       "    </tr>\n",
       "    <tr>\n",
       "      <th>2</th>\n",
       "      <td>https://genius.com/Lil-kim-crush-on-you-remix-...</td>\n",
       "      <td>{'Written By': ['https://genius.com/artists/An...</td>\n",
       "      <td>[[Intro: Lil' Cease &amp; Lil' Kim], Undeas!, Lil ...</td>\n",
       "    </tr>\n",
       "    <tr>\n",
       "      <th>3</th>\n",
       "      <td>https://genius.com/Camron-hey-ma-lyrics</td>\n",
       "      <td>{'Written By': ['https://genius.com/artists/D-...</td>\n",
       "      <td>[[Chorus: Freekey Zekey (Toya)], Hey ma (wassu...</td>\n",
       "    </tr>\n",
       "    <tr>\n",
       "      <th>4</th>\n",
       "      <td>https://genius.com/Camron-killa-cam-lyrics</td>\n",
       "      <td>{'Written By': ['https://genius.com/artists/Th...</td>\n",
       "      <td>[[Chorus throughout Intro], Killa Cam, Killa C...</td>\n",
       "    </tr>\n",
       "  </tbody>\n",
       "</table>\n",
       "</div>"
      ],
      "text/plain": [
       "                                                 url  \\\n",
       "0          https://genius.com/Kanye-west-gone-lyrics   \n",
       "1  https://genius.com/Nicki-minaj-i-am-your-leade...   \n",
       "2  https://genius.com/Lil-kim-crush-on-you-remix-...   \n",
       "3            https://genius.com/Camron-hey-ma-lyrics   \n",
       "4         https://genius.com/Camron-killa-cam-lyrics   \n",
       "\n",
       "                                          side_table  \\\n",
       "0  {'Written By': ['https://genius.com/artists/Ch...   \n",
       "1  {'Written By': ['https://genius.com/artists/Fe...   \n",
       "2  {'Written By': ['https://genius.com/artists/An...   \n",
       "3  {'Written By': ['https://genius.com/artists/D-...   \n",
       "4  {'Written By': ['https://genius.com/artists/Th...   \n",
       "\n",
       "                                              lyrics  \n",
       "0  [[Produced by Kanye West], [Intro], Wished I h...  \n",
       "1  [[Verse 1: Nicki Minaj], Uh, Look sucker, this...  \n",
       "2  [[Intro: Lil' Cease & Lil' Kim], Undeas!, Lil ...  \n",
       "3  [[Chorus: Freekey Zekey (Toya)], Hey ma (wassu...  \n",
       "4  [[Chorus throughout Intro], Killa Cam, Killa C...  "
      ]
     },
     "execution_count": 3,
     "metadata": {},
     "output_type": "execute_result"
    }
   ],
   "source": [
    "df.head()"
   ]
  },
  {
   "cell_type": "code",
   "execution_count": 4,
   "metadata": {},
   "outputs": [],
   "source": [
    "# turn list of lists into string for countVectorizer\n",
    "def lol(list_of_lists):\n",
    "    return \" \".join([ item for sublist in list_of_lists for item in sublist ])"
   ]
  },
  {
   "cell_type": "code",
   "execution_count": 5,
   "metadata": {},
   "outputs": [],
   "source": [
    "values =[list(x.values()) for x in df['side_table']]"
   ]
  },
  {
   "cell_type": "code",
   "execution_count": 6,
   "metadata": {},
   "outputs": [],
   "source": [
    "a = [ lol(i) for i in values ]"
   ]
  },
  {
   "cell_type": "code",
   "execution_count": 7,
   "metadata": {},
   "outputs": [],
   "source": [
    "df[\"table_as_string\"]=pd.Series(a)"
   ]
  },
  {
   "cell_type": "code",
   "execution_count": null,
   "metadata": {},
   "outputs": [],
   "source": []
  },
  {
   "cell_type": "code",
   "execution_count": 8,
   "metadata": {},
   "outputs": [],
   "source": [
    "test = df.dropna()"
   ]
  },
  {
   "cell_type": "code",
   "execution_count": 9,
   "metadata": {},
   "outputs": [
    {
     "data": {
      "text/plain": [
       "(187694, 4)"
      ]
     },
     "execution_count": 9,
     "metadata": {},
     "output_type": "execute_result"
    }
   ],
   "source": [
    "test.shape"
   ]
  },
  {
   "cell_type": "code",
   "execution_count": 10,
   "metadata": {},
   "outputs": [],
   "source": [
    "test = test.reset_index()"
   ]
  },
  {
   "cell_type": "code",
   "execution_count": 11,
   "metadata": {},
   "outputs": [
    {
     "data": {
      "text/html": [
       "<div>\n",
       "<style scoped>\n",
       "    .dataframe tbody tr th:only-of-type {\n",
       "        vertical-align: middle;\n",
       "    }\n",
       "\n",
       "    .dataframe tbody tr th {\n",
       "        vertical-align: top;\n",
       "    }\n",
       "\n",
       "    .dataframe thead th {\n",
       "        text-align: right;\n",
       "    }\n",
       "</style>\n",
       "<table border=\"1\" class=\"dataframe\">\n",
       "  <thead>\n",
       "    <tr style=\"text-align: right;\">\n",
       "      <th></th>\n",
       "      <th>index</th>\n",
       "      <th>url</th>\n",
       "      <th>side_table</th>\n",
       "      <th>lyrics</th>\n",
       "      <th>table_as_string</th>\n",
       "    </tr>\n",
       "  </thead>\n",
       "  <tbody>\n",
       "    <tr>\n",
       "      <th>0</th>\n",
       "      <td>0</td>\n",
       "      <td>https://genius.com/Kanye-west-gone-lyrics</td>\n",
       "      <td>{'Written By': ['https://genius.com/artists/Ch...</td>\n",
       "      <td>[[Produced by Kanye West], [Intro], Wished I h...</td>\n",
       "      <td>https://genius.com/artists/Chuck-willis https:...</td>\n",
       "    </tr>\n",
       "    <tr>\n",
       "      <th>1</th>\n",
       "      <td>1</td>\n",
       "      <td>https://genius.com/Nicki-minaj-i-am-your-leade...</td>\n",
       "      <td>{'Written By': ['https://genius.com/artists/Fe...</td>\n",
       "      <td>[[Verse 1: Nicki Minaj], Uh, Look sucker, this...</td>\n",
       "      <td>https://genius.com/artists/Fernando-garibay ht...</td>\n",
       "    </tr>\n",
       "    <tr>\n",
       "      <th>2</th>\n",
       "      <td>2</td>\n",
       "      <td>https://genius.com/Lil-kim-crush-on-you-remix-...</td>\n",
       "      <td>{'Written By': ['https://genius.com/artists/An...</td>\n",
       "      <td>[[Intro: Lil' Cease &amp; Lil' Kim], Undeas!, Lil ...</td>\n",
       "      <td>https://genius.com/artists/Andreao-fanatic-hea...</td>\n",
       "    </tr>\n",
       "    <tr>\n",
       "      <th>3</th>\n",
       "      <td>3</td>\n",
       "      <td>https://genius.com/Camron-hey-ma-lyrics</td>\n",
       "      <td>{'Written By': ['https://genius.com/artists/D-...</td>\n",
       "      <td>[[Chorus: Freekey Zekey (Toya)], Hey ma (wassu...</td>\n",
       "      <td>https://genius.com/artists/D-r-period https://...</td>\n",
       "    </tr>\n",
       "    <tr>\n",
       "      <th>4</th>\n",
       "      <td>4</td>\n",
       "      <td>https://genius.com/Camron-killa-cam-lyrics</td>\n",
       "      <td>{'Written By': ['https://genius.com/artists/Th...</td>\n",
       "      <td>[[Chorus throughout Intro], Killa Cam, Killa C...</td>\n",
       "      <td>https://genius.com/artists/The-heatmakerz http...</td>\n",
       "    </tr>\n",
       "  </tbody>\n",
       "</table>\n",
       "</div>"
      ],
      "text/plain": [
       "   index                                                url  \\\n",
       "0      0          https://genius.com/Kanye-west-gone-lyrics   \n",
       "1      1  https://genius.com/Nicki-minaj-i-am-your-leade...   \n",
       "2      2  https://genius.com/Lil-kim-crush-on-you-remix-...   \n",
       "3      3            https://genius.com/Camron-hey-ma-lyrics   \n",
       "4      4         https://genius.com/Camron-killa-cam-lyrics   \n",
       "\n",
       "                                          side_table  \\\n",
       "0  {'Written By': ['https://genius.com/artists/Ch...   \n",
       "1  {'Written By': ['https://genius.com/artists/Fe...   \n",
       "2  {'Written By': ['https://genius.com/artists/An...   \n",
       "3  {'Written By': ['https://genius.com/artists/D-...   \n",
       "4  {'Written By': ['https://genius.com/artists/Th...   \n",
       "\n",
       "                                              lyrics  \\\n",
       "0  [[Produced by Kanye West], [Intro], Wished I h...   \n",
       "1  [[Verse 1: Nicki Minaj], Uh, Look sucker, this...   \n",
       "2  [[Intro: Lil' Cease & Lil' Kim], Undeas!, Lil ...   \n",
       "3  [[Chorus: Freekey Zekey (Toya)], Hey ma (wassu...   \n",
       "4  [[Chorus throughout Intro], Killa Cam, Killa C...   \n",
       "\n",
       "                                     table_as_string  \n",
       "0  https://genius.com/artists/Chuck-willis https:...  \n",
       "1  https://genius.com/artists/Fernando-garibay ht...  \n",
       "2  https://genius.com/artists/Andreao-fanatic-hea...  \n",
       "3  https://genius.com/artists/D-r-period https://...  \n",
       "4  https://genius.com/artists/The-heatmakerz http...  "
      ]
     },
     "execution_count": 11,
     "metadata": {},
     "output_type": "execute_result"
    }
   ],
   "source": [
    "test.head()"
   ]
  },
  {
   "cell_type": "code",
   "execution_count": 12,
   "metadata": {},
   "outputs": [],
   "source": [
    "test = test.drop(columns=[\"index\"],axis=1)"
   ]
  },
  {
   "cell_type": "code",
   "execution_count": 13,
   "metadata": {},
   "outputs": [],
   "source": [
    "from sklearn.feature_extraction.text import CountVectorizer\n",
    "vectorizer =CountVectorizer()"
   ]
  },
  {
   "cell_type": "code",
   "execution_count": 14,
   "metadata": {},
   "outputs": [],
   "source": [
    "corpus = test['table_as_string'].values"
   ]
  },
  {
   "cell_type": "code",
   "execution_count": 15,
   "metadata": {},
   "outputs": [],
   "source": [
    "X = vectorizer.fit_transform(corpus)"
   ]
  },
  {
   "cell_type": "code",
   "execution_count": 16,
   "metadata": {},
   "outputs": [
    {
     "data": {
      "text/plain": [
       "<187694x69860 sparse matrix of type '<class 'numpy.int64'>'\n",
       "\twith 1538732 stored elements in Compressed Sparse Row format>"
      ]
     },
     "execution_count": 16,
     "metadata": {},
     "output_type": "execute_result"
    }
   ],
   "source": [
    "X"
   ]
  },
  {
   "cell_type": "code",
   "execution_count": 17,
   "metadata": {},
   "outputs": [
    {
     "data": {
      "text/plain": [
       "<1x69860 sparse matrix of type '<class 'numpy.int64'>'\n",
       "\twith 71 stored elements in Compressed Sparse Row format>"
      ]
     },
     "execution_count": 17,
     "metadata": {},
     "output_type": "execute_result"
    }
   ],
   "source": [
    "X[0]"
   ]
  },
  {
   "cell_type": "code",
   "execution_count": 49,
   "metadata": {},
   "outputs": [],
   "source": [
    "from sklearn.decomposition import TruncatedSVD\n",
    "svd = TruncatedSVD(n_components=300, n_iter=50, random_state=42)\n",
    "X_svd = svd.fit_transform(X)  "
   ]
  },
  {
   "cell_type": "markdown",
   "metadata": {},
   "source": [
    "## Trying the Annoy Library\n",
    "#### annoy test"
   ]
  },
  {
   "cell_type": "code",
   "execution_count": 22,
   "metadata": {},
   "outputs": [
    {
     "name": "stdout",
     "output_type": "stream",
     "text": [
      "Requirement already satisfied: annoy in /home/ec2-user/.local/lib/python3.6/site-packages (1.15.2)\n",
      "\u001b[33mYou are using pip version 10.0.1, however version 19.0.3 is available.\n",
      "You should consider upgrading via the 'pip install --upgrade pip' command.\u001b[0m\n"
     ]
    }
   ],
   "source": [
    "!pip install --user annoy"
   ]
  },
  {
   "cell_type": "code",
   "execution_count": 23,
   "metadata": {},
   "outputs": [],
   "source": [
    "import annoy"
   ]
  },
  {
   "cell_type": "code",
   "execution_count": 24,
   "metadata": {},
   "outputs": [],
   "source": [
    "## from annoy import AnnoyIndex\n",
    "# import random\n",
    "\n",
    "# f = 40\n",
    "# t = AnnoyIndex(f)  # Length of item vector that will be indexed\n",
    "# for i in range(1000):\n",
    "#     v = [random.gauss(0, 1) for z in range(f)]\n",
    "#     t.add_item(i, v)\n",
    "\n",
    "# t.build(10) # 10 trees\n",
    "# t.save('test.ann')\n",
    "\n",
    "# # ...\n",
    "\n",
    "# u = AnnoyIndex(f)\n",
    "# u.load('test.ann') # super fast, will just mmap the file\n",
    "# print(u.get_nns_by_item(0, 10)) # will find the 1000 nearest neighbors"
   ]
  },
  {
   "cell_type": "markdown",
   "metadata": {},
   "source": [
    "## Annoy on my data"
   ]
  },
  {
   "cell_type": "code",
   "execution_count": null,
   "metadata": {},
   "outputs": [],
   "source": []
  },
  {
   "cell_type": "code",
   "execution_count": 25,
   "metadata": {},
   "outputs": [
    {
     "data": {
      "text/plain": [
       "(187694,)"
      ]
     },
     "execution_count": 25,
     "metadata": {},
     "output_type": "execute_result"
    }
   ],
   "source": [
    "songs = test[\"url\"]\n",
    "songs.shape"
   ]
  },
  {
   "cell_type": "code",
   "execution_count": 50,
   "metadata": {},
   "outputs": [
    {
     "data": {
      "text/plain": [
       "True"
      ]
     },
     "execution_count": 50,
     "metadata": {},
     "output_type": "execute_result"
    }
   ],
   "source": [
    "from annoy import AnnoyIndex\n",
    "t = AnnoyIndex(300)\n",
    "\n",
    "for i in range(0, len(songs)):\n",
    "    t.add_item(i, list(X_svd[i]))\n",
    "t.build(100)"
   ]
  },
  {
   "cell_type": "code",
   "execution_count": 38,
   "metadata": {},
   "outputs": [
    {
     "data": {
      "text/plain": [
       "Int64Index([2629], dtype='int64')"
      ]
     },
     "execution_count": 38,
     "metadata": {},
     "output_type": "execute_result"
    }
   ],
   "source": [
    "test.index[test[\"url\"] ==\"https://genius.com/Rakim-when-i-b-on-tha-mic-lyrics\"]"
   ]
  },
  {
   "cell_type": "code",
   "execution_count": 51,
   "metadata": {},
   "outputs": [],
   "source": [
    "t.save('test.ann')\n",
    "u = AnnoyIndex(300)\n",
    "u.load('test.ann') # super fast, will just mmap the file\n",
    "playlist =u.get_nns_by_item(2629, 10) # will find the 1000 nearest neighbors"
   ]
  },
  {
   "cell_type": "code",
   "execution_count": 52,
   "metadata": {},
   "outputs": [
    {
     "data": {
      "text/plain": [
       "[31, 81, 211, 227, 518, 564, 594, 870, 1172, 1286]"
      ]
     },
     "execution_count": 52,
     "metadata": {},
     "output_type": "execute_result"
    }
   ],
   "source": [
    "playlist"
   ]
  },
  {
   "cell_type": "code",
   "execution_count": 53,
   "metadata": {},
   "outputs": [
    {
     "name": "stdout",
     "output_type": "stream",
     "text": [
      "https://genius.com/Camron-losing-weight-pt-2-lyrics \n",
      "\n",
      "https://genius.com/Jay-z-kill-jay-z-lyrics \n",
      "\n",
      "https://genius.com/Clipse-when-the-last-time-lyrics \n",
      "\n",
      "https://genius.com/Clipse-hot-damn-lyrics \n",
      "\n",
      "https://genius.com/Jadakiss-we-gonna-make-it-lyrics \n",
      "\n",
      "https://genius.com/Juvenile-juvenile-on-fire-lyrics \n",
      "\n",
      "https://genius.com/The-game-the-city-lyrics \n",
      "\n",
      "https://genius.com/Cormega-rap-basquiat-lyrics \n",
      "\n",
      "https://genius.com/Madvillain-rhinestone-cowboy-lyrics \n",
      "\n",
      "https://genius.com/Jamie-foxx-storm-forecast-lyrics \n",
      "\n"
     ]
    }
   ],
   "source": [
    "for i in playlist:\n",
    "#     print(i)\n",
    "   print(songs[i],\"\\n\")"
   ]
  },
  {
   "cell_type": "code",
   "execution_count": 54,
   "metadata": {},
   "outputs": [
    {
     "data": {
      "text/plain": [
       "Int64Index([2291], dtype='int64')"
      ]
     },
     "execution_count": 54,
     "metadata": {},
     "output_type": "execute_result"
    }
   ],
   "source": [
    "test.index[test[\"url\"] ==\"https://genius.com/Kanye-west-stronger-lyrics\"]"
   ]
  },
  {
   "cell_type": "code",
   "execution_count": 56,
   "metadata": {},
   "outputs": [
    {
     "name": "stdout",
     "output_type": "stream",
     "text": [
      "https://genius.com/Kanye-west-stronger-lyrics \n",
      "\n",
      "https://genius.com/Three-6-mafia-doe-boy-fresh-lyrics \n",
      "\n",
      "https://genius.com/Mike-stud-amanda-bynes-versace-remix-lyrics \n",
      "\n",
      "https://genius.com/Lil-jon-and-the-east-side-boyz-get-low-lyrics \n",
      "\n",
      "https://genius.com/Vado-my-bae-lyrics \n",
      "\n",
      "https://genius.com/Bloodhound-gang-chew-toy-lyrics \n",
      "\n",
      "https://genius.com/Outkast-gasoline-dreams-lyrics \n",
      "\n",
      "https://genius.com/D12-leave-dat-boy-alone-lyrics \n",
      "\n",
      "https://genius.com/Lil-kim-fuck-you-1996-lyrics \n",
      "\n",
      "https://genius.com/Count-bass-d-aural-sects-lyrics \n",
      "\n"
     ]
    }
   ],
   "source": [
    "playlist2 =u.get_nns_by_item(2291, 10) # will find the 1000 nearest neighbors\n",
    "for i in playlist2:\n",
    "#     print(i)\n",
    "   print(songs[i],\"\\n\")"
   ]
  },
  {
   "cell_type": "code",
   "execution_count": null,
   "metadata": {},
   "outputs": [],
   "source": [
    "test.index[test[\"url\"] ==\"https://genius.com/Kanye-west-stronger-lyrics\"]"
   ]
  },
  {
   "cell_type": "markdown",
   "metadata": {},
   "source": [
    "## Hyper parameter search\n",
    "500 components, 75 iterations 100 trees,  the same as 300 components 50 iters 100 trees, 300x15x35,\n"
   ]
  },
  {
   "cell_type": "code",
   "execution_count": 66,
   "metadata": {},
   "outputs": [
    {
     "name": "stdout",
     "output_type": "stream",
     "text": [
      "https://genius.com/Kanye-west-stronger-lyrics \n",
      "\n",
      "https://genius.com/Three-6-mafia-doe-boy-fresh-lyrics \n",
      "\n",
      "https://genius.com/Mike-stud-amanda-bynes-versace-remix-lyrics \n",
      "\n",
      "https://genius.com/Lil-jon-and-the-east-side-boyz-get-low-lyrics \n",
      "\n",
      "https://genius.com/Vado-my-bae-lyrics \n",
      "\n",
      "https://genius.com/Bloodhound-gang-chew-toy-lyrics \n",
      "\n",
      "https://genius.com/Outkast-gasoline-dreams-lyrics \n",
      "\n",
      "https://genius.com/D12-leave-dat-boy-alone-lyrics \n",
      "\n",
      "https://genius.com/Lil-kim-fuck-you-1996-lyrics \n",
      "\n",
      "https://genius.com/Count-bass-d-aural-sects-lyrics \n",
      "\n"
     ]
    }
   ],
   "source": [
    "from sklearn.decomposition import TruncatedSVD\n",
    "svd = TruncatedSVD(n_components=100, n_iter=15, random_state=1)\n",
    "X_svd = svd.fit_transform(X)  \n",
    "t = AnnoyIndex(100)\n",
    "\n",
    "for i in range(0, len(songs)):\n",
    "    t.add_item(i, list(X_svd[i]))\n",
    "t.build(200)\n",
    "playlist3 =u.get_nns_by_item(2291, 10) # will find the 1000 nearest neighbors\n",
    "for i in playlist3:\n",
    "#     print(i)\n",
    "   print(songs[i],\"\\n\")"
   ]
  },
  {
   "cell_type": "code",
   "execution_count": null,
   "metadata": {},
   "outputs": [],
   "source": []
  }
 ],
 "metadata": {
  "kernelspec": {
   "display_name": "conda_python3",
   "language": "python",
   "name": "conda_python3"
  },
  "language_info": {
   "codemirror_mode": {
    "name": "ipython",
    "version": 3
   },
   "file_extension": ".py",
   "mimetype": "text/x-python",
   "name": "python",
   "nbconvert_exporter": "python",
   "pygments_lexer": "ipython3",
   "version": "3.6.5"
  }
 },
 "nbformat": 4,
 "nbformat_minor": 2
}
