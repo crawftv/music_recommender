{
 "cells": [
  {
   "cell_type": "code",
   "execution_count": 43,
   "metadata": {},
   "outputs": [],
   "source": [
    "import requests\n",
    "from bs4 import BeautifulSoup\n",
    "import pandas as pd\n",
    "import numpy as np\n",
    "import pickle\n",
    "import re"
   ]
  },
  {
   "cell_type": "code",
   "execution_count": 4,
   "metadata": {},
   "outputs": [],
   "source": [
    "file_name = 'genius_artist_and_top_songs_urls'\n",
    "infile =open(file_name, 'rb')\n",
    "genius_artist_and_top_songs_urls = pickle.load(infile)\n",
    "infile.close()"
   ]
  },
  {
   "cell_type": "code",
   "execution_count": 79,
   "metadata": {},
   "outputs": [
    {
     "data": {
      "text/html": [
       "<div>\n",
       "<style scoped>\n",
       "    .dataframe tbody tr th:only-of-type {\n",
       "        vertical-align: middle;\n",
       "    }\n",
       "\n",
       "    .dataframe tbody tr th {\n",
       "        vertical-align: top;\n",
       "    }\n",
       "\n",
       "    .dataframe thead th {\n",
       "        text-align: right;\n",
       "    }\n",
       "</style>\n",
       "<table border=\"1\" class=\"dataframe\">\n",
       "  <thead>\n",
       "    <tr style=\"text-align: right;\">\n",
       "      <th></th>\n",
       "      <th>artist</th>\n",
       "      <th>genius_artist_id</th>\n",
       "      <th>songs_list</th>\n",
       "      <th>page2</th>\n",
       "      <th>url_list1</th>\n",
       "      <th>url_list2</th>\n",
       "    </tr>\n",
       "  </thead>\n",
       "  <tbody>\n",
       "    <tr>\n",
       "      <th>0</th>\n",
       "      <td>Cam'ron</td>\n",
       "      <td>1</td>\n",
       "      <td>&lt;Response [200]&gt;</td>\n",
       "      <td>&lt;Response [200]&gt;</td>\n",
       "      <td>[https://genius.com/Kanye-west-gone-lyrics, ht...</td>\n",
       "      <td>[https://genius.com/Camron-what-means-the-worl...</td>\n",
       "    </tr>\n",
       "    <tr>\n",
       "      <th>1</th>\n",
       "      <td>JAY-Z</td>\n",
       "      <td>2</td>\n",
       "      <td>&lt;Response [200]&gt;</td>\n",
       "      <td>&lt;Response [200]&gt;</td>\n",
       "      <td>[https://genius.com/Beyonce-drunk-in-love-lyri...</td>\n",
       "      <td>[https://genius.com/Big-l-7-minute-freestyle-l...</td>\n",
       "    </tr>\n",
       "    <tr>\n",
       "      <th>2</th>\n",
       "      <td>Fabolous</td>\n",
       "      <td>3</td>\n",
       "      <td>&lt;Response [200]&gt;</td>\n",
       "      <td>&lt;Response [200]&gt;</td>\n",
       "      <td>[https://genius.com/Chris-brown-deuces-remix-l...</td>\n",
       "      <td>[https://genius.com/Fabolous-who-do-you-love-r...</td>\n",
       "    </tr>\n",
       "    <tr>\n",
       "      <th>3</th>\n",
       "      <td>Lil Wayne</td>\n",
       "      <td>4</td>\n",
       "      <td>&lt;Response [200]&gt;</td>\n",
       "      <td>&lt;Response [200]&gt;</td>\n",
       "      <td>[https://genius.com/Drake-in-my-feelings-lyric...</td>\n",
       "      <td>[https://genius.com/The-game-celebration-lyric...</td>\n",
       "    </tr>\n",
       "    <tr>\n",
       "      <th>4</th>\n",
       "      <td>Clipse</td>\n",
       "      <td>5</td>\n",
       "      <td>&lt;Response [200]&gt;</td>\n",
       "      <td>&lt;Response [200]&gt;</td>\n",
       "      <td>[https://genius.com/Clipse-grindin-lyrics, htt...</td>\n",
       "      <td>[https://genius.com/Clipse-numb-it-down-lyrics...</td>\n",
       "    </tr>\n",
       "  </tbody>\n",
       "</table>\n",
       "</div>"
      ],
      "text/plain": [
       "      artist  genius_artist_id        songs_list             page2  \\\n",
       "0    Cam'ron                 1  <Response [200]>  <Response [200]>   \n",
       "1      JAY-Z                 2  <Response [200]>  <Response [200]>   \n",
       "2   Fabolous                 3  <Response [200]>  <Response [200]>   \n",
       "3  Lil Wayne                 4  <Response [200]>  <Response [200]>   \n",
       "4     Clipse                 5  <Response [200]>  <Response [200]>   \n",
       "\n",
       "                                           url_list1  \\\n",
       "0  [https://genius.com/Kanye-west-gone-lyrics, ht...   \n",
       "1  [https://genius.com/Beyonce-drunk-in-love-lyri...   \n",
       "2  [https://genius.com/Chris-brown-deuces-remix-l...   \n",
       "3  [https://genius.com/Drake-in-my-feelings-lyric...   \n",
       "4  [https://genius.com/Clipse-grindin-lyrics, htt...   \n",
       "\n",
       "                                           url_list2  \n",
       "0  [https://genius.com/Camron-what-means-the-worl...  \n",
       "1  [https://genius.com/Big-l-7-minute-freestyle-l...  \n",
       "2  [https://genius.com/Fabolous-who-do-you-love-r...  \n",
       "3  [https://genius.com/The-game-celebration-lyric...  \n",
       "4  [https://genius.com/Clipse-numb-it-down-lyrics...  "
      ]
     },
     "execution_count": 79,
     "metadata": {},
     "output_type": "execute_result"
    }
   ],
   "source": [
    "genius_artist_and_top_songs_urls.head()"
   ]
  },
  {
   "cell_type": "code",
   "execution_count": null,
   "metadata": {},
   "outputs": [],
   "source": []
  },
  {
   "cell_type": "code",
   "execution_count": 99,
   "metadata": {},
   "outputs": [],
   "source": [
    "def get_lyrics(soup_text):\n",
    "    try:\n",
    "        lyrics = soup_text.find_all(\"p\")[0].text\n",
    "        lyrics = re.sub(r'\\[.*?\\']','',lyrics)\n",
    "        lyrics = re.sub(r'--','',lyrics)\n",
    "        lyrics = lyrics.split(\"\\n\")\n",
    "        lyrics = [ x for x in lyrics if x != \"\"]\n",
    "        return lyrics\n",
    "    except:\n",
    "        np.nan\n",
    "        \n",
    "def get_links(x,i):\n",
    "    return x[i]['href']\n",
    "def get_table_row(side_list_table_row):\n",
    "    a = side_list_table_row.find_all(\"span\", {\"class\":\"metadata_unit-label\"})\n",
    "    label = a[0].text\n",
    "    links_list = side_list_table_row.find_all(\"a\")\n",
    "    links = [get_links(links_list,i) for i in range(len(links_list))]\n",
    "    return label, links\n",
    "def get_info_from_page(url):\n",
    "    page = requests.get(url)\n",
    "    soup = BeautifulSoup(page.text,'html.parser')\n",
    "    side_list_table = soup.find_all(\"div\", {\"class\":\"metadata_unit metadata_unit--table_row\"} )\n",
    "    lyrics = get_lyrics(soup)\n",
    "    return  (url,[get_table_row(side_list_table[i]) for i in range(0,len(side_list_table)) ],lyrics )"
   ]
  },
  {
   "cell_type": "code",
   "execution_count": 90,
   "metadata": {},
   "outputs": [],
   "source": [
    "l = get_info_from_page(genius_artist_and_top_songs_urls[\"url_list1\"][0][0])"
   ]
  },
  {
   "cell_type": "code",
   "execution_count": null,
   "metadata": {},
   "outputs": [],
   "source": []
  },
  {
   "cell_type": "code",
   "execution_count": 146,
   "metadata": {},
   "outputs": [],
   "source": [
    "#dropping peskying NoneTypes. Can't replace with np.nan, cant iterate over floats.\n",
    "artists = genius_artist_and_top_songs_urls.dropna()"
   ]
  },
  {
   "cell_type": "code",
   "execution_count": 175,
   "metadata": {},
   "outputs": [],
   "source": [
    "url_list = [item for sublist in artists[\"url_list2\"] for item in sublist]"
   ]
  },
  {
   "cell_type": "code",
   "execution_count": 177,
   "metadata": {},
   "outputs": [
    {
     "data": {
      "text/plain": [
       "125432"
      ]
     },
     "execution_count": 177,
     "metadata": {},
     "output_type": "execute_result"
    }
   ],
   "source": [
    "len(url_list)"
   ]
  },
  {
   "cell_type": "code",
   "execution_count": 176,
   "metadata": {},
   "outputs": [
    {
     "data": {
      "text/plain": [
       "8.254277441431956"
      ]
     },
     "execution_count": 176,
     "metadata": {},
     "output_type": "execute_result"
    }
   ],
   "source": [
    "#average number of links per artist.\n",
    "len(url_list)/genius_artist_and_top_songs_urls.shape[0]"
   ]
  },
  {
   "cell_type": "code",
   "execution_count": 147,
   "metadata": {},
   "outputs": [],
   "source": [
    "def log_progress(sequence, every=None, size=None, name='Items'):\n",
    "    from ipywidgets import IntProgress, HTML, VBox\n",
    "    from IPython.display import display\n",
    "\n",
    "    is_iterator = False\n",
    "    if size is None:\n",
    "        try:\n",
    "            size = len(sequence)\n",
    "        except TypeError:\n",
    "            is_iterator = True\n",
    "    if size is not None:\n",
    "        if every is None:\n",
    "            if size <= 200:\n",
    "                every = 1\n",
    "            else:\n",
    "                every = int(size / 200)     # every 0.5%\n",
    "    else:\n",
    "        assert every is not None, 'sequence is iterator, set every'\n",
    "\n",
    "    if is_iterator:\n",
    "        progress = IntProgress(min=0, max=1, value=1)\n",
    "        progress.bar_style = 'info'\n",
    "    else:\n",
    "        progress = IntProgress(min=0, max=size, value=0)\n",
    "    label = HTML()\n",
    "    box = VBox(children=[label, progress])\n",
    "    display(box)\n",
    "\n",
    "    index = 0\n",
    "    try:\n",
    "        for index, record in enumerate(sequence, 1):\n",
    "            if index == 1 or index % every == 0:\n",
    "                if is_iterator:\n",
    "                    label.value = '{name}: {index} / ?'.format(\n",
    "                        name=name,\n",
    "                        index=index\n",
    "                    )\n",
    "                else:\n",
    "                    progress.value = index\n",
    "                    label.value = u'{name}: {index} / {size}'.format(\n",
    "                        name=name,\n",
    "                        index=index,\n",
    "                        size=size\n",
    "                    )\n",
    "            yield record\n",
    "    except:\n",
    "        progress.bar_style = 'danger'\n",
    "        raise\n",
    "    else:\n",
    "        progress.bar_style = 'success'\n",
    "        progress.value = index\n",
    "        label.value = \"{name}: {index}\".format(\n",
    "            name=name,\n",
    "            index=str(index or '?')\n",
    "        )"
   ]
  },
  {
   "cell_type": "code",
   "execution_count": 178,
   "metadata": {},
   "outputs": [
    {
     "data": {
      "text/plain": [
       "125432"
      ]
     },
     "execution_count": 178,
     "metadata": {},
     "output_type": "execute_result"
    }
   ],
   "source": [
    "len(url_list)"
   ]
  },
  {
   "cell_type": "code",
   "execution_count": null,
   "metadata": {},
   "outputs": [
    {
     "data": {
      "application/vnd.jupyter.widget-view+json": {
       "model_id": "664fe81e46d44724b9fd6e0cb19a8b57",
       "version_major": 2,
       "version_minor": 0
      },
      "text/plain": [
       "VBox(children=(HTML(value=''), IntProgress(value=0, max=116201)))"
      ]
     },
     "metadata": {},
     "output_type": "display_data"
    }
   ],
   "source": [
    "for i in log_progress(range(5643+3588,len(url_list))):\n",
    "    info_list.append(get_info_from_page(url_list[i]))\n"
   ]
  },
  {
   "cell_type": "code",
   "execution_count": 184,
   "metadata": {},
   "outputs": [
    {
     "data": {
      "text/plain": [
       "305898"
      ]
     },
     "execution_count": 184,
     "metadata": {},
     "output_type": "execute_result"
    }
   ],
   "source": [
    "len(info_list)"
   ]
  },
  {
   "cell_type": "code",
   "execution_count": null,
   "metadata": {},
   "outputs": [],
   "source": []
  },
  {
   "cell_type": "code",
   "execution_count": 185,
   "metadata": {},
   "outputs": [],
   "source": [
    "filename = \"genius_side_tables_and_lyrics\"\n",
    "outfile = open(filename,'wb')\n",
    "pickle.dump(info_list, outfile)\n",
    "outfile.close()"
   ]
  },
  {
   "cell_type": "code",
   "execution_count": null,
   "metadata": {},
   "outputs": [],
   "source": []
  }
 ],
 "metadata": {
  "kernelspec": {
   "display_name": "conda_python3",
   "language": "python",
   "name": "conda_python3"
  },
  "language_info": {
   "codemirror_mode": {
    "name": "ipython",
    "version": 3
   },
   "file_extension": ".py",
   "mimetype": "text/x-python",
   "name": "python",
   "nbconvert_exporter": "python",
   "pygments_lexer": "ipython3",
   "version": "3.6.5"
  }
 },
 "nbformat": 4,
 "nbformat_minor": 2
}
