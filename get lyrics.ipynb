{
 "cells": [
  {
   "cell_type": "code",
   "execution_count": 2,
   "metadata": {},
   "outputs": [],
   "source": [
    "from bs4 import BeautifulSoup\n",
    "import requests\n",
    "import pandas as pd\n",
    "import re\n",
    "import numpy as np"
   ]
  },
  {
   "cell_type": "code",
   "execution_count": 3,
   "metadata": {},
   "outputs": [],
   "source": [
    "songs = pd.read_csv(\"songs.csv\")"
   ]
  },
  {
   "cell_type": "code",
   "execution_count": 5,
   "metadata": {},
   "outputs": [
    {
     "data": {
      "text/html": [
       "<div>\n",
       "<style scoped>\n",
       "    .dataframe tbody tr th:only-of-type {\n",
       "        vertical-align: middle;\n",
       "    }\n",
       "\n",
       "    .dataframe tbody tr th {\n",
       "        vertical-align: top;\n",
       "    }\n",
       "\n",
       "    .dataframe thead th {\n",
       "        text-align: right;\n",
       "    }\n",
       "</style>\n",
       "<table border=\"1\" class=\"dataframe\">\n",
       "  <thead>\n",
       "    <tr style=\"text-align: right;\">\n",
       "      <th></th>\n",
       "      <th>track</th>\n",
       "      <th>artist</th>\n",
       "    </tr>\n",
       "  </thead>\n",
       "  <tbody>\n",
       "    <tr>\n",
       "      <th>0</th>\n",
       "      <td>\"Yuck!\"  (featuring  Lil Wayne )</td>\n",
       "      <td>2 Chainz</td>\n",
       "    </tr>\n",
       "    <tr>\n",
       "      <th>1</th>\n",
       "      <td>\"Crack\"</td>\n",
       "      <td>2 Chainz</td>\n",
       "    </tr>\n",
       "    <tr>\n",
       "      <th>2</th>\n",
       "      <td>\"Dope Peddler\"</td>\n",
       "      <td>2 Chainz</td>\n",
       "    </tr>\n",
       "    <tr>\n",
       "      <th>3</th>\n",
       "      <td>\" No Lie \"  (featuring  Drake )</td>\n",
       "      <td>2 Chainz</td>\n",
       "    </tr>\n",
       "    <tr>\n",
       "      <th>4</th>\n",
       "      <td>\" Birthday Song \"  (featuring  Kanye West )</td>\n",
       "      <td>2 Chainz</td>\n",
       "    </tr>\n",
       "  </tbody>\n",
       "</table>\n",
       "</div>"
      ],
      "text/plain": [
       "                                            track    artist\n",
       "0              \"Yuck!\"  (featuring  Lil Wayne )    2 Chainz\n",
       "1                                        \"Crack\"   2 Chainz\n",
       "2                                 \"Dope Peddler\"   2 Chainz\n",
       "3               \" No Lie \"  (featuring  Drake )    2 Chainz\n",
       "4   \" Birthday Song \"  (featuring  Kanye West )    2 Chainz"
      ]
     },
     "execution_count": 5,
     "metadata": {},
     "output_type": "execute_result"
    }
   ],
   "source": [
    "songs.head()"
   ]
  },
  {
   "cell_type": "code",
   "execution_count": 47,
   "metadata": {},
   "outputs": [],
   "source": [
    "def clean_track(track):\n",
    "    s = track\n",
    "    s = re.sub(r'\\(([^\\)]+)\\)','',s)\n",
    "    \n",
    "    s= re.sub(r'\\\"','',s )\n",
    "    s = re.sub(r'[!?]','',s)\n",
    "    s = re.sub(r'[./]+',' ',s)\n",
    "    s = s.strip()\n",
    "    s = s.replace(\" \",\"-\")\n",
    "    s=s.lower()\n",
    "    return s"
   ]
  },
  {
   "cell_type": "code",
   "execution_count": 48,
   "metadata": {},
   "outputs": [],
   "source": [
    "songs[\"genius_track\"] = songs[\"track\"].apply(clean_track)"
   ]
  },
  {
   "cell_type": "code",
   "execution_count": 55,
   "metadata": {},
   "outputs": [],
   "source": [
    "def genius_artist(name):\n",
    "    name =name[0]+name[1:].lower()\n",
    "    name= name.replace(\" \",\"-\")\n",
    "    return name"
   ]
  },
  {
   "cell_type": "code",
   "execution_count": 56,
   "metadata": {},
   "outputs": [
    {
     "data": {
      "text/plain": [
       "'2-chainz'"
      ]
     },
     "execution_count": 56,
     "metadata": {},
     "output_type": "execute_result"
    }
   ],
   "source": [
    "genius_artist(\"2 Chainz\")"
   ]
  },
  {
   "cell_type": "code",
   "execution_count": 58,
   "metadata": {},
   "outputs": [],
   "source": [
    "songs[\"genius_artist\"] = songs[\"artist\"].apply(genius_artist)"
   ]
  },
  {
   "cell_type": "code",
   "execution_count": 134,
   "metadata": {},
   "outputs": [],
   "source": [
    "def get_lyrics(genius_artist,genius_track):\n",
    "    base = 'https://genius.com/'\n",
    "    url = base+genius_artist+\"-\"+genius_track+\"-lyrics\"\n",
    "    page = requests.get(url)\n",
    "    soup = BeautifulSoup(page.text,'html.parser')\n",
    "    try:\n",
    "        p = soup.find_all(\"p\")\n",
    "        s = p[0].text\n",
    "        s = re.sub(r'\\[.*?\\]','',s)\n",
    "        s = s.split(\"\\n\")\n",
    "        s = [ x for x in s if x != \"\"]\n",
    "        return s\n",
    "    except:\n",
    "        return \"error\""
   ]
  },
  {
   "cell_type": "code",
   "execution_count": 135,
   "metadata": {},
   "outputs": [],
   "source": [
    "soup = get_lyrics(songs[\"genius_artist\"][0], songs[\"genius_track\"][0])"
   ]
  },
  {
   "cell_type": "code",
   "execution_count": 136,
   "metadata": {},
   "outputs": [
    {
     "data": {
      "text/html": [
       "<div>\n",
       "<style scoped>\n",
       "    .dataframe tbody tr th:only-of-type {\n",
       "        vertical-align: middle;\n",
       "    }\n",
       "\n",
       "    .dataframe tbody tr th {\n",
       "        vertical-align: top;\n",
       "    }\n",
       "\n",
       "    .dataframe thead th {\n",
       "        text-align: right;\n",
       "    }\n",
       "</style>\n",
       "<table border=\"1\" class=\"dataframe\">\n",
       "  <thead>\n",
       "    <tr style=\"text-align: right;\">\n",
       "      <th></th>\n",
       "      <th>track</th>\n",
       "      <th>artist</th>\n",
       "      <th>genius_track</th>\n",
       "      <th>genius_artist</th>\n",
       "    </tr>\n",
       "  </thead>\n",
       "  <tbody>\n",
       "    <tr>\n",
       "      <th>0</th>\n",
       "      <td>\"Yuck!\"  (featuring  Lil Wayne )</td>\n",
       "      <td>2 Chainz</td>\n",
       "      <td>yuck</td>\n",
       "      <td>2-chainz</td>\n",
       "    </tr>\n",
       "    <tr>\n",
       "      <th>1</th>\n",
       "      <td>\"Crack\"</td>\n",
       "      <td>2 Chainz</td>\n",
       "      <td>crack</td>\n",
       "      <td>2-chainz</td>\n",
       "    </tr>\n",
       "    <tr>\n",
       "      <th>2</th>\n",
       "      <td>\"Dope Peddler\"</td>\n",
       "      <td>2 Chainz</td>\n",
       "      <td>dope-peddler</td>\n",
       "      <td>2-chainz</td>\n",
       "    </tr>\n",
       "    <tr>\n",
       "      <th>3</th>\n",
       "      <td>\" No Lie \"  (featuring  Drake )</td>\n",
       "      <td>2 Chainz</td>\n",
       "      <td>no-lie</td>\n",
       "      <td>2-chainz</td>\n",
       "    </tr>\n",
       "    <tr>\n",
       "      <th>4</th>\n",
       "      <td>\" Birthday Song \"  (featuring  Kanye West )</td>\n",
       "      <td>2 Chainz</td>\n",
       "      <td>birthday-song</td>\n",
       "      <td>2-chainz</td>\n",
       "    </tr>\n",
       "  </tbody>\n",
       "</table>\n",
       "</div>"
      ],
      "text/plain": [
       "                                            track    artist   genius_track  \\\n",
       "0              \"Yuck!\"  (featuring  Lil Wayne )    2 Chainz           yuck   \n",
       "1                                        \"Crack\"   2 Chainz          crack   \n",
       "2                                 \"Dope Peddler\"   2 Chainz   dope-peddler   \n",
       "3               \" No Lie \"  (featuring  Drake )    2 Chainz         no-lie   \n",
       "4   \" Birthday Song \"  (featuring  Kanye West )    2 Chainz  birthday-song   \n",
       "\n",
       "  genius_artist  \n",
       "0      2-chainz  \n",
       "1      2-chainz  \n",
       "2      2-chainz  \n",
       "3      2-chainz  \n",
       "4      2-chainz  "
      ]
     },
     "execution_count": 136,
     "metadata": {},
     "output_type": "execute_result"
    }
   ],
   "source": [
    "songs.head()"
   ]
  },
  {
   "cell_type": "code",
   "execution_count": 137,
   "metadata": {},
   "outputs": [],
   "source": [
    "test= songs[0:6000]\n"
   ]
  },
  {
   "cell_type": "code",
   "execution_count": 139,
   "metadata": {},
   "outputs": [
    {
     "name": "stderr",
     "output_type": "stream",
     "text": [
      "C:\\Users\\cwcol\\Anaconda3\\lib\\site-packages\\ipykernel_launcher.py:1: SettingWithCopyWarning: \n",
      "A value is trying to be set on a copy of a slice from a DataFrame.\n",
      "Try using .loc[row_indexer,col_indexer] = value instead\n",
      "\n",
      "See the caveats in the documentation: http://pandas.pydata.org/pandas-docs/stable/indexing.html#indexing-view-versus-copy\n",
      "  \"\"\"Entry point for launching an IPython kernel.\n"
     ]
    }
   ],
   "source": [
    "test[\"lyrics\"] = test.apply(lambda x : get_lyrics(x[\"genius_artist\"], x[\"genius_track\"]), axis=1)"
   ]
  },
  {
   "cell_type": "code",
   "execution_count": 141,
   "metadata": {},
   "outputs": [],
   "source": [
    "test.to_csv(\"test_songs.csv\", index=False)"
   ]
  },
  {
   "cell_type": "code",
   "execution_count": 144,
   "metadata": {},
   "outputs": [
    {
     "data": {
      "text/plain": [
       "list"
      ]
     },
     "execution_count": 144,
     "metadata": {},
     "output_type": "execute_result"
    }
   ],
   "source": [
    "type(test[\"lyrics\"][0])"
   ]
  },
  {
   "cell_type": "code",
   "execution_count": 146,
   "metadata": {},
   "outputs": [],
   "source": [
    "import pickle\n",
    "\n",
    "with open('test_lyrics', 'wb') as fp:\n",
    "    pickle.dump(test, fp)"
   ]
  },
  {
   "cell_type": "code",
   "execution_count": null,
   "metadata": {},
   "outputs": [],
   "source": []
  }
 ],
 "metadata": {
  "kernelspec": {
   "display_name": "Python 3",
   "language": "python",
   "name": "python3"
  },
  "language_info": {
   "codemirror_mode": {
    "name": "ipython",
    "version": 3
   },
   "file_extension": ".py",
   "mimetype": "text/x-python",
   "name": "python",
   "nbconvert_exporter": "python",
   "pygments_lexer": "ipython3",
   "version": "3.6.5"
  }
 },
 "nbformat": 4,
 "nbformat_minor": 2
}
