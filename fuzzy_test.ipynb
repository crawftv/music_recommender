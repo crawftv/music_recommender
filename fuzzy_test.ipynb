{
 "cells": [
  {
   "cell_type": "code",
   "execution_count": 2,
   "metadata": {},
   "outputs": [
    {
     "name": "stdout",
     "output_type": "stream",
     "text": [
      "Collecting fuzzywuzzy\n",
      "  Downloading https://files.pythonhosted.org/packages/d8/f1/5a267addb30ab7eaa1beab2b9323073815da4551076554ecc890a3595ec9/fuzzywuzzy-0.17.0-py2.py3-none-any.whl\n",
      "Installing collected packages: fuzzywuzzy\n",
      "Successfully installed fuzzywuzzy-0.17.0\n",
      "\u001b[33mYou are using pip version 10.0.1, however version 19.0.3 is available.\n",
      "You should consider upgrading via the 'pip install --upgrade pip' command.\u001b[0m\n",
      "Requirement already satisfied: fuzzywuzzy[speedup] in /home/ec2-user/anaconda3/envs/python3/lib/python3.6/site-packages (0.17.0)\n",
      "Collecting python-levenshtein>=0.12; extra == \"speedup\" (from fuzzywuzzy[speedup])\n",
      "\u001b[?25l  Downloading https://files.pythonhosted.org/packages/42/a9/d1785c85ebf9b7dfacd08938dd028209c34a0ea3b1bcdb895208bd40a67d/python-Levenshtein-0.12.0.tar.gz (48kB)\n",
      "\u001b[K    100% |████████████████████████████████| 51kB 2.3MB/s ta 0:00:011\n",
      "\u001b[?25hRequirement already satisfied: setuptools in /home/ec2-user/anaconda3/envs/python3/lib/python3.6/site-packages (from python-levenshtein>=0.12; extra == \"speedup\"->fuzzywuzzy[speedup]) (39.1.0)\n",
      "Building wheels for collected packages: python-levenshtein\n",
      "  Running setup.py bdist_wheel for python-levenshtein ... \u001b[?25ldone\n",
      "\u001b[?25h  Stored in directory: /home/ec2-user/.cache/pip/wheels/de/c2/93/660fd5f7559049268ad2dc6d81c4e39e9e36518766eaf7e342\n",
      "Successfully built python-levenshtein\n",
      "Installing collected packages: python-levenshtein\n",
      "Successfully installed python-levenshtein-0.12.0\n",
      "\u001b[33mYou are using pip version 10.0.1, however version 19.0.3 is available.\n",
      "You should consider upgrading via the 'pip install --upgrade pip' command.\u001b[0m\n"
     ]
    }
   ],
   "source": [
    "!pip install fuzzywuzzy\n",
    "!pip install fuzzywuzzy[speedup]"
   ]
  },
  {
   "cell_type": "code",
   "execution_count": 3,
   "metadata": {},
   "outputs": [],
   "source": [
    "import pandas as pd\n",
    "import pickle\n",
    "import numpy as np"
   ]
  },
  {
   "cell_type": "code",
   "execution_count": 29,
   "metadata": {},
   "outputs": [],
   "source": [
    "filename = 'genius_table_values_and_lyrics'\n",
    "infile = open(filename, 'rb')\n",
    "df = pickle.load(infile)\n",
    "infile.close()"
   ]
  },
  {
   "cell_type": "code",
   "execution_count": 30,
   "metadata": {},
   "outputs": [
    {
     "data": {
      "text/html": [
       "<div>\n",
       "<style scoped>\n",
       "    .dataframe tbody tr th:only-of-type {\n",
       "        vertical-align: middle;\n",
       "    }\n",
       "\n",
       "    .dataframe tbody tr th {\n",
       "        vertical-align: top;\n",
       "    }\n",
       "\n",
       "    .dataframe thead th {\n",
       "        text-align: right;\n",
       "    }\n",
       "</style>\n",
       "<table border=\"1\" class=\"dataframe\">\n",
       "  <thead>\n",
       "    <tr style=\"text-align: right;\">\n",
       "      <th></th>\n",
       "      <th>url</th>\n",
       "      <th>side_table</th>\n",
       "      <th>lyrics</th>\n",
       "    </tr>\n",
       "  </thead>\n",
       "  <tbody>\n",
       "    <tr>\n",
       "      <th>0</th>\n",
       "      <td>https://genius.com/Kanye-west-gone-lyrics</td>\n",
       "      <td>{'Written By': ['https://genius.com/artists/Ch...</td>\n",
       "      <td>[[Produced by Kanye West], [Intro], Wished I h...</td>\n",
       "    </tr>\n",
       "    <tr>\n",
       "      <th>1</th>\n",
       "      <td>https://genius.com/Nicki-minaj-i-am-your-leade...</td>\n",
       "      <td>{'Written By': ['https://genius.com/artists/Fe...</td>\n",
       "      <td>[[Verse 1: Nicki Minaj], Uh, Look sucker, this...</td>\n",
       "    </tr>\n",
       "    <tr>\n",
       "      <th>2</th>\n",
       "      <td>https://genius.com/Lil-kim-crush-on-you-remix-...</td>\n",
       "      <td>{'Written By': ['https://genius.com/artists/An...</td>\n",
       "      <td>[[Intro: Lil' Cease &amp; Lil' Kim], Undeas!, Lil ...</td>\n",
       "    </tr>\n",
       "    <tr>\n",
       "      <th>3</th>\n",
       "      <td>https://genius.com/Camron-hey-ma-lyrics</td>\n",
       "      <td>{'Written By': ['https://genius.com/artists/D-...</td>\n",
       "      <td>[[Chorus: Freekey Zekey (Toya)], Hey ma (wassu...</td>\n",
       "    </tr>\n",
       "    <tr>\n",
       "      <th>4</th>\n",
       "      <td>https://genius.com/Camron-killa-cam-lyrics</td>\n",
       "      <td>{'Written By': ['https://genius.com/artists/Th...</td>\n",
       "      <td>[[Chorus throughout Intro], Killa Cam, Killa C...</td>\n",
       "    </tr>\n",
       "  </tbody>\n",
       "</table>\n",
       "</div>"
      ],
      "text/plain": [
       "                                                 url  \\\n",
       "0          https://genius.com/Kanye-west-gone-lyrics   \n",
       "1  https://genius.com/Nicki-minaj-i-am-your-leade...   \n",
       "2  https://genius.com/Lil-kim-crush-on-you-remix-...   \n",
       "3            https://genius.com/Camron-hey-ma-lyrics   \n",
       "4         https://genius.com/Camron-killa-cam-lyrics   \n",
       "\n",
       "                                          side_table  \\\n",
       "0  {'Written By': ['https://genius.com/artists/Ch...   \n",
       "1  {'Written By': ['https://genius.com/artists/Fe...   \n",
       "2  {'Written By': ['https://genius.com/artists/An...   \n",
       "3  {'Written By': ['https://genius.com/artists/D-...   \n",
       "4  {'Written By': ['https://genius.com/artists/Th...   \n",
       "\n",
       "                                              lyrics  \n",
       "0  [[Produced by Kanye West], [Intro], Wished I h...  \n",
       "1  [[Verse 1: Nicki Minaj], Uh, Look sucker, this...  \n",
       "2  [[Intro: Lil' Cease & Lil' Kim], Undeas!, Lil ...  \n",
       "3  [[Chorus: Freekey Zekey (Toya)], Hey ma (wassu...  \n",
       "4  [[Chorus throughout Intro], Killa Cam, Killa C...  "
      ]
     },
     "execution_count": 30,
     "metadata": {},
     "output_type": "execute_result"
    }
   ],
   "source": [
    "df.head()"
   ]
  },
  {
   "cell_type": "code",
   "execution_count": 31,
   "metadata": {},
   "outputs": [],
   "source": [
    "df[\"song_artist\"] = df[\"url\"].str.replace(\"https://genius.com/\",\"\")\n",
    "df[\"song_artist\"] = df[\"song_artist\"].str.replace(\"-\",\" \")\n",
    "df[\"song_artist\"] = df[\"song_artist\"].str.replace(\"lyrics\",\"\")\n",
    "df[\"song_artist\"] = df[\"song_artist\"].str.replace(\"\\s\",\" \")"
   ]
  },
  {
   "cell_type": "code",
   "execution_count": 32,
   "metadata": {},
   "outputs": [
    {
     "data": {
      "text/html": [
       "<div>\n",
       "<style scoped>\n",
       "    .dataframe tbody tr th:only-of-type {\n",
       "        vertical-align: middle;\n",
       "    }\n",
       "\n",
       "    .dataframe tbody tr th {\n",
       "        vertical-align: top;\n",
       "    }\n",
       "\n",
       "    .dataframe thead th {\n",
       "        text-align: right;\n",
       "    }\n",
       "</style>\n",
       "<table border=\"1\" class=\"dataframe\">\n",
       "  <thead>\n",
       "    <tr style=\"text-align: right;\">\n",
       "      <th></th>\n",
       "      <th>url</th>\n",
       "      <th>side_table</th>\n",
       "      <th>lyrics</th>\n",
       "      <th>song_artist</th>\n",
       "    </tr>\n",
       "  </thead>\n",
       "  <tbody>\n",
       "    <tr>\n",
       "      <th>0</th>\n",
       "      <td>https://genius.com/Kanye-west-gone-lyrics</td>\n",
       "      <td>{'Written By': ['https://genius.com/artists/Ch...</td>\n",
       "      <td>[[Produced by Kanye West], [Intro], Wished I h...</td>\n",
       "      <td>Kanye west gone</td>\n",
       "    </tr>\n",
       "    <tr>\n",
       "      <th>1</th>\n",
       "      <td>https://genius.com/Nicki-minaj-i-am-your-leade...</td>\n",
       "      <td>{'Written By': ['https://genius.com/artists/Fe...</td>\n",
       "      <td>[[Verse 1: Nicki Minaj], Uh, Look sucker, this...</td>\n",
       "      <td>Nicki minaj i am your leader</td>\n",
       "    </tr>\n",
       "    <tr>\n",
       "      <th>2</th>\n",
       "      <td>https://genius.com/Lil-kim-crush-on-you-remix-...</td>\n",
       "      <td>{'Written By': ['https://genius.com/artists/An...</td>\n",
       "      <td>[[Intro: Lil' Cease &amp; Lil' Kim], Undeas!, Lil ...</td>\n",
       "      <td>Lil kim crush on you remix</td>\n",
       "    </tr>\n",
       "    <tr>\n",
       "      <th>3</th>\n",
       "      <td>https://genius.com/Camron-hey-ma-lyrics</td>\n",
       "      <td>{'Written By': ['https://genius.com/artists/D-...</td>\n",
       "      <td>[[Chorus: Freekey Zekey (Toya)], Hey ma (wassu...</td>\n",
       "      <td>Camron hey ma</td>\n",
       "    </tr>\n",
       "    <tr>\n",
       "      <th>4</th>\n",
       "      <td>https://genius.com/Camron-killa-cam-lyrics</td>\n",
       "      <td>{'Written By': ['https://genius.com/artists/Th...</td>\n",
       "      <td>[[Chorus throughout Intro], Killa Cam, Killa C...</td>\n",
       "      <td>Camron killa cam</td>\n",
       "    </tr>\n",
       "  </tbody>\n",
       "</table>\n",
       "</div>"
      ],
      "text/plain": [
       "                                                 url  \\\n",
       "0          https://genius.com/Kanye-west-gone-lyrics   \n",
       "1  https://genius.com/Nicki-minaj-i-am-your-leade...   \n",
       "2  https://genius.com/Lil-kim-crush-on-you-remix-...   \n",
       "3            https://genius.com/Camron-hey-ma-lyrics   \n",
       "4         https://genius.com/Camron-killa-cam-lyrics   \n",
       "\n",
       "                                          side_table  \\\n",
       "0  {'Written By': ['https://genius.com/artists/Ch...   \n",
       "1  {'Written By': ['https://genius.com/artists/Fe...   \n",
       "2  {'Written By': ['https://genius.com/artists/An...   \n",
       "3  {'Written By': ['https://genius.com/artists/D-...   \n",
       "4  {'Written By': ['https://genius.com/artists/Th...   \n",
       "\n",
       "                                              lyrics  \\\n",
       "0  [[Produced by Kanye West], [Intro], Wished I h...   \n",
       "1  [[Verse 1: Nicki Minaj], Uh, Look sucker, this...   \n",
       "2  [[Intro: Lil' Cease & Lil' Kim], Undeas!, Lil ...   \n",
       "3  [[Chorus: Freekey Zekey (Toya)], Hey ma (wassu...   \n",
       "4  [[Chorus throughout Intro], Killa Cam, Killa C...   \n",
       "\n",
       "                     song_artist  \n",
       "0               Kanye west gone   \n",
       "1  Nicki minaj i am your leader   \n",
       "2    Lil kim crush on you remix   \n",
       "3                 Camron hey ma   \n",
       "4              Camron killa cam   "
      ]
     },
     "execution_count": 32,
     "metadata": {},
     "output_type": "execute_result"
    }
   ],
   "source": [
    "df.head()"
   ]
  },
  {
   "cell_type": "code",
   "execution_count": 33,
   "metadata": {},
   "outputs": [],
   "source": [
    "songs = list(df[\"song_artist\"])"
   ]
  },
  {
   "cell_type": "code",
   "execution_count": 36,
   "metadata": {},
   "outputs": [
    {
     "data": {
      "text/plain": [
       "[('Wu tang clan triumph ', 95, 352),\n",
       " ('Wu tang clan da mystery of chessboxin ', 86, 353),\n",
       " ('Wu tang clan protect ya neck ', 86, 354),\n",
       " ('Wu tang clan method man ', 86, 355),\n",
       " ('Wu tang clan bring da ruckus ', 86, 356),\n",
       " ('Wu tang clan wu tang clan aint nuthing ta fuck wit ', 86, 358),\n",
       " ('Wu tang clan shame on a nigga ', 86, 359),\n",
       " ('Wu tang clan wu tang 7th chamber ', 86, 363),\n",
       " ('Wu tang clan clan in da front ', 86, 365),\n",
       " ('Wu tang clan can it be all so simple intermission ', 86, 366)]"
      ]
     },
     "execution_count": 36,
     "metadata": {},
     "output_type": "execute_result"
    }
   ],
   "source": [
    "from fuzzywuzzy import process\n",
    "process.extract(\"Wu tang triumph\", df[\"song_artist\"], limit =10)"
   ]
  },
  {
   "cell_type": "code",
   "execution_count": 37,
   "metadata": {},
   "outputs": [
    {
     "data": {
      "text/plain": [
       "url            https://genius.com/Wu-tang-clan-bring-da-rucku...\n",
       "side_table     {'Written By': ['https://genius.com/artists/Rz...\n",
       "lyrics         [[Intro: Sample from Shaolin vs. Wu Tang], “Sh...\n",
       "song_artist                        Wu tang clan bring da ruckus \n",
       "Name: 356, dtype: object"
      ]
     },
     "execution_count": 37,
     "metadata": {},
     "output_type": "execute_result"
    }
   ],
   "source": [
    "df.iloc[353]"
   ]
  },
  {
   "cell_type": "code",
   "execution_count": null,
   "metadata": {},
   "outputs": [],
   "source": []
  }
 ],
 "metadata": {
  "kernelspec": {
   "display_name": "conda_python3",
   "language": "python",
   "name": "conda_python3"
  },
  "language_info": {
   "codemirror_mode": {
    "name": "ipython",
    "version": 3
   },
   "file_extension": ".py",
   "mimetype": "text/x-python",
   "name": "python",
   "nbconvert_exporter": "python",
   "pygments_lexer": "ipython3",
   "version": "3.6.5"
  }
 },
 "nbformat": 4,
 "nbformat_minor": 2
}
